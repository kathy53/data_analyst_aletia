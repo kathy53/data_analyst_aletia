{
 "cells": [
  {
   "cell_type": "markdown",
   "id": "7cff210d-4f1c-4bf0-aaa2-a90cfd454f5c",
   "metadata": {},
   "source": [
    "# EDA about \"houses price web Scraping Mexico\" dataset  "
   ]
  },
  {
   "cell_type": "markdown",
   "id": "03d540ec-87f0-4ec0-86ec-1545d5aa277a",
   "metadata": {},
   "source": [
    "Through EDA, we first get familiar with the dataset, clean it and find relationships between its features (columns). It was performed using Python over a dataset from Kaggle (https://www.kaggle.com/datasets/jeanpierrebetancourt/houses-price-web-scraping-mexicopresented). The analysis consists of four sections. \\\n",
    "In the first section, packages and data were loaded. After the loadings, I defined functions. In the next section, we can get familiar with the data, for example, knowing the nature of variables, statistics, and if there are missing values. The third section is about modifying data, for example, dropping some non-use columns or outliers values. At the same time, are shown data distributions and statistical visualizations. After some changes to the data, we found some relationships in the \"Relationship analysis\" based on the correlation matrix, which could be used to determine the next analysis in this case to impute missing values.  Finally, some conclusions and details for further analysis are presented.\n"
   ]
  },
  {
   "cell_type": "markdown",
   "id": "94fa26b0-5c75-4b12-9cf6-186cf78b6d52",
   "metadata": {},
   "source": [
    "### 0. Loading packages and data. Functions"
   ]
  },
  {
   "cell_type": "code",
   "execution_count": 1,
   "id": "8e634187-5478-4ee3-a0fe-036fe6289490",
   "metadata": {},
   "outputs": [],
   "source": [
    "import pandas as pd\n",
    "import numpy as np\n",
    "import matplotlib.pyplot as plt\n",
    "import seaborn as sns\n",
    "import scipy.stats"
   ]
  },
  {
   "cell_type": "markdown",
   "id": "1a066848-9a52-4a77-ad08-4693e5bcfab6",
   "metadata": {},
   "source": [
    "__Functions__"
   ]
  },
  {
   "cell_type": "code",
   "execution_count": 2,
   "id": "8b377fcc-49a2-4cbf-9001-755af3cb3657",
   "metadata": {},
   "outputs": [],
   "source": [
    "def diagonal_matrix(matrix):\n",
    "    \"\"\" This function show the inferior diagonal values of the correlation matrix\n",
    "        Arguments\n",
    "        matrix: dataset use to compute the correlation matrix and to show only the inferior diagonal \n",
    "        Return\n",
    "        The inferior diagonal values of the correlation matrix\n",
    "    \"\"\"\n",
    "    matrix = matrix.corr()\n",
    "    mask = np.zeros_like(matrix, dtype=bool) #array of zeros with the same shape and type as correlation_data\n",
    "    mask[np.triu_indices_from(mask)] = True            #overrides the data type\n",
    "    matrix[mask] = np.nan                    #convert the upper diagonal of the matrix with Nan values\n",
    "    return (matrix\n",
    "     .style\n",
    "     .background_gradient(cmap='Reds', axis=None, vmin=-1, vmax=1)\n",
    "     .highlight_null(null_color='#f1f1f1')  # Color NaNs grey\n",
    "     .set_precision(2))"
   ]
  },
  {
   "cell_type": "code",
   "execution_count": 3,
   "id": "5eea7bc8-17bc-49a1-98ff-7e7e1c7d78c7",
   "metadata": {},
   "outputs": [],
   "source": [
    "def d_gamma(data, feature):\n",
    "    \"\"\"Fitting the data with a Gamma distribution\n",
    "       Args\n",
    "         data: (dataframe column) feature of the dataset to fit, continuous variable \n",
    "         feature: (string) the name of the dataframe column to fit\n",
    "         Return\n",
    "         Plot with two curves, one for the data and for the fit values\n",
    "         NOTES \n",
    "           * If data has missing values the method could rise an error, then we drop those values.\n",
    "           * We use the median value of the data as a firts guess for the distribution's location\n",
    "         \n",
    "    \"\"\"\n",
    "    [a_fit, loc_fit, scale_fit] = scipy.stats.gamma.fit(data.dropna(), loc= X.median())  \n",
    "    #print(\"The fitting parameters are: \\n{} \\n{} \\n{}\".format(a_fit, loc_fit, scale_fit))\n",
    "    x = np.linspace(min(X), max(X), num = 1646)            #array of x values, in the same range for area values\n",
    "    X.plot(kind=\"kde\", label =\"Data\")          #density curve for Area\n",
    "    s=feature + ' Distribution for the data_4 dataset'\n",
    "    plt.title(s)\n",
    "    plt.plot(x, scipy.stats.gamma.pdf(x, a_fit, loc= loc_fit, scale= scale_fit), label =\"Fitting Gamma\")\n",
    "                                           #gamma dsitribution\n",
    "    plt.legend()\n",
    "    plt.show()\n",
    "    print(\"#############################\\np-value:\\n\", scipy.stats.kstest(X, 'gamma', args=(a_fit, loc_fit, scale_fit))[1])"
   ]
  },
  {
   "cell_type": "code",
   "execution_count": 4,
   "id": "c9e5c5c3-ffb1-4d34-8e58-35b8550139d3",
   "metadata": {},
   "outputs": [],
   "source": [
    "\n",
    "def loss_function(params, data_in):\n",
    "    \"\"\"\n",
    "    The discrete distributions in scipy.stats don't have the fit method, then we are going to develop a method to get the fitting parameters\n",
    "    For the Poisson Distribution it is only required one value, the median\n",
    "    Arguments\n",
    "      Params: it could be more than one parameter\n",
    "      data_in: data to fit\n",
    "      \n",
    "    NOTE the goal is to find the parameter mu that minimizes the loss, i.e. minimizes how far off our distribution is from our dataset \n",
    "    \"\"\"\n",
    "    mu = params[0]       #standar name\n",
    "    loss = 0\n",
    "    #The idea behind this is the log likelihood that is a measure of how likely it is to  see your data point given some underlying distribution\n",
    "    #Here we are basically taking the log to make the numbers just easier to deal with\n",
    "    data=data_in\n",
    "    loglikelihood=0\n",
    "    for i in range(len(data)):\n",
    "        loglikelihood = scipy.stats.poisson.logpmf(data[i], mu)\n",
    "        #since it is a loss function we would like to maximize it \n",
    "        loss_to_add = -loglikelihood\n",
    "        loss += loss_to_add\n",
    "    return(loss)"
   ]
  },
  {
   "cell_type": "markdown",
   "id": "4a531d3d-ebde-4415-bf8f-f7dcdc86da55",
   "metadata": {},
   "source": [
    "_________________________________________\n",
    "__Loading data__"
   ]
  },
  {
   "cell_type": "code",
   "execution_count": 5,
   "id": "99ff263f-fbae-4e38-83e1-8185ad830cb7",
   "metadata": {},
   "outputs": [],
   "source": [
    "#loading data \n",
    "data = pd.read_csv(\"Casa_toluca.csv\")"
   ]
  },
  {
   "cell_type": "markdown",
   "id": "82fe35d5-beb0-426c-99b0-5121189a29fa",
   "metadata": {},
   "source": [
    "### 1. Getting familiar with data (Data information)"
   ]
  },
  {
   "cell_type": "code",
   "execution_count": 6,
   "id": "cd91dd67-2f38-48d8-9347-1753fe8720a4",
   "metadata": {},
   "outputs": [
    {
     "data": {
      "text/html": [
       "<div>\n",
       "<style scoped>\n",
       "    .dataframe tbody tr th:only-of-type {\n",
       "        vertical-align: middle;\n",
       "    }\n",
       "\n",
       "    .dataframe tbody tr th {\n",
       "        vertical-align: top;\n",
       "    }\n",
       "\n",
       "    .dataframe thead th {\n",
       "        text-align: right;\n",
       "    }\n",
       "</style>\n",
       "<table border=\"1\" class=\"dataframe\">\n",
       "  <thead>\n",
       "    <tr style=\"text-align: right;\">\n",
       "      <th></th>\n",
       "      <th>Unnamed: 0</th>\n",
       "      <th>Unnamed: 0.1</th>\n",
       "      <th>Unnamed: 0.1.1</th>\n",
       "      <th>Ubicación</th>\n",
       "      <th>Area</th>\n",
       "      <th>Baños</th>\n",
       "      <th>Habitaciones</th>\n",
       "      <th>Precio</th>\n",
       "    </tr>\n",
       "  </thead>\n",
       "  <tbody>\n",
       "    <tr>\n",
       "      <th>0</th>\n",
       "      <td>0</td>\n",
       "      <td>0</td>\n",
       "      <td>0</td>\n",
       "      <td>Casa en Venta Los Serrados\\n, Toluca De Lerdo,...</td>\n",
       "      <td>105.0</td>\n",
       "      <td>2.0</td>\n",
       "      <td>3.0</td>\n",
       "      <td>130000.0</td>\n",
       "    </tr>\n",
       "    <tr>\n",
       "      <th>1</th>\n",
       "      <td>1</td>\n",
       "      <td>1</td>\n",
       "      <td>1</td>\n",
       "      <td>Casa en Venta Tierra Y Libertad #114\\n, Toluca...</td>\n",
       "      <td>115.0</td>\n",
       "      <td>2.0</td>\n",
       "      <td>3.0</td>\n",
       "      <td>50800.0</td>\n",
       "    </tr>\n",
       "    <tr>\n",
       "      <th>2</th>\n",
       "      <td>2</td>\n",
       "      <td>2</td>\n",
       "      <td>2</td>\n",
       "      <td>Casa en Venta Toluca De Lerdo, México</td>\n",
       "      <td>700.0</td>\n",
       "      <td>3.0</td>\n",
       "      <td>3.0</td>\n",
       "      <td>325000.0</td>\n",
       "    </tr>\n",
       "    <tr>\n",
       "      <th>3</th>\n",
       "      <td>3</td>\n",
       "      <td>3</td>\n",
       "      <td>3</td>\n",
       "      <td>Casa en Venta Granjas, Toluca De Lerdo</td>\n",
       "      <td>390.0</td>\n",
       "      <td>3.0</td>\n",
       "      <td>4.0</td>\n",
       "      <td>275000.0</td>\n",
       "    </tr>\n",
       "    <tr>\n",
       "      <th>4</th>\n",
       "      <td>4</td>\n",
       "      <td>4</td>\n",
       "      <td>4</td>\n",
       "      <td>Casa en Venta Toluca De Lerdo, México</td>\n",
       "      <td>300.0</td>\n",
       "      <td>4.0</td>\n",
       "      <td>3.0</td>\n",
       "      <td>215000.0</td>\n",
       "    </tr>\n",
       "  </tbody>\n",
       "</table>\n",
       "</div>"
      ],
      "text/plain": [
       "   Unnamed: 0  Unnamed: 0.1  Unnamed: 0.1.1  \\\n",
       "0           0             0               0   \n",
       "1           1             1               1   \n",
       "2           2             2               2   \n",
       "3           3             3               3   \n",
       "4           4             4               4   \n",
       "\n",
       "                                           Ubicación   Area  Baños  \\\n",
       "0  Casa en Venta Los Serrados\\n, Toluca De Lerdo,...  105.0    2.0   \n",
       "1  Casa en Venta Tierra Y Libertad #114\\n, Toluca...  115.0    2.0   \n",
       "2              Casa en Venta Toluca De Lerdo, México  700.0    3.0   \n",
       "3             Casa en Venta Granjas, Toluca De Lerdo  390.0    3.0   \n",
       "4              Casa en Venta Toluca De Lerdo, México  300.0    4.0   \n",
       "\n",
       "   Habitaciones    Precio  \n",
       "0           3.0  130000.0  \n",
       "1           3.0   50800.0  \n",
       "2           3.0  325000.0  \n",
       "3           4.0  275000.0  \n",
       "4           3.0  215000.0  "
      ]
     },
     "execution_count": 6,
     "metadata": {},
     "output_type": "execute_result"
    }
   ],
   "source": [
    "#first rows (records)\n",
    "data.head()"
   ]
  },
  {
   "cell_type": "code",
   "execution_count": 7,
   "id": "216427ed-6cb5-411a-aadb-036b796f1e6b",
   "metadata": {},
   "outputs": [
    {
     "data": {
      "text/html": [
       "<div>\n",
       "<style scoped>\n",
       "    .dataframe tbody tr th:only-of-type {\n",
       "        vertical-align: middle;\n",
       "    }\n",
       "\n",
       "    .dataframe tbody tr th {\n",
       "        vertical-align: top;\n",
       "    }\n",
       "\n",
       "    .dataframe thead th {\n",
       "        text-align: right;\n",
       "    }\n",
       "</style>\n",
       "<table border=\"1\" class=\"dataframe\">\n",
       "  <thead>\n",
       "    <tr style=\"text-align: right;\">\n",
       "      <th></th>\n",
       "      <th>Unnamed: 0</th>\n",
       "      <th>Unnamed: 0.1</th>\n",
       "      <th>Unnamed: 0.1.1</th>\n",
       "      <th>Ubicación</th>\n",
       "      <th>Area</th>\n",
       "      <th>Baños</th>\n",
       "      <th>Habitaciones</th>\n",
       "      <th>Precio</th>\n",
       "    </tr>\n",
       "  </thead>\n",
       "  <tbody>\n",
       "    <tr>\n",
       "      <th>1999</th>\n",
       "      <td>1999</td>\n",
       "      <td>1999</td>\n",
       "      <td>1999</td>\n",
       "      <td>Casa en Venta Toluca De Lerdo, México</td>\n",
       "      <td>190.0</td>\n",
       "      <td>NaN</td>\n",
       "      <td>NaN</td>\n",
       "      <td>60775.0</td>\n",
       "    </tr>\n",
       "    <tr>\n",
       "      <th>2000</th>\n",
       "      <td>2000</td>\n",
       "      <td>2000</td>\n",
       "      <td>2000</td>\n",
       "      <td>Casa en Venta Toluca De Lerdo, México</td>\n",
       "      <td>92.0</td>\n",
       "      <td>NaN</td>\n",
       "      <td>NaN</td>\n",
       "      <td>62330.0</td>\n",
       "    </tr>\n",
       "    <tr>\n",
       "      <th>2001</th>\n",
       "      <td>2001</td>\n",
       "      <td>2001</td>\n",
       "      <td>2001</td>\n",
       "      <td>Casa en Venta Toluca De Lerdo, México</td>\n",
       "      <td>66.0</td>\n",
       "      <td>NaN</td>\n",
       "      <td>NaN</td>\n",
       "      <td>47500.0</td>\n",
       "    </tr>\n",
       "    <tr>\n",
       "      <th>2002</th>\n",
       "      <td>2002</td>\n",
       "      <td>2002</td>\n",
       "      <td>2002</td>\n",
       "      <td>Casa en Venta Toluca De Lerdo, México</td>\n",
       "      <td>42.0</td>\n",
       "      <td>NaN</td>\n",
       "      <td>NaN</td>\n",
       "      <td>13695.0</td>\n",
       "    </tr>\n",
       "    <tr>\n",
       "      <th>2003</th>\n",
       "      <td>2003</td>\n",
       "      <td>2003</td>\n",
       "      <td>2003</td>\n",
       "      <td>Casa en Venta Toluca De Lerdo, México</td>\n",
       "      <td>NaN</td>\n",
       "      <td>NaN</td>\n",
       "      <td>NaN</td>\n",
       "      <td>270250.0</td>\n",
       "    </tr>\n",
       "  </tbody>\n",
       "</table>\n",
       "</div>"
      ],
      "text/plain": [
       "      Unnamed: 0  Unnamed: 0.1  Unnamed: 0.1.1  \\\n",
       "1999        1999          1999            1999   \n",
       "2000        2000          2000            2000   \n",
       "2001        2001          2001            2001   \n",
       "2002        2002          2002            2002   \n",
       "2003        2003          2003            2003   \n",
       "\n",
       "                                  Ubicación   Area  Baños  Habitaciones  \\\n",
       "1999  Casa en Venta Toluca De Lerdo, México  190.0    NaN           NaN   \n",
       "2000  Casa en Venta Toluca De Lerdo, México   92.0    NaN           NaN   \n",
       "2001  Casa en Venta Toluca De Lerdo, México   66.0    NaN           NaN   \n",
       "2002  Casa en Venta Toluca De Lerdo, México   42.0    NaN           NaN   \n",
       "2003  Casa en Venta Toluca De Lerdo, México    NaN    NaN           NaN   \n",
       "\n",
       "        Precio  \n",
       "1999   60775.0  \n",
       "2000   62330.0  \n",
       "2001   47500.0  \n",
       "2002   13695.0  \n",
       "2003  270250.0  "
      ]
     },
     "execution_count": 7,
     "metadata": {},
     "output_type": "execute_result"
    }
   ],
   "source": [
    "#last records\n",
    "data.tail()"
   ]
  },
  {
   "cell_type": "markdown",
   "id": "aea08bba-52d8-4a68-9156-5d8ae193f2cb",
   "metadata": {},
   "source": [
    "* It seems like the first three columns are equal to the index, then we can remove them\n",
    "* Maybe we could split Ubicación and do some deep analysis related with the pice or other attribute\n",
    "* There are missing values in \"Area\", \"Baños\", and \"Habitaciones\" columns \n",
    "__ _________________________________________________________________________________________________________________ __"
   ]
  },
  {
   "cell_type": "code",
   "execution_count": 8,
   "id": "88b43e2d-f8c5-4bcc-a554-713adc1c426b",
   "metadata": {},
   "outputs": [
    {
     "data": {
      "text/plain": [
       "(2004, 8)"
      ]
     },
     "execution_count": 8,
     "metadata": {},
     "output_type": "execute_result"
    }
   ],
   "source": [
    "#DataFrame dimension\n",
    "data.shape"
   ]
  },
  {
   "cell_type": "code",
   "execution_count": 9,
   "id": "84291ee8-b590-456b-b4fe-dac98ee0b799",
   "metadata": {},
   "outputs": [
    {
     "name": "stdout",
     "output_type": "stream",
     "text": [
      "<class 'pandas.core.frame.DataFrame'>\n",
      "RangeIndex: 2004 entries, 0 to 2003\n",
      "Data columns (total 8 columns):\n",
      " #   Column          Non-Null Count  Dtype  \n",
      "---  ------          --------------  -----  \n",
      " 0   Unnamed: 0      2004 non-null   int64  \n",
      " 1   Unnamed: 0.1    2004 non-null   int64  \n",
      " 2   Unnamed: 0.1.1  2004 non-null   int64  \n",
      " 3   Ubicación       2004 non-null   object \n",
      " 4   Area            1721 non-null   float64\n",
      " 5   Baños           1950 non-null   float64\n",
      " 6   Habitaciones    1931 non-null   float64\n",
      " 7   Precio          1999 non-null   float64\n",
      "dtypes: float64(4), int64(3), object(1)\n",
      "memory usage: 125.4+ KB\n"
     ]
    }
   ],
   "source": [
    "data.info()"
   ]
  },
  {
   "cell_type": "markdown",
   "id": "b17ee2f3-4dbc-42e2-b08e-f35d047eb2ff",
   "metadata": {},
   "source": [
    "It will be necessary to handle missing values or delete (2004-1721) records\\\n",
    "The percentage of missing values is:\\\n",
    "Area            14.1217 %\\\n",
    "Baños           2.6946 %\\\n",
    "Habitaciones    3.6427 %\\\n",
    "Precio          0.2495 %\\\n",
    "Considering this percentages we wont need to drop any of these columns\n",
    "__ _________________________________________________________________________________________________________________ __"
   ]
  },
  {
   "cell_type": "code",
   "execution_count": 10,
   "id": "f872934f-7aee-4946-a8b8-37a777d03906",
   "metadata": {},
   "outputs": [
    {
     "data": {
      "text/html": [
       "<div>\n",
       "<style scoped>\n",
       "    .dataframe tbody tr th:only-of-type {\n",
       "        vertical-align: middle;\n",
       "    }\n",
       "\n",
       "    .dataframe tbody tr th {\n",
       "        vertical-align: top;\n",
       "    }\n",
       "\n",
       "    .dataframe thead th {\n",
       "        text-align: right;\n",
       "    }\n",
       "</style>\n",
       "<table border=\"1\" class=\"dataframe\">\n",
       "  <thead>\n",
       "    <tr style=\"text-align: right;\">\n",
       "      <th></th>\n",
       "      <th>Unnamed: 0</th>\n",
       "      <th>Unnamed: 0.1</th>\n",
       "      <th>Unnamed: 0.1.1</th>\n",
       "      <th>Area</th>\n",
       "      <th>Baños</th>\n",
       "      <th>Habitaciones</th>\n",
       "      <th>Precio</th>\n",
       "    </tr>\n",
       "  </thead>\n",
       "  <tbody>\n",
       "    <tr>\n",
       "      <th>count</th>\n",
       "      <td>2004.000000</td>\n",
       "      <td>2004.000000</td>\n",
       "      <td>2004.000000</td>\n",
       "      <td>1721.000000</td>\n",
       "      <td>1950.000000</td>\n",
       "      <td>1931.000000</td>\n",
       "      <td>1.999000e+03</td>\n",
       "    </tr>\n",
       "    <tr>\n",
       "      <th>mean</th>\n",
       "      <td>1001.500000</td>\n",
       "      <td>1001.500000</td>\n",
       "      <td>1001.500000</td>\n",
       "      <td>229.525857</td>\n",
       "      <td>2.496923</td>\n",
       "      <td>3.306059</td>\n",
       "      <td>1.690472e+05</td>\n",
       "    </tr>\n",
       "    <tr>\n",
       "      <th>std</th>\n",
       "      <td>578.649289</td>\n",
       "      <td>578.649289</td>\n",
       "      <td>578.649289</td>\n",
       "      <td>337.245195</td>\n",
       "      <td>3.093504</td>\n",
       "      <td>1.512319</td>\n",
       "      <td>4.067087e+05</td>\n",
       "    </tr>\n",
       "    <tr>\n",
       "      <th>min</th>\n",
       "      <td>0.000000</td>\n",
       "      <td>0.000000</td>\n",
       "      <td>0.000000</td>\n",
       "      <td>10.000000</td>\n",
       "      <td>1.000000</td>\n",
       "      <td>1.000000</td>\n",
       "      <td>1.065305e+04</td>\n",
       "    </tr>\n",
       "    <tr>\n",
       "      <th>25%</th>\n",
       "      <td>500.750000</td>\n",
       "      <td>500.750000</td>\n",
       "      <td>500.750000</td>\n",
       "      <td>113.000000</td>\n",
       "      <td>2.000000</td>\n",
       "      <td>3.000000</td>\n",
       "      <td>5.162500e+04</td>\n",
       "    </tr>\n",
       "    <tr>\n",
       "      <th>50%</th>\n",
       "      <td>1001.500000</td>\n",
       "      <td>1001.500000</td>\n",
       "      <td>1001.500000</td>\n",
       "      <td>165.000000</td>\n",
       "      <td>2.000000</td>\n",
       "      <td>3.000000</td>\n",
       "      <td>9.075000e+04</td>\n",
       "    </tr>\n",
       "    <tr>\n",
       "      <th>75%</th>\n",
       "      <td>1502.250000</td>\n",
       "      <td>1502.250000</td>\n",
       "      <td>1502.250000</td>\n",
       "      <td>250.000000</td>\n",
       "      <td>3.000000</td>\n",
       "      <td>4.000000</td>\n",
       "      <td>1.600000e+05</td>\n",
       "    </tr>\n",
       "    <tr>\n",
       "      <th>max</th>\n",
       "      <td>2003.000000</td>\n",
       "      <td>2003.000000</td>\n",
       "      <td>2003.000000</td>\n",
       "      <td>11111.000000</td>\n",
       "      <td>124.000000</td>\n",
       "      <td>40.000000</td>\n",
       "      <td>1.000000e+07</td>\n",
       "    </tr>\n",
       "  </tbody>\n",
       "</table>\n",
       "</div>"
      ],
      "text/plain": [
       "        Unnamed: 0  Unnamed: 0.1  Unnamed: 0.1.1          Area        Baños  \\\n",
       "count  2004.000000   2004.000000     2004.000000   1721.000000  1950.000000   \n",
       "mean   1001.500000   1001.500000     1001.500000    229.525857     2.496923   \n",
       "std     578.649289    578.649289      578.649289    337.245195     3.093504   \n",
       "min       0.000000      0.000000        0.000000     10.000000     1.000000   \n",
       "25%     500.750000    500.750000      500.750000    113.000000     2.000000   \n",
       "50%    1001.500000   1001.500000     1001.500000    165.000000     2.000000   \n",
       "75%    1502.250000   1502.250000     1502.250000    250.000000     3.000000   \n",
       "max    2003.000000   2003.000000     2003.000000  11111.000000   124.000000   \n",
       "\n",
       "       Habitaciones        Precio  \n",
       "count   1931.000000  1.999000e+03  \n",
       "mean       3.306059  1.690472e+05  \n",
       "std        1.512319  4.067087e+05  \n",
       "min        1.000000  1.065305e+04  \n",
       "25%        3.000000  5.162500e+04  \n",
       "50%        3.000000  9.075000e+04  \n",
       "75%        4.000000  1.600000e+05  \n",
       "max       40.000000  1.000000e+07  "
      ]
     },
     "execution_count": 10,
     "metadata": {},
     "output_type": "execute_result"
    }
   ],
   "source": [
    "#related statistics about the numerical columns\n",
    "data.describe()"
   ]
  },
  {
   "cell_type": "markdown",
   "id": "fb3d3e92-994b-4bd5-a63d-c6ef6ed6e5cb",
   "metadata": {},
   "source": [
    "Some observations: \n",
    "* Number of rooms could be change to int\n",
    "* For Area the mean value is less than the median value (50%) \n",
    "* Also we can see a large difference between 70% and max values fro the columns of interest (Area, Baños, Habitaciones, and Precio)\n",
    "* The last two points suggest the outliers presence in our dataset\n",
    "__ _________________________________________________________________________________________________________________ __"
   ]
  },
  {
   "cell_type": "markdown",
   "id": "faaf6284-41f0-4314-83ae-237e90d9a09f",
   "metadata": {
    "tags": []
   },
   "source": [
    "### 2. Changing data. Distributions and more Statistics"
   ]
  },
  {
   "cell_type": "markdown",
   "id": "63975b1a-83d9-4f27-a675-fa9f1280b800",
   "metadata": {},
   "source": [
    "__Unique values__"
   ]
  },
  {
   "cell_type": "code",
   "execution_count": 11,
   "id": "91bfff64-017a-4290-b9fa-25e2ee6250ed",
   "metadata": {},
   "outputs": [
    {
     "data": {
      "text/plain": [
       "Unnamed: 0        2004\n",
       "Unnamed: 0.1      2004\n",
       "Unnamed: 0.1.1    2004\n",
       "Ubicación         1274\n",
       "Area               323\n",
       "Baños               16\n",
       "Habitaciones        17\n",
       "Precio             748\n",
       "dtype: int64"
      ]
     },
     "execution_count": 11,
     "metadata": {},
     "output_type": "execute_result"
    }
   ],
   "source": [
    "#checking for unique values\n",
    "data.nunique()"
   ]
  },
  {
   "cell_type": "markdown",
   "id": "2a1670bd-045f-4893-bb75-cef961a8d9ea",
   "metadata": {},
   "source": [
    "Then, there are 16 unique values for bathrooms which would seem a rare value for this attribute. This will be treated later\n",
    "__ _________________________________________________________________________________________________________________ __"
   ]
  },
  {
   "cell_type": "code",
   "execution_count": 12,
   "id": "ebe5f63f-0c80-49e5-ad04-e51fecfd13aa",
   "metadata": {},
   "outputs": [
    {
     "data": {
      "text/plain": [
       "array([  2.,   3.,   4.,  nan,   8.,   1.,   5.,   7.,   6.,  23.,   9.,\n",
       "        13.,  25.,  10.,  11.,  20., 124.])"
      ]
     },
     "execution_count": 12,
     "metadata": {},
     "output_type": "execute_result"
    }
   ],
   "source": [
    "#for a specific column of interest\n",
    "data['Baños'].unique()"
   ]
  },
  {
   "cell_type": "markdown",
   "id": "ac302d08-04a4-41e7-a7ef-a2b785d6814d",
   "metadata": {},
   "source": [
    "________________________________________________\n",
    "__Drop columns or rows__"
   ]
  },
  {
   "cell_type": "code",
   "execution_count": 13,
   "id": "5e443cba-6838-448f-92bc-976e0e5f8b7c",
   "metadata": {},
   "outputs": [
    {
     "data": {
      "text/html": [
       "<div>\n",
       "<style scoped>\n",
       "    .dataframe tbody tr th:only-of-type {\n",
       "        vertical-align: middle;\n",
       "    }\n",
       "\n",
       "    .dataframe tbody tr th {\n",
       "        vertical-align: top;\n",
       "    }\n",
       "\n",
       "    .dataframe thead th {\n",
       "        text-align: right;\n",
       "    }\n",
       "</style>\n",
       "<table border=\"1\" class=\"dataframe\">\n",
       "  <thead>\n",
       "    <tr style=\"text-align: right;\">\n",
       "      <th></th>\n",
       "      <th>Ubicación</th>\n",
       "      <th>Area</th>\n",
       "      <th>Baños</th>\n",
       "      <th>Habitaciones</th>\n",
       "      <th>Precio</th>\n",
       "    </tr>\n",
       "  </thead>\n",
       "  <tbody>\n",
       "    <tr>\n",
       "      <th>0</th>\n",
       "      <td>Casa en Venta Los Serrados\\n, Toluca De Lerdo,...</td>\n",
       "      <td>105.0</td>\n",
       "      <td>2.0</td>\n",
       "      <td>3.0</td>\n",
       "      <td>130000.0</td>\n",
       "    </tr>\n",
       "    <tr>\n",
       "      <th>1</th>\n",
       "      <td>Casa en Venta Tierra Y Libertad #114\\n, Toluca...</td>\n",
       "      <td>115.0</td>\n",
       "      <td>2.0</td>\n",
       "      <td>3.0</td>\n",
       "      <td>50800.0</td>\n",
       "    </tr>\n",
       "    <tr>\n",
       "      <th>2</th>\n",
       "      <td>Casa en Venta Toluca De Lerdo, México</td>\n",
       "      <td>700.0</td>\n",
       "      <td>3.0</td>\n",
       "      <td>3.0</td>\n",
       "      <td>325000.0</td>\n",
       "    </tr>\n",
       "    <tr>\n",
       "      <th>3</th>\n",
       "      <td>Casa en Venta Granjas, Toluca De Lerdo</td>\n",
       "      <td>390.0</td>\n",
       "      <td>3.0</td>\n",
       "      <td>4.0</td>\n",
       "      <td>275000.0</td>\n",
       "    </tr>\n",
       "    <tr>\n",
       "      <th>4</th>\n",
       "      <td>Casa en Venta Toluca De Lerdo, México</td>\n",
       "      <td>300.0</td>\n",
       "      <td>4.0</td>\n",
       "      <td>3.0</td>\n",
       "      <td>215000.0</td>\n",
       "    </tr>\n",
       "    <tr>\n",
       "      <th>5</th>\n",
       "      <td>Casa en Venta Toluca De Lerdo, México</td>\n",
       "      <td>250.0</td>\n",
       "      <td>2.0</td>\n",
       "      <td>3.0</td>\n",
       "      <td>125000.0</td>\n",
       "    </tr>\n",
       "    <tr>\n",
       "      <th>6</th>\n",
       "      <td>Casa en Venta Toluca De Lerdo, México</td>\n",
       "      <td>600.0</td>\n",
       "      <td>4.0</td>\n",
       "      <td>4.0</td>\n",
       "      <td>1000000.0</td>\n",
       "    </tr>\n",
       "    <tr>\n",
       "      <th>7</th>\n",
       "      <td>Casa en Venta Toluca De Lerdo, México</td>\n",
       "      <td>NaN</td>\n",
       "      <td>4.0</td>\n",
       "      <td>4.0</td>\n",
       "      <td>220000.0</td>\n",
       "    </tr>\n",
       "    <tr>\n",
       "      <th>8</th>\n",
       "      <td>Casa en Venta Toluca De Lerdo, México</td>\n",
       "      <td>300.0</td>\n",
       "      <td>4.0</td>\n",
       "      <td>3.0</td>\n",
       "      <td>210000.0</td>\n",
       "    </tr>\n",
       "    <tr>\n",
       "      <th>9</th>\n",
       "      <td>Casa en Venta Ejido Santa Cruz Azcapotzaltongo...</td>\n",
       "      <td>NaN</td>\n",
       "      <td>NaN</td>\n",
       "      <td>NaN</td>\n",
       "      <td>137500.0</td>\n",
       "    </tr>\n",
       "  </tbody>\n",
       "</table>\n",
       "</div>"
      ],
      "text/plain": [
       "                                           Ubicación   Area  Baños  \\\n",
       "0  Casa en Venta Los Serrados\\n, Toluca De Lerdo,...  105.0    2.0   \n",
       "1  Casa en Venta Tierra Y Libertad #114\\n, Toluca...  115.0    2.0   \n",
       "2              Casa en Venta Toluca De Lerdo, México  700.0    3.0   \n",
       "3             Casa en Venta Granjas, Toluca De Lerdo  390.0    3.0   \n",
       "4              Casa en Venta Toluca De Lerdo, México  300.0    4.0   \n",
       "5              Casa en Venta Toluca De Lerdo, México  250.0    2.0   \n",
       "6              Casa en Venta Toluca De Lerdo, México  600.0    4.0   \n",
       "7              Casa en Venta Toluca De Lerdo, México    NaN    4.0   \n",
       "8              Casa en Venta Toluca De Lerdo, México  300.0    4.0   \n",
       "9  Casa en Venta Ejido Santa Cruz Azcapotzaltongo...    NaN    NaN   \n",
       "\n",
       "   Habitaciones     Precio  \n",
       "0           3.0   130000.0  \n",
       "1           3.0    50800.0  \n",
       "2           3.0   325000.0  \n",
       "3           4.0   275000.0  \n",
       "4           3.0   215000.0  \n",
       "5           3.0   125000.0  \n",
       "6           4.0  1000000.0  \n",
       "7           4.0   220000.0  \n",
       "8           3.0   210000.0  \n",
       "9           NaN   137500.0  "
      ]
     },
     "execution_count": 13,
     "metadata": {},
     "output_type": "execute_result"
    }
   ],
   "source": [
    "#dropping the first three columns as we identified before the first three don't have usuful information\n",
    "data = data.drop([\"Unnamed: 0\", \"Unnamed: 0.1\", \"Unnamed: 0.1.1\"], axis=1)\n",
    "data.head(10)"
   ]
  },
  {
   "cell_type": "markdown",
   "id": "1f639359-9b23-4395-a378-a000d67fb622",
   "metadata": {},
   "source": [
    "__Missing values__ \\\n",
    "I know that it is possible do nothing with the missing values since it is an exercise to do EDA, but to practice lets do some handling of missing values"
   ]
  },
  {
   "cell_type": "code",
   "execution_count": 14,
   "id": "610f180e-a842-4c43-81fd-474762e1ccd7",
   "metadata": {
    "tags": []
   },
   "outputs": [
    {
     "data": {
      "text/plain": [
       "Ubicación         0\n",
       "Area            283\n",
       "Baños            54\n",
       "Habitaciones     73\n",
       "Precio            5\n",
       "dtype: int64"
      ]
     },
     "execution_count": 14,
     "metadata": {},
     "output_type": "execute_result"
    }
   ],
   "source": [
    "#looking for null values\n",
    "pd.isnull(data).sum()"
   ]
  },
  {
   "cell_type": "markdown",
   "id": "89844ee3-7ea6-4123-a594-4440cff41a81",
   "metadata": {},
   "source": [
    "We have several missing values, then we will look for how many records have at least one missing value.\n",
    "__ _________________________________________________________________________________________________________________ __"
   ]
  },
  {
   "cell_type": "code",
   "execution_count": 15,
   "id": "2cb5ae70-b710-41ec-b15e-78be4fa9a5d9",
   "metadata": {},
   "outputs": [
    {
     "data": {
      "text/plain": [
       "(346, 5)"
      ]
     },
     "execution_count": 15,
     "metadata": {},
     "output_type": "execute_result"
    }
   ],
   "source": [
    "#Looking for rows with at least one misssing value\n",
    "data[data.isnull().any(axis=1)].shape"
   ]
  },
  {
   "cell_type": "markdown",
   "id": "f9f8d8bc-86a4-460c-ae7f-9f6e4ddd34c9",
   "metadata": {},
   "source": [
    "Then we have 17.2654% of records with at least one missing values. \\\n",
    "On the other hand we have 283 missing values of Area, and as we will see in the ___relationship analysis___ section this attribute has a non-negligible correlation with the price. \\\n",
    "And I am assuming that for a hipotetical analysis of this kind of dataset _price_ is the variable to know or predict\\\n",
    "For what was explain above I am going to drop the 283 missing-area values. Also, it is only for the case in which I am only doing some EDA.\n",
    "__ _________________________________________________________________________________________________________________ __"
   ]
  },
  {
   "cell_type": "code",
   "execution_count": 16,
   "id": "ee11787c-f80d-48ef-99e7-1ffd08bf8787",
   "metadata": {},
   "outputs": [
    {
     "data": {
      "text/plain": [
       "Ubicación        0\n",
       "Area             0\n",
       "Baños           36\n",
       "Habitaciones    56\n",
       "Precio           5\n",
       "dtype: int64"
      ]
     },
     "execution_count": 16,
     "metadata": {},
     "output_type": "execute_result"
    }
   ],
   "source": [
    "#drop rows with missing values for area\n",
    "data_1 = data.dropna(subset=[\"Area\"])\n",
    "pd.isnull(data_1).sum()"
   ]
  },
  {
   "cell_type": "markdown",
   "id": "69be663a-f511-485e-8b15-b8d66d65accf",
   "metadata": {},
   "source": [
    "__--------------------->__               __data_1__                    __<---------------------__ \\\n",
    "dataset after drop missing values for Area attribute"
   ]
  },
  {
   "cell_type": "code",
   "execution_count": 17,
   "id": "58a9f915-8f0f-4233-a073-728aca92904c",
   "metadata": {},
   "outputs": [
    {
     "data": {
      "text/plain": [
       "(1721, 5)"
      ]
     },
     "execution_count": 17,
     "metadata": {},
     "output_type": "execute_result"
    }
   ],
   "source": [
    "#New dataset\n",
    "data_1.shape"
   ]
  },
  {
   "cell_type": "markdown",
   "id": "042b09e4-7513-445d-b17e-e28ac0d5486b",
   "metadata": {},
   "source": [
    "__ _________________________________________________________________________________________________________________ __\n",
    "Handling outliers for area"
   ]
  },
  {
   "cell_type": "code",
   "execution_count": 18,
   "id": "b8e5b6fb-cce8-4128-a2f8-691c4aa45e18",
   "metadata": {},
   "outputs": [
    {
     "data": {
      "text/html": [
       "<div>\n",
       "<style scoped>\n",
       "    .dataframe tbody tr th:only-of-type {\n",
       "        vertical-align: middle;\n",
       "    }\n",
       "\n",
       "    .dataframe tbody tr th {\n",
       "        vertical-align: top;\n",
       "    }\n",
       "\n",
       "    .dataframe thead th {\n",
       "        text-align: right;\n",
       "    }\n",
       "</style>\n",
       "<table border=\"1\" class=\"dataframe\">\n",
       "  <thead>\n",
       "    <tr style=\"text-align: right;\">\n",
       "      <th></th>\n",
       "      <th>Area</th>\n",
       "      <th>Baños</th>\n",
       "      <th>Habitaciones</th>\n",
       "      <th>Precio</th>\n",
       "    </tr>\n",
       "  </thead>\n",
       "  <tbody>\n",
       "    <tr>\n",
       "      <th>count</th>\n",
       "      <td>1721.000000</td>\n",
       "      <td>1685.000000</td>\n",
       "      <td>1665.000000</td>\n",
       "      <td>1.716000e+03</td>\n",
       "    </tr>\n",
       "    <tr>\n",
       "      <th>mean</th>\n",
       "      <td>229.525857</td>\n",
       "      <td>2.524036</td>\n",
       "      <td>3.262462</td>\n",
       "      <td>1.617801e+05</td>\n",
       "    </tr>\n",
       "    <tr>\n",
       "      <th>std</th>\n",
       "      <td>337.245195</td>\n",
       "      <td>3.289322</td>\n",
       "      <td>1.518774</td>\n",
       "      <td>4.175500e+05</td>\n",
       "    </tr>\n",
       "    <tr>\n",
       "      <th>min</th>\n",
       "      <td>10.000000</td>\n",
       "      <td>1.000000</td>\n",
       "      <td>1.000000</td>\n",
       "      <td>1.065305e+04</td>\n",
       "    </tr>\n",
       "    <tr>\n",
       "      <th>25%</th>\n",
       "      <td>113.000000</td>\n",
       "      <td>2.000000</td>\n",
       "      <td>3.000000</td>\n",
       "      <td>4.822430e+04</td>\n",
       "    </tr>\n",
       "    <tr>\n",
       "      <th>50%</th>\n",
       "      <td>165.000000</td>\n",
       "      <td>2.000000</td>\n",
       "      <td>3.000000</td>\n",
       "      <td>8.500000e+04</td>\n",
       "    </tr>\n",
       "    <tr>\n",
       "      <th>75%</th>\n",
       "      <td>250.000000</td>\n",
       "      <td>3.000000</td>\n",
       "      <td>3.000000</td>\n",
       "      <td>1.550000e+05</td>\n",
       "    </tr>\n",
       "    <tr>\n",
       "      <th>90%</th>\n",
       "      <td>400.000000</td>\n",
       "      <td>4.000000</td>\n",
       "      <td>4.000000</td>\n",
       "      <td>2.833675e+05</td>\n",
       "    </tr>\n",
       "    <tr>\n",
       "      <th>95%</th>\n",
       "      <td>600.000000</td>\n",
       "      <td>4.000000</td>\n",
       "      <td>5.000000</td>\n",
       "      <td>5.036250e+05</td>\n",
       "    </tr>\n",
       "    <tr>\n",
       "      <th>98%</th>\n",
       "      <td>800.000000</td>\n",
       "      <td>5.000000</td>\n",
       "      <td>6.000000</td>\n",
       "      <td>8.705000e+05</td>\n",
       "    </tr>\n",
       "    <tr>\n",
       "      <th>99%</th>\n",
       "      <td>980.000000</td>\n",
       "      <td>7.000000</td>\n",
       "      <td>7.000000</td>\n",
       "      <td>1.250000e+06</td>\n",
       "    </tr>\n",
       "    <tr>\n",
       "      <th>max</th>\n",
       "      <td>11111.000000</td>\n",
       "      <td>124.000000</td>\n",
       "      <td>40.000000</td>\n",
       "      <td>1.000000e+07</td>\n",
       "    </tr>\n",
       "  </tbody>\n",
       "</table>\n",
       "</div>"
      ],
      "text/plain": [
       "               Area        Baños  Habitaciones        Precio\n",
       "count   1721.000000  1685.000000   1665.000000  1.716000e+03\n",
       "mean     229.525857     2.524036      3.262462  1.617801e+05\n",
       "std      337.245195     3.289322      1.518774  4.175500e+05\n",
       "min       10.000000     1.000000      1.000000  1.065305e+04\n",
       "25%      113.000000     2.000000      3.000000  4.822430e+04\n",
       "50%      165.000000     2.000000      3.000000  8.500000e+04\n",
       "75%      250.000000     3.000000      3.000000  1.550000e+05\n",
       "90%      400.000000     4.000000      4.000000  2.833675e+05\n",
       "95%      600.000000     4.000000      5.000000  5.036250e+05\n",
       "98%      800.000000     5.000000      6.000000  8.705000e+05\n",
       "99%      980.000000     7.000000      7.000000  1.250000e+06\n",
       "max    11111.000000   124.000000     40.000000  1.000000e+07"
      ]
     },
     "execution_count": 18,
     "metadata": {},
     "output_type": "execute_result"
    },
    {
     "data": {
      "image/png": "[encoded data removed]",
      "text/plain": [
       "<Figure size 432x288 with 1 Axes>"
      ]
     },
     "metadata": {
      "needs_background": "light"
     },
     "output_type": "display_data"
    }
   ],
   "source": [
    "#visualizing outliers for area\n",
    "data_1.boxplot(column = \"Area\")\n",
    "#Some statistics for the new dataset and specific percentiles, paying special atention on _area_\n",
    "data_1.describe(percentiles= [0.5, 0.25, 0.75, 0.90, 0.95, 0.98, 0.99])"
   ]
  },
  {
   "cell_type": "code",
   "execution_count": 19,
   "id": "514306af-750d-4eb1-a953-3a8638e88c33",
   "metadata": {},
   "outputs": [
    {
     "name": "stdout",
     "output_type": "stream",
     "text": [
      "980.0 is the treshold to filter the outliers for area\n"
     ]
    }
   ],
   "source": [
    "#Defining a threshold to drop outliers for area\n",
    "q_threshold=data_1[\"Area\"].quantile(.99)    \n",
    "#For Q-99 for area is equal to 980 and if we remove records with values > q_threshold, then we will lose 1% of the data \n",
    "print(\"{} is the treshold to filter the outliers for area\".format(q_threshold))"
   ]
  },
  {
   "cell_type": "code",
   "execution_count": 20,
   "id": "43c62dc8-78e8-459f-8156-6081c15ab3e1",
   "metadata": {},
   "outputs": [],
   "source": [
    "data_2=data_1[data_1[\"Area\"] < q_threshold]     #new dataset"
   ]
  },
  {
   "cell_type": "markdown",
   "id": "91e4f633-54b8-48b3-a8bf-44d545e0f104",
   "metadata": {},
   "source": [
    "__--------------------->__               __data_2__                    __<---------------------__ \\\n",
    "dataset after filtering outliers for Area attribute"
   ]
  },
  {
   "cell_type": "code",
   "execution_count": 21,
   "id": "be18a8a6-6991-4104-942f-d82c7aea21e8",
   "metadata": {},
   "outputs": [
    {
     "data": {
      "text/plain": [
       "(1702, 5)"
      ]
     },
     "execution_count": 21,
     "metadata": {},
     "output_type": "execute_result"
    }
   ],
   "source": [
    "data_2.shape                                    #looking into the size of the new dataset"
   ]
  },
  {
   "cell_type": "markdown",
   "id": "879dc46c-95a4-45f4-ae46-62de74cb478f",
   "metadata": {},
   "source": [
    "Here we lost 19 extra records\n",
    "_____________________________________________________________________________________________________________________________"
   ]
  },
  {
   "cell_type": "code",
   "execution_count": 22,
   "id": "d4722807-d141-4b89-a90a-74d76d09c682",
   "metadata": {},
   "outputs": [
    {
     "data": {
      "image/png": "[encoded data removed]",
      "text/plain": [
       "<Figure size 432x288 with 1 Axes>"
      ]
     },
     "metadata": {
      "needs_background": "light"
     },
     "output_type": "display_data"
    },
    {
     "data": {
      "text/plain": [
       "<function matplotlib.pyplot.show(close=None, block=None)>"
      ]
     },
     "execution_count": 22,
     "metadata": {},
     "output_type": "execute_result"
    },
    {
     "data": {
      "image/png": "[encoded data removed]",
      "text/plain": [
       "<Figure size 432x288 with 1 Axes>"
      ]
     },
     "metadata": {
      "needs_background": "light"
     },
     "output_type": "display_data"
    }
   ],
   "source": [
    "#visualizing the new data for area\n",
    "data_2.boxplot(column = \"Area\")\n",
    "plt.show()\n",
    "data_2[\"Area\"].plot(kind=\"kde\")\n",
    "plt.show"
   ]
  },
  {
   "cell_type": "markdown",
   "id": "dc96a066-289d-4d90-a464-9944aa8ab237",
   "metadata": {},
   "source": [
    "Here we can se a right skewed distribution"
   ]
  },
  {
   "cell_type": "markdown",
   "id": "5bdc272f-7793-4fb7-b4e9-c60e7ae3ce11",
   "metadata": {},
   "source": [
    "_______________________________________________________________________\n",
    "Now, handling the \"Baños\" column. I picked this column because I supposed the number of bathrooms in a house cannot be a large number in general terms (but it is possible to have some extraordinary cases). Also, this idea is supported by the mean value for such column.\\\n",
    "Then lets do some wrangling."
   ]
  },
  {
   "cell_type": "code",
   "execution_count": 23,
   "id": "03559cc3-cfbc-4d42-9572-5db3f97a4881",
   "metadata": {},
   "outputs": [
    {
     "data": {
      "text/plain": [
       "<AxesSubplot:>"
      ]
     },
     "execution_count": 23,
     "metadata": {},
     "output_type": "execute_result"
    },
    {
     "data": {
      "image/png": "[encoded data removed]",
      "text/plain": [
       "<Figure size 432x288 with 1 Axes>"
      ]
     },
     "metadata": {
      "needs_background": "light"
     },
     "output_type": "display_data"
    }
   ],
   "source": [
    "#First do some charts to determine outliers\n",
    "data_2.boxplot(column = \"Baños\")"
   ]
  },
  {
   "cell_type": "markdown",
   "id": "4342b07b-43a1-4bb4-99ce-c276bcd9f989",
   "metadata": {},
   "source": [
    "From the last plot it is possible to see some outliers > media, then we can eliminate eliminate those records. Also, we can examine those records, but for now just drop them, and see the boxplot\\\n",
    "To handle this outliers we will again look into the percentiles\n",
    "______________________________________________________"
   ]
  },
  {
   "cell_type": "code",
   "execution_count": 24,
   "id": "9733d9d4-6938-4da7-ab13-0d3cb842969b",
   "metadata": {},
   "outputs": [],
   "source": [
    "#First I tried using the quantile 95 and analyze the corresponding value  \n",
    "q_threshold_b=data_2[\"Baños\"].quantile(.99)    \n",
    "# we will lose 1% of the data "
   ]
  },
  {
   "cell_type": "markdown",
   "id": "4a8819c4-9e88-43f1-b826-290a9d2b1b2d",
   "metadata": {},
   "source": [
    "__--------------------->__               __data_3__                    __<---------------------__ \\\n",
    "dataset after drop missing values for Baño attribute"
   ]
  },
  {
   "cell_type": "code",
   "execution_count": 25,
   "id": "cecf0fdc-677c-497e-a6ca-0c5aff445a28",
   "metadata": {},
   "outputs": [
    {
     "data": {
      "text/plain": [
       "<AxesSubplot:>"
      ]
     },
     "execution_count": 25,
     "metadata": {},
     "output_type": "execute_result"
    },
    {
     "data": {
      "image/png": "[encoded data removed]",
      "text/plain": [
       "<Figure size 432x288 with 1 Axes>"
      ]
     },
     "metadata": {
      "needs_background": "light"
     },
     "output_type": "display_data"
    }
   ],
   "source": [
    "data_3=data_2[data_2[\"Baños\"] < q_threshold_b]           #New dataset filtering Baños-outliers\n",
    "data_3.boxplot(column = \"Baños\")"
   ]
  },
  {
   "cell_type": "code",
   "execution_count": 26,
   "id": "226a1d20-a0ef-4cbe-b9ca-5d59e2419612",
   "metadata": {},
   "outputs": [
    {
     "data": {
      "text/plain": [
       "<AxesSubplot:ylabel='Frequency'>"
      ]
     },
     "execution_count": 26,
     "metadata": {},
     "output_type": "execute_result"
    },
    {
     "data": {
      "image/png": "[encoded data removed]",
      "text/plain": [
       "<Figure size 432x288 with 1 Axes>"
      ]
     },
     "metadata": {
      "needs_background": "light"
     },
     "output_type": "display_data"
    }
   ],
   "source": [
    "#Now if we can plot a distribution for Baños column\n",
    "data_3[\"Baños\"].plot(kind=\"hist\", bins = 10)"
   ]
  },
  {
   "cell_type": "markdown",
   "id": "b2d868f2-19a9-4347-b0cf-4d09c415ff9f",
   "metadata": {},
   "source": [
    "From the histogram we can see it is a right skewed distribution, then it wont be a good idea to use the mean value to replace the missing values"
   ]
  },
  {
   "cell_type": "code",
   "execution_count": 27,
   "id": "5a2b69d7-55c3-497f-a195-c324582f4806",
   "metadata": {},
   "outputs": [
    {
     "name": "stdout",
     "output_type": "stream",
     "text": [
      "2.3377885783718106 2.0\n"
     ]
    }
   ],
   "source": [
    "#Computing the mean and median values\n",
    "print(data_3.Baños.mean(), data_3.Baños.median())"
   ]
  },
  {
   "cell_type": "markdown",
   "id": "e38c13eb-10d2-457d-9590-96321e7c06fc",
   "metadata": {},
   "source": [
    "As it was expected the median seems to be a better approximation for the missing values \\\n",
    "But for now we will keep that values because maybe we can find a proportial relationship between bathrooms and rooms and replace missing values with such number or use another technique to impute that values\n",
    "_______________________________________________"
   ]
  },
  {
   "cell_type": "markdown",
   "id": "192b8528-1fd3-44c3-8bff-689617995593",
   "metadata": {},
   "source": [
    "Now, we can visualize the same plots for the Habitaciones and Precio columns, and compare the curves for the original dataset against the new __data_3__ dataset"
   ]
  },
  {
   "cell_type": "code",
   "execution_count": 28,
   "id": "0edd1c7d-6025-411e-af8a-f02078f65355",
   "metadata": {
    "tags": []
   },
   "outputs": [
    {
     "data": {
      "image/png": "[encoded data removed]",
      "text/plain": [
       "<Figure size 432x288 with 1 Axes>"
      ]
     },
     "metadata": {
      "needs_background": "light"
     },
     "output_type": "display_data"
    },
    {
     "data": {
      "image/png": "[encoded data removed]",
      "text/plain": [
       "<Figure size 432x288 with 1 Axes>"
      ]
     },
     "metadata": {
      "needs_background": "light"
     },
     "output_type": "display_data"
    },
    {
     "data": {
      "image/png": "[encoded data removed]",
      "text/plain": [
       "<Figure size 432x288 with 1 Axes>"
      ]
     },
     "metadata": {
      "needs_background": "light"
     },
     "output_type": "display_data"
    },
    {
     "data": {
      "image/png": "[encoded data removed]",
      "text/plain": [
       "<Figure size 432x288 with 1 Axes>"
      ]
     },
     "metadata": {
      "needs_background": "light"
     },
     "output_type": "display_data"
    }
   ],
   "source": [
    "#do the same process for rooms\n",
    "#First do some charts to determine outliers\n",
    "#Statistics\n",
    "data.boxplot(column = \"Habitaciones\")                #plot using the entire dataset\n",
    "plt.title(\"Room Statistics for the original dataset\")\n",
    "plt.show()\n",
    "data_3.boxplot(column = \"Habitaciones\")             #plot using the dataset with filtered outliers for bathrooms \n",
    "plt.title(\"Room Statistics for the data_3 set\")\n",
    "plt.show()\n",
    "#discrete distribution\n",
    "data[\"Habitaciones\"].plot(kind=\"hist\", bins = 10, density=True)  #density=True ensures to have get area under the curve equal to one   \n",
    "plt.title(\"Rooms Distribution for the original dataset\")\n",
    "plt.show()\n",
    "data_3[\"Habitaciones\"].plot(kind=\"hist\", bins = 10, density=True)\n",
    "plt.title(\"Rooms Distribution for the data_3\")\n",
    "plt.show()"
   ]
  },
  {
   "cell_type": "markdown",
   "id": "28481d3a-1c9f-4d38-903e-a5a0716d5622",
   "metadata": {},
   "source": [
    "From the first two plots we can visualize the outliers for #of rooms using both dataset, but there are readuced using the new __data_3__ set\n",
    "While checking the histograms both are right skewed distribution, but the __data_3__ plot is less narrow.\n",
    "_____________________________________"
   ]
  },
  {
   "cell_type": "code",
   "execution_count": 29,
   "id": "42f4e129-c273-4518-a42f-506915b9d1e7",
   "metadata": {
    "tags": []
   },
   "outputs": [
    {
     "data": {
      "image/png": "[encoded data removed]",
      "text/plain": [
       "<Figure size 432x288 with 1 Axes>"
      ]
     },
     "metadata": {
      "needs_background": "light"
     },
     "output_type": "display_data"
    },
    {
     "data": {
      "image/png": "[encoded data removed]",
      "text/plain": [
       "<Figure size 432x288 with 1 Axes>"
      ]
     },
     "metadata": {
      "needs_background": "light"
     },
     "output_type": "display_data"
    },
    {
     "data": {
      "image/png": "[encoded data removed]",
      "text/plain": [
       "<Figure size 432x288 with 1 Axes>"
      ]
     },
     "metadata": {
      "needs_background": "light"
     },
     "output_type": "display_data"
    },
    {
     "data": {
      "image/png": "[encoded data removed]",
      "text/plain": [
       "<Figure size 432x288 with 1 Axes>"
      ]
     },
     "metadata": {
      "needs_background": "light"
     },
     "output_type": "display_data"
    }
   ],
   "source": [
    "#do the same process for prices\n",
    "#First do some charts to determine outliers\n",
    "\n",
    "#statistics \n",
    "data.boxplot(column = \"Precio\")                 #plot using the entire dataset\n",
    "plt.title(\"Price Statistics for the original dataset\")\n",
    "plt.show()\n",
    "data.boxplot(column = \"Precio\")                 #plot using the dataset with filtered outliers for bathrooms \n",
    "plt.title(\"Price Statistics for the data_3 set\")\n",
    "plt.show()\n",
    "#Density distribution\n",
    "data[\"Precio\"].plot(kind=\"kde\")\n",
    "plt.title(\"Price Distribution for the original dataset\")\n",
    "plt.show() \n",
    "data_3[\"Precio\"].plot(kind=\"kde\")\n",
    "plt.title(\"Price Distribution for the data_3 dataset\")\n",
    "plt.show()"
   ]
  },
  {
   "cell_type": "markdown",
   "id": "43f8523c-dd73-42e3-9ca9-7f6ff33109f8",
   "metadata": {},
   "source": [
    "In this case for both datasets we can observe a narrow right skewed distribution for the price attribute"
   ]
  },
  {
   "cell_type": "markdown",
   "id": "923466b3-98cf-4af1-90df-90632718f0a2",
   "metadata": {},
   "source": [
    "_________________"
   ]
  },
  {
   "cell_type": "markdown",
   "id": "c825efcf-bc4b-4ab5-8f45-44463012cbd8",
   "metadata": {},
   "source": [
    "### 3. Relationship analysis"
   ]
  },
  {
   "cell_type": "markdown",
   "id": "324b99aa-1324-4928-b992-c81415e2c200",
   "metadata": {},
   "source": [
    "__Correlations between features__ \\\n",
    "__.corr()__ is a method to find the correlation coefficients, it excludes NaN values automatically\\\n",
    "it is based on:\\\n",
    "pearson: standard correlation coefficient (by default)\\\n",
    "kendall: Kendall Tau correlation coefficient \\\n",
    "spearman: Spearman rank correlation"
   ]
  },
  {
   "cell_type": "code",
   "execution_count": 30,
   "id": "fc8ec65b-3f3a-4595-bd3e-3e266198e06f",
   "metadata": {},
   "outputs": [
    {
     "data": {
      "text/plain": [
       "<AxesSubplot:>"
      ]
     },
     "execution_count": 30,
     "metadata": {},
     "output_type": "execute_result"
    },
    {
     "data": {
      "image/png": "[encoded data removed]",
      "text/plain": [
       "<Figure size 432x288 with 2 Axes>"
      ]
     },
     "metadata": {
      "needs_background": "light"
     },
     "output_type": "display_data"
    }
   ],
   "source": [
    "##To find some relationships between features we find the correlation matrix, using the pearson method\n",
    "#https://www.sciencedirect.com/topics/computer-science/pearson-correlation\n",
    "correlation_data = data_3.corr() #it returns the correlation coefficients between features\n",
    "##Visualizing the correlation coefficient values \n",
    "sns.heatmap(correlation_data, annot =True)\n",
    "#plt.matshow(data.corr())\n",
    "#plt.colorbar()\n",
    "#plt.show()"
   ]
  },
  {
   "cell_type": "markdown",
   "id": "11d7917a-2ab7-4ec0-bd9b-a600842be7ef",
   "metadata": {},
   "source": [
    "From the correlation matrix, we can see a significant correlation between Area and Price which makes sense because more area, more cost. \n",
    "___________________"
   ]
  },
  {
   "cell_type": "markdown",
   "id": "6ad82e84-da40-4dda-93dd-53bd3f76745b",
   "metadata": {},
   "source": [
    "Also we can compare between correlation for both original and new datasets"
   ]
  },
  {
   "cell_type": "code",
   "execution_count": 31,
   "id": "55fda8b8-d489-4a8a-b421-2cda72a6f1b2",
   "metadata": {
    "tags": []
   },
   "outputs": [
    {
     "data": {
      "text/html": [
       "<style  type=\"text/css\" >\n",
       "#T_27d16_row0_col0,#T_27d16_row0_col1,#T_27d16_row0_col2,#T_27d16_row0_col3,#T_27d16_row1_col1,#T_27d16_row1_col2,#T_27d16_row1_col3,#T_27d16_row2_col2,#T_27d16_row2_col3,#T_27d16_row3_col3{\n",
       "            background-color:  #000000;\n",
       "            color:  #f1f1f1;\n",
       "            background-color:  #f1f1f1;\n",
       "        }#T_27d16_row1_col0{\n",
       "            background-color:  #f6553c;\n",
       "            color:  #000000;\n",
       "        }#T_27d16_row2_col0{\n",
       "            background-color:  #ea362a;\n",
       "            color:  #f1f1f1;\n",
       "        }#T_27d16_row2_col1{\n",
       "            background-color:  #f14130;\n",
       "            color:  #f1f1f1;\n",
       "        }#T_27d16_row3_col0{\n",
       "            background-color:  #d32020;\n",
       "            color:  #f1f1f1;\n",
       "        }#T_27d16_row3_col1{\n",
       "            background-color:  #f44f39;\n",
       "            color:  #000000;\n",
       "        }#T_27d16_row3_col2{\n",
       "            background-color:  #ed392b;\n",
       "            color:  #f1f1f1;\n",
       "        }</style><table id=\"T_27d16_\" ><thead>    <tr>        <th class=\"blank level0\" ></th>        <th class=\"col_heading level0 col0\" >Area</th>        <th class=\"col_heading level0 col1\" >Baños</th>        <th class=\"col_heading level0 col2\" >Habitaciones</th>        <th class=\"col_heading level0 col3\" >Precio</th>    </tr></thead><tbody>\n",
       "                <tr>\n",
       "                        <th id=\"T_27d16_level0_row0\" class=\"row_heading level0 row0\" >Area</th>\n",
       "                        <td id=\"T_27d16_row0_col0\" class=\"data row0 col0\" >nan</td>\n",
       "                        <td id=\"T_27d16_row0_col1\" class=\"data row0 col1\" >nan</td>\n",
       "                        <td id=\"T_27d16_row0_col2\" class=\"data row0 col2\" >nan</td>\n",
       "                        <td id=\"T_27d16_row0_col3\" class=\"data row0 col3\" >nan</td>\n",
       "            </tr>\n",
       "            <tr>\n",
       "                        <th id=\"T_27d16_level0_row1\" class=\"row_heading level0 row1\" >Baños</th>\n",
       "                        <td id=\"T_27d16_row1_col0\" class=\"data row1 col0\" >0.12</td>\n",
       "                        <td id=\"T_27d16_row1_col1\" class=\"data row1 col1\" >nan</td>\n",
       "                        <td id=\"T_27d16_row1_col2\" class=\"data row1 col2\" >nan</td>\n",
       "                        <td id=\"T_27d16_row1_col3\" class=\"data row1 col3\" >nan</td>\n",
       "            </tr>\n",
       "            <tr>\n",
       "                        <th id=\"T_27d16_level0_row2\" class=\"row_heading level0 row2\" >Habitaciones</th>\n",
       "                        <td id=\"T_27d16_row2_col0\" class=\"data row2 col0\" >0.28</td>\n",
       "                        <td id=\"T_27d16_row2_col1\" class=\"data row2 col1\" >0.22</td>\n",
       "                        <td id=\"T_27d16_row2_col2\" class=\"data row2 col2\" >nan</td>\n",
       "                        <td id=\"T_27d16_row2_col3\" class=\"data row2 col3\" >nan</td>\n",
       "            </tr>\n",
       "            <tr>\n",
       "                        <th id=\"T_27d16_level0_row3\" class=\"row_heading level0 row3\" >Precio</th>\n",
       "                        <td id=\"T_27d16_row3_col0\" class=\"data row3 col0\" >0.44</td>\n",
       "                        <td id=\"T_27d16_row3_col1\" class=\"data row3 col1\" >0.14</td>\n",
       "                        <td id=\"T_27d16_row3_col2\" class=\"data row3 col2\" >0.26</td>\n",
       "                        <td id=\"T_27d16_row3_col3\" class=\"data row3 col3\" >nan</td>\n",
       "            </tr>\n",
       "    </tbody></table>"
      ],
      "text/plain": [
       "<pandas.io.formats.style.Styler at 0x19d0772e6c8>"
      ]
     },
     "execution_count": 31,
     "metadata": {},
     "output_type": "execute_result"
    }
   ],
   "source": [
    "diagonal_matrix(data)                 #Original dataset"
   ]
  },
  {
   "cell_type": "code",
   "execution_count": 32,
   "id": "4993896a-ad93-470b-b78e-49a7384c4be6",
   "metadata": {},
   "outputs": [
    {
     "data": {
      "text/html": [
       "<style  type=\"text/css\" >\n",
       "#T_06e2f_row0_col0,#T_06e2f_row0_col1,#T_06e2f_row0_col2,#T_06e2f_row0_col3,#T_06e2f_row1_col1,#T_06e2f_row1_col2,#T_06e2f_row1_col3,#T_06e2f_row2_col2,#T_06e2f_row2_col3,#T_06e2f_row3_col3{\n",
       "            background-color:  #000000;\n",
       "            color:  #f1f1f1;\n",
       "            background-color:  #f1f1f1;\n",
       "        }#T_06e2f_row1_col0{\n",
       "            background-color:  #c5171c;\n",
       "            color:  #f1f1f1;\n",
       "        }#T_06e2f_row2_col0{\n",
       "            background-color:  #c8171c;\n",
       "            color:  #f1f1f1;\n",
       "        }#T_06e2f_row2_col1{\n",
       "            background-color:  #ca181d;\n",
       "            color:  #f1f1f1;\n",
       "        }#T_06e2f_row3_col0{\n",
       "            background-color:  #b81419;\n",
       "            color:  #f1f1f1;\n",
       "        }#T_06e2f_row3_col1{\n",
       "            background-color:  #da2723;\n",
       "            color:  #f1f1f1;\n",
       "        }#T_06e2f_row3_col2{\n",
       "            background-color:  #de2b25;\n",
       "            color:  #f1f1f1;\n",
       "        }</style><table id=\"T_06e2f_\" ><thead>    <tr>        <th class=\"blank level0\" ></th>        <th class=\"col_heading level0 col0\" >Area</th>        <th class=\"col_heading level0 col1\" >Baños</th>        <th class=\"col_heading level0 col2\" >Habitaciones</th>        <th class=\"col_heading level0 col3\" >Precio</th>    </tr></thead><tbody>\n",
       "                <tr>\n",
       "                        <th id=\"T_06e2f_level0_row0\" class=\"row_heading level0 row0\" >Area</th>\n",
       "                        <td id=\"T_06e2f_row0_col0\" class=\"data row0 col0\" >nan</td>\n",
       "                        <td id=\"T_06e2f_row0_col1\" class=\"data row0 col1\" >nan</td>\n",
       "                        <td id=\"T_06e2f_row0_col2\" class=\"data row0 col2\" >nan</td>\n",
       "                        <td id=\"T_06e2f_row0_col3\" class=\"data row0 col3\" >nan</td>\n",
       "            </tr>\n",
       "            <tr>\n",
       "                        <th id=\"T_06e2f_level0_row1\" class=\"row_heading level0 row1\" >Baños</th>\n",
       "                        <td id=\"T_06e2f_row1_col0\" class=\"data row1 col0\" >0.53</td>\n",
       "                        <td id=\"T_06e2f_row1_col1\" class=\"data row1 col1\" >nan</td>\n",
       "                        <td id=\"T_06e2f_row1_col2\" class=\"data row1 col2\" >nan</td>\n",
       "                        <td id=\"T_06e2f_row1_col3\" class=\"data row1 col3\" >nan</td>\n",
       "            </tr>\n",
       "            <tr>\n",
       "                        <th id=\"T_06e2f_level0_row2\" class=\"row_heading level0 row2\" >Habitaciones</th>\n",
       "                        <td id=\"T_06e2f_row2_col0\" class=\"data row2 col0\" >0.52</td>\n",
       "                        <td id=\"T_06e2f_row2_col1\" class=\"data row2 col1\" >0.51</td>\n",
       "                        <td id=\"T_06e2f_row2_col2\" class=\"data row2 col2\" >nan</td>\n",
       "                        <td id=\"T_06e2f_row2_col3\" class=\"data row2 col3\" >nan</td>\n",
       "            </tr>\n",
       "            <tr>\n",
       "                        <th id=\"T_06e2f_level0_row3\" class=\"row_heading level0 row3\" >Precio</th>\n",
       "                        <td id=\"T_06e2f_row3_col0\" class=\"data row3 col0\" >0.62</td>\n",
       "                        <td id=\"T_06e2f_row3_col1\" class=\"data row3 col1\" >0.39</td>\n",
       "                        <td id=\"T_06e2f_row3_col2\" class=\"data row3 col2\" >0.36</td>\n",
       "                        <td id=\"T_06e2f_row3_col3\" class=\"data row3 col3\" >nan</td>\n",
       "            </tr>\n",
       "    </tbody></table>"
      ],
      "text/plain": [
       "<pandas.io.formats.style.Styler at 0x19d07671f48>"
      ]
     },
     "execution_count": 32,
     "metadata": {},
     "output_type": "execute_result"
    }
   ],
   "source": [
    "diagonal_matrix(data_3)              #New data_3 set"
   ]
  },
  {
   "cell_type": "markdown",
   "id": "91dedf1f-9b9b-479d-a964-ec168e650caa",
   "metadata": {},
   "source": [
    "We can see increments for all correlation coeficients, it could be a good indicator for this first aproaching to the data (filtering by area and number of bathrooms) \\\n",
    "It makes sense because more area costs more money and more rooms require more bathrooms, for example.\n",
    "__________________________________________"
   ]
  },
  {
   "cell_type": "code",
   "execution_count": 33,
   "id": "348fd9b2-1767-428f-8847-0c12ba91c1dd",
   "metadata": {},
   "outputs": [
    {
     "data": {
      "text/plain": [
       "<seaborn.axisgrid.PairGrid at 0x19d7ff71148>"
      ]
     },
     "execution_count": 33,
     "metadata": {},
     "output_type": "execute_result"
    },
    {
     "data": {
      "image/png": "[encoded data removed]",
      "text/plain": [
       "<Figure size 720x720 with 20 Axes>"
      ]
     },
     "metadata": {
      "needs_background": "light"
     },
     "output_type": "display_data"
    }
   ],
   "source": [
    "##another (only) visualization for the relationship\n",
    "sns.pairplot(data_3)                                 #it shows in a grid the correlations between numerical features"
   ]
  },
  {
   "cell_type": "markdown",
   "id": "f9b5f3b0-7e0e-4538-97fd-0293f7f6287f",
   "metadata": {},
   "source": [
    "From the last plot grid we can see right skewed distributions for all numerical attibutes.\\\n",
    "All numerical afeaturesttributes have positive correlations under Pearson method \\\n",
    "In the case Precio-Area it seems that data could be describe by a curve more than with a line\n",
    "___________________________________________________"
   ]
  },
  {
   "cell_type": "code",
   "execution_count": 34,
   "id": "0f1930d0-bb24-4c58-8a9e-465a5622f16d",
   "metadata": {},
   "outputs": [
    {
     "data": {
      "text/plain": [
       "<seaborn.axisgrid.FacetGrid at 0x19d083367c8>"
      ]
     },
     "execution_count": 34,
     "metadata": {},
     "output_type": "execute_result"
    },
    {
     "data": {
      "image/png": "[encoded data removed]",
      "text/plain": [
       "<Figure size 414.875x360 with 1 Axes>"
      ]
     },
     "metadata": {
      "needs_background": "light"
     },
     "output_type": "display_data"
    }
   ],
   "source": [
    "#to see specific columns\n",
    "sns.relplot(x ='Habitaciones', y ='Baños', hue = 'Area', data= data_3)\n",
    "#the hue could be any categorical attribute"
   ]
  },
  {
   "cell_type": "markdown",
   "id": "1255d844-d963-4c4c-946f-9855a47fd682",
   "metadata": {},
   "source": [
    "From this plot we can see how for more rooms (more house habitants) it is necessary to have more bathrooms and then the area increases \n",
    "________________________________"
   ]
  },
  {
   "cell_type": "markdown",
   "id": "541daaa9-a15a-4e14-8ae9-c3293b88cbbc",
   "metadata": {},
   "source": [
    "Missing data of the Habitaciones for the __data_3 set__"
   ]
  },
  {
   "cell_type": "code",
   "execution_count": 35,
   "id": "3ac182dd-3a6e-4449-b05e-2bf5581f6202",
   "metadata": {},
   "outputs": [
    {
     "data": {
      "text/plain": [
       "Ubicación        0\n",
       "Area             0\n",
       "Baños            0\n",
       "Habitaciones    22\n",
       "Precio           5\n",
       "dtype: int64"
      ]
     },
     "execution_count": 35,
     "metadata": {},
     "output_type": "execute_result"
    }
   ],
   "source": [
    "#missing data\n",
    "pd.isnull(data_3).sum()"
   ]
  },
  {
   "cell_type": "code",
   "execution_count": 36,
   "id": "855804fc-f912-45da-8776-40813f6438c2",
   "metadata": {},
   "outputs": [
    {
     "name": "stdout",
     "output_type": "stream",
     "text": [
      "(1646, 5)\n"
     ]
    },
    {
     "data": {
      "text/html": [
       "<div>\n",
       "<style scoped>\n",
       "    .dataframe tbody tr th:only-of-type {\n",
       "        vertical-align: middle;\n",
       "    }\n",
       "\n",
       "    .dataframe tbody tr th {\n",
       "        vertical-align: top;\n",
       "    }\n",
       "\n",
       "    .dataframe thead th {\n",
       "        text-align: right;\n",
       "    }\n",
       "</style>\n",
       "<table border=\"1\" class=\"dataframe\">\n",
       "  <thead>\n",
       "    <tr style=\"text-align: right;\">\n",
       "      <th></th>\n",
       "      <th>Ubicación</th>\n",
       "      <th>Area</th>\n",
       "      <th>Baños</th>\n",
       "      <th>Habitaciones</th>\n",
       "      <th>Precio</th>\n",
       "    </tr>\n",
       "  </thead>\n",
       "  <tbody>\n",
       "    <tr>\n",
       "      <th>50</th>\n",
       "      <td>Casa en Venta Toluca De Lerdo, México</td>\n",
       "      <td>566.0</td>\n",
       "      <td>5.0</td>\n",
       "      <td>NaN</td>\n",
       "      <td>1250000.0</td>\n",
       "    </tr>\n",
       "    <tr>\n",
       "      <th>218</th>\n",
       "      <td>Casa en Venta Prolongacion Laguna Del Volcan S...</td>\n",
       "      <td>400.0</td>\n",
       "      <td>3.0</td>\n",
       "      <td>NaN</td>\n",
       "      <td>185000.0</td>\n",
       "    </tr>\n",
       "    <tr>\n",
       "      <th>265</th>\n",
       "      <td>Casa en Venta San Buenaventura, Toluca De Lerdo</td>\n",
       "      <td>102.0</td>\n",
       "      <td>2.0</td>\n",
       "      <td>NaN</td>\n",
       "      <td>55000.0</td>\n",
       "    </tr>\n",
       "    <tr>\n",
       "      <th>343</th>\n",
       "      <td>Casa en Venta Insurgentes\\n, Capultitlán, Tolu...</td>\n",
       "      <td>210.0</td>\n",
       "      <td>2.0</td>\n",
       "      <td>NaN</td>\n",
       "      <td>90000.0</td>\n",
       "    </tr>\n",
       "    <tr>\n",
       "      <th>379</th>\n",
       "      <td>Casa en Venta Independencia 1\\n, San Mateo Otz...</td>\n",
       "      <td>80.0</td>\n",
       "      <td>1.0</td>\n",
       "      <td>NaN</td>\n",
       "      <td>61500.0</td>\n",
       "    </tr>\n",
       "    <tr>\n",
       "      <th>602</th>\n",
       "      <td>Casa en Venta Prolongación Paseo Totoltepec\\n,...</td>\n",
       "      <td>69.0</td>\n",
       "      <td>1.0</td>\n",
       "      <td>NaN</td>\n",
       "      <td>62500.0</td>\n",
       "    </tr>\n",
       "    <tr>\n",
       "      <th>762</th>\n",
       "      <td>Casa en Venta Ahuehuetes, Toluca De Lerdo</td>\n",
       "      <td>91.0</td>\n",
       "      <td>1.0</td>\n",
       "      <td>NaN</td>\n",
       "      <td>85000.0</td>\n",
       "    </tr>\n",
       "    <tr>\n",
       "      <th>888</th>\n",
       "      <td>Casa en Venta Toluca De Lerdo, México</td>\n",
       "      <td>170.0</td>\n",
       "      <td>2.0</td>\n",
       "      <td>NaN</td>\n",
       "      <td>124000.0</td>\n",
       "    </tr>\n",
       "    <tr>\n",
       "      <th>946</th>\n",
       "      <td>Casa en Venta Privada Fuente De La Luz 117\\n, ...</td>\n",
       "      <td>130.0</td>\n",
       "      <td>1.0</td>\n",
       "      <td>NaN</td>\n",
       "      <td>69750.0</td>\n",
       "    </tr>\n",
       "    <tr>\n",
       "      <th>978</th>\n",
       "      <td>Casa en Venta Altamirano 16\\n, San Mateo Oxtot...</td>\n",
       "      <td>480.0</td>\n",
       "      <td>4.0</td>\n",
       "      <td>NaN</td>\n",
       "      <td>173500.0</td>\n",
       "    </tr>\n",
       "    <tr>\n",
       "      <th>985</th>\n",
       "      <td>Casa en Venta San Lorenzo Tepaltitlan Toluca E...</td>\n",
       "      <td>105.0</td>\n",
       "      <td>2.0</td>\n",
       "      <td>NaN</td>\n",
       "      <td>42500.0</td>\n",
       "    </tr>\n",
       "    <tr>\n",
       "      <th>1019</th>\n",
       "      <td>Casa en Venta Manuel Sotelo 323\\n, Toluca De L...</td>\n",
       "      <td>233.0</td>\n",
       "      <td>3.0</td>\n",
       "      <td>NaN</td>\n",
       "      <td>194750.0</td>\n",
       "    </tr>\n",
       "    <tr>\n",
       "      <th>1052</th>\n",
       "      <td>Casa en Venta Calle Tomas Alva Edison No Al 20...</td>\n",
       "      <td>100.0</td>\n",
       "      <td>3.0</td>\n",
       "      <td>3.0</td>\n",
       "      <td>NaN</td>\n",
       "    </tr>\n",
       "    <tr>\n",
       "      <th>1141</th>\n",
       "      <td>Casa en Venta Casa En Venta Sauces Iv Con Terr...</td>\n",
       "      <td>74.0</td>\n",
       "      <td>1.0</td>\n",
       "      <td>3.0</td>\n",
       "      <td>NaN</td>\n",
       "    </tr>\n",
       "    <tr>\n",
       "      <th>1244</th>\n",
       "      <td>Casa en Venta San Pablo Autopan, Toluca De Lerdo</td>\n",
       "      <td>81.0</td>\n",
       "      <td>1.0</td>\n",
       "      <td>NaN</td>\n",
       "      <td>41000.0</td>\n",
       "    </tr>\n",
       "    <tr>\n",
       "      <th>1249</th>\n",
       "      <td>Casa en Venta Cerrada Lázaro Cárdenas\\n, De Tl...</td>\n",
       "      <td>380.0</td>\n",
       "      <td>4.0</td>\n",
       "      <td>NaN</td>\n",
       "      <td>170000.0</td>\n",
       "    </tr>\n",
       "    <tr>\n",
       "      <th>1266</th>\n",
       "      <td>Casa en Venta Ejido Santa Cruz Azcapotzaltongo...</td>\n",
       "      <td>208.0</td>\n",
       "      <td>4.0</td>\n",
       "      <td>NaN</td>\n",
       "      <td>90000.0</td>\n",
       "    </tr>\n",
       "    <tr>\n",
       "      <th>1281</th>\n",
       "      <td>Casa en Venta Toluca De Lerdo, México</td>\n",
       "      <td>500.0</td>\n",
       "      <td>2.0</td>\n",
       "      <td>NaN</td>\n",
       "      <td>350000.0</td>\n",
       "    </tr>\n",
       "    <tr>\n",
       "      <th>1369</th>\n",
       "      <td>Casa en Venta Toluca De Lerdo, México</td>\n",
       "      <td>90.0</td>\n",
       "      <td>1.0</td>\n",
       "      <td>NaN</td>\n",
       "      <td>65000.0</td>\n",
       "    </tr>\n",
       "    <tr>\n",
       "      <th>1378</th>\n",
       "      <td>Casa en Venta Toluca De Lerdo, México</td>\n",
       "      <td>250.0</td>\n",
       "      <td>5.0</td>\n",
       "      <td>NaN</td>\n",
       "      <td>122500.0</td>\n",
       "    </tr>\n",
       "    <tr>\n",
       "      <th>1393</th>\n",
       "      <td>Casa en Venta Av Morelos Sur\\n, Toluca De Lerd...</td>\n",
       "      <td>118.0</td>\n",
       "      <td>2.0</td>\n",
       "      <td>3.0</td>\n",
       "      <td>NaN</td>\n",
       "    </tr>\n",
       "    <tr>\n",
       "      <th>1423</th>\n",
       "      <td>Casa en Venta Toluca De Lerdo, México</td>\n",
       "      <td>378.0</td>\n",
       "      <td>2.0</td>\n",
       "      <td>NaN</td>\n",
       "      <td>237500.0</td>\n",
       "    </tr>\n",
       "    <tr>\n",
       "      <th>1522</th>\n",
       "      <td>Casa en Venta Toluca De Lerdo, México</td>\n",
       "      <td>380.0</td>\n",
       "      <td>3.0</td>\n",
       "      <td>NaN</td>\n",
       "      <td>549950.0</td>\n",
       "    </tr>\n",
       "    <tr>\n",
       "      <th>1570</th>\n",
       "      <td>Casa en Venta Terreno En Venta Centro Toluca\\n...</td>\n",
       "      <td>700.0</td>\n",
       "      <td>3.0</td>\n",
       "      <td>NaN</td>\n",
       "      <td>1333570.0</td>\n",
       "    </tr>\n",
       "    <tr>\n",
       "      <th>1899</th>\n",
       "      <td>Casa en Venta Tlacopa, Toluca De Lerdo</td>\n",
       "      <td>300.0</td>\n",
       "      <td>1.0</td>\n",
       "      <td>2.0</td>\n",
       "      <td>NaN</td>\n",
       "    </tr>\n",
       "    <tr>\n",
       "      <th>1900</th>\n",
       "      <td>Casa en Venta Tlacopa, Toluca De Lerdo</td>\n",
       "      <td>300.0</td>\n",
       "      <td>1.0</td>\n",
       "      <td>2.0</td>\n",
       "      <td>NaN</td>\n",
       "    </tr>\n",
       "    <tr>\n",
       "      <th>1919</th>\n",
       "      <td>Casa en Venta Toluca De Lerdo, México</td>\n",
       "      <td>111.0</td>\n",
       "      <td>1.0</td>\n",
       "      <td>NaN</td>\n",
       "      <td>49900.0</td>\n",
       "    </tr>\n",
       "  </tbody>\n",
       "</table>\n",
       "</div>"
      ],
      "text/plain": [
       "                                              Ubicación   Area  Baños  \\\n",
       "50                Casa en Venta Toluca De Lerdo, México  566.0    5.0   \n",
       "218   Casa en Venta Prolongacion Laguna Del Volcan S...  400.0    3.0   \n",
       "265     Casa en Venta San Buenaventura, Toluca De Lerdo  102.0    2.0   \n",
       "343   Casa en Venta Insurgentes\\n, Capultitlán, Tolu...  210.0    2.0   \n",
       "379   Casa en Venta Independencia 1\\n, San Mateo Otz...   80.0    1.0   \n",
       "602   Casa en Venta Prolongación Paseo Totoltepec\\n,...   69.0    1.0   \n",
       "762           Casa en Venta Ahuehuetes, Toluca De Lerdo   91.0    1.0   \n",
       "888               Casa en Venta Toluca De Lerdo, México  170.0    2.0   \n",
       "946   Casa en Venta Privada Fuente De La Luz 117\\n, ...  130.0    1.0   \n",
       "978   Casa en Venta Altamirano 16\\n, San Mateo Oxtot...  480.0    4.0   \n",
       "985   Casa en Venta San Lorenzo Tepaltitlan Toluca E...  105.0    2.0   \n",
       "1019  Casa en Venta Manuel Sotelo 323\\n, Toluca De L...  233.0    3.0   \n",
       "1052  Casa en Venta Calle Tomas Alva Edison No Al 20...  100.0    3.0   \n",
       "1141  Casa en Venta Casa En Venta Sauces Iv Con Terr...   74.0    1.0   \n",
       "1244   Casa en Venta San Pablo Autopan, Toluca De Lerdo   81.0    1.0   \n",
       "1249  Casa en Venta Cerrada Lázaro Cárdenas\\n, De Tl...  380.0    4.0   \n",
       "1266  Casa en Venta Ejido Santa Cruz Azcapotzaltongo...  208.0    4.0   \n",
       "1281              Casa en Venta Toluca De Lerdo, México  500.0    2.0   \n",
       "1369              Casa en Venta Toluca De Lerdo, México   90.0    1.0   \n",
       "1378              Casa en Venta Toluca De Lerdo, México  250.0    5.0   \n",
       "1393  Casa en Venta Av Morelos Sur\\n, Toluca De Lerd...  118.0    2.0   \n",
       "1423              Casa en Venta Toluca De Lerdo, México  378.0    2.0   \n",
       "1522              Casa en Venta Toluca De Lerdo, México  380.0    3.0   \n",
       "1570  Casa en Venta Terreno En Venta Centro Toluca\\n...  700.0    3.0   \n",
       "1899             Casa en Venta Tlacopa, Toluca De Lerdo  300.0    1.0   \n",
       "1900             Casa en Venta Tlacopa, Toluca De Lerdo  300.0    1.0   \n",
       "1919              Casa en Venta Toluca De Lerdo, México  111.0    1.0   \n",
       "\n",
       "      Habitaciones     Precio  \n",
       "50             NaN  1250000.0  \n",
       "218            NaN   185000.0  \n",
       "265            NaN    55000.0  \n",
       "343            NaN    90000.0  \n",
       "379            NaN    61500.0  \n",
       "602            NaN    62500.0  \n",
       "762            NaN    85000.0  \n",
       "888            NaN   124000.0  \n",
       "946            NaN    69750.0  \n",
       "978            NaN   173500.0  \n",
       "985            NaN    42500.0  \n",
       "1019           NaN   194750.0  \n",
       "1052           3.0        NaN  \n",
       "1141           3.0        NaN  \n",
       "1244           NaN    41000.0  \n",
       "1249           NaN   170000.0  \n",
       "1266           NaN    90000.0  \n",
       "1281           NaN   350000.0  \n",
       "1369           NaN    65000.0  \n",
       "1378           NaN   122500.0  \n",
       "1393           3.0        NaN  \n",
       "1423           NaN   237500.0  \n",
       "1522           NaN   549950.0  \n",
       "1570           NaN  1333570.0  \n",
       "1899           2.0        NaN  \n",
       "1900           2.0        NaN  \n",
       "1919           NaN    49900.0  "
      ]
     },
     "execution_count": 36,
     "metadata": {},
     "output_type": "execute_result"
    }
   ],
   "source": [
    "#Looking into the missing values for patterns or relations \n",
    "print(data_3.shape)\n",
    "data_3[data_3.isnull().any(axis=1)]"
   ]
  },
  {
   "cell_type": "code",
   "execution_count": 37,
   "id": "5db6d60e-ac33-45db-9653-ca1ae7521662",
   "metadata": {},
   "outputs": [
    {
     "name": "stdout",
     "output_type": "stream",
     "text": [
      "For Habitaciones: \n",
      "Mean value = 3.16 \n",
      "median value = 3.0\n"
     ]
    }
   ],
   "source": [
    "#The histogram for this Habitaciones is almost symetrical, then we expected than the mean and the median values                                                                                                                                                                                                                                                                                                                                                                                                                                                                                                           \n",
    "print(\"For Habitaciones: \\nMean value = {} \\nmedian value = {}\".format(round(data_3.Habitaciones.mean(),2), round(data_3.Habitaciones.median(), 2) ) )"
   ]
  },
  {
   "cell_type": "markdown",
   "id": "cc694e5d-148c-4411-85cc-02b90da9992a",
   "metadata": {},
   "source": [
    "I think the mean and median values for Habitaciones is quite similar, but only to practice lets perform a imputer model, in this case we will use KNN method.\\\n",
    "This method imputes for completing missing values using k-Nearest Neighbors.\n",
    "In this case we use \"Habitaciones\", \"Area\" and \"Baños\" columns. We are not considering Precio because it is suppose to be predicted, in a whole Analysis, which is not the case for this EDA.\\\n",
    "In KNN each missing values are imputed using the mean value from n_neighbors nearest neighbors found in the training set. Two samples are close if the features that neither is missing are close."
   ]
  },
  {
   "cell_type": "code",
   "execution_count": 38,
   "id": "a424ea78-db2a-45a6-af2b-7b31826c7af5",
   "metadata": {},
   "outputs": [
    {
     "data": {
      "text/plain": [
       "<seaborn.axisgrid.FacetGrid at 0x19d082deb08>"
      ]
     },
     "execution_count": 38,
     "metadata": {},
     "output_type": "execute_result"
    },
    {
     "data": {
      "image/png": "[encoded data removed]",
      "text/plain": [
       "<Figure size 432.875x360 with 1 Axes>"
      ]
     },
     "metadata": {
      "needs_background": "light"
     },
     "output_type": "display_data"
    }
   ],
   "source": [
    "#We can see the relationship between area, bathrooms and romms\n",
    "sns.relplot(x ='Area', y ='Baños', hue = 'Habitaciones', data= data_3)\n",
    "#the hue could be any categorical attribute"
   ]
  },
  {
   "cell_type": "code",
   "execution_count": 39,
   "id": "79dbcdc5-3802-48ac-b72b-fa2b8e4cd534",
   "metadata": {},
   "outputs": [
    {
     "name": "stdout",
     "output_type": "stream",
     "text": [
      "(1646, 3) (1646, 3)\n"
     ]
    },
    {
     "data": {
      "image/png": "[encoded data removed]",
      "text/plain": [
       "<Figure size 432x288 with 1 Axes>"
      ]
     },
     "metadata": {
      "needs_background": "light"
     },
     "output_type": "display_data"
    }
   ],
   "source": [
    "#Using KNN\n",
    "from sklearn.impute import KNNImputer                            #import the imputer \n",
    "fea_transformer = KNNImputer(n_neighbors=3)                      # Setting the number ot nearest neighbors as 3, 6, 12, 24 \n",
    "X=data_3[[\"Area\", \"Baños\", \"Habitaciones\"]]                      #selecting the dataframe portion that contains some missing values\n",
    "values = fea_transformer.fit_transform(X)                        #imputing missing values for the data of interest\n",
    "plt.scatter(data_3.Area, data_3.Habitaciones, label='Data with missing values')\n",
    "plt.scatter(data_3.Area, values[:, 2], marker= '.', label='Data without missing values')\n",
    "plt.legend()\n",
    "values.shape\n",
    "print(X.shape, values.shape)"
   ]
  },
  {
   "cell_type": "markdown",
   "id": "37104976-8b31-43a5-b11d-8aaa9d7da4a7",
   "metadata": {},
   "source": [
    "__--------------------->__               __data_4__                    __<---------------------__ \\\n",
    "dataset after imputing \"Habitaciones\" missing values by using KNN method"
   ]
  },
  {
   "cell_type": "code",
   "execution_count": 40,
   "id": "f12ab97d-35db-4255-9031-f61da870f526",
   "metadata": {},
   "outputs": [
    {
     "data": {
      "text/html": [
       "<div>\n",
       "<style scoped>\n",
       "    .dataframe tbody tr th:only-of-type {\n",
       "        vertical-align: middle;\n",
       "    }\n",
       "\n",
       "    .dataframe tbody tr th {\n",
       "        vertical-align: top;\n",
       "    }\n",
       "\n",
       "    .dataframe thead th {\n",
       "        text-align: right;\n",
       "    }\n",
       "</style>\n",
       "<table border=\"1\" class=\"dataframe\">\n",
       "  <thead>\n",
       "    <tr style=\"text-align: right;\">\n",
       "      <th></th>\n",
       "      <th>Ubicación</th>\n",
       "      <th>Area</th>\n",
       "      <th>Baños</th>\n",
       "      <th>Habitaciones</th>\n",
       "      <th>Precio</th>\n",
       "    </tr>\n",
       "  </thead>\n",
       "  <tbody>\n",
       "    <tr>\n",
       "      <th>0</th>\n",
       "      <td>Casa en Venta Los Serrados\\n, Toluca De Lerdo,...</td>\n",
       "      <td>105.0</td>\n",
       "      <td>2.0</td>\n",
       "      <td>3.0</td>\n",
       "      <td>130000.0</td>\n",
       "    </tr>\n",
       "    <tr>\n",
       "      <th>1</th>\n",
       "      <td>Casa en Venta Tierra Y Libertad #114\\n, Toluca...</td>\n",
       "      <td>115.0</td>\n",
       "      <td>2.0</td>\n",
       "      <td>3.0</td>\n",
       "      <td>50800.0</td>\n",
       "    </tr>\n",
       "    <tr>\n",
       "      <th>2</th>\n",
       "      <td>Casa en Venta Toluca De Lerdo, México</td>\n",
       "      <td>700.0</td>\n",
       "      <td>3.0</td>\n",
       "      <td>3.0</td>\n",
       "      <td>325000.0</td>\n",
       "    </tr>\n",
       "    <tr>\n",
       "      <th>3</th>\n",
       "      <td>Casa en Venta Granjas, Toluca De Lerdo</td>\n",
       "      <td>390.0</td>\n",
       "      <td>3.0</td>\n",
       "      <td>4.0</td>\n",
       "      <td>275000.0</td>\n",
       "    </tr>\n",
       "    <tr>\n",
       "      <th>4</th>\n",
       "      <td>Casa en Venta Toluca De Lerdo, México</td>\n",
       "      <td>300.0</td>\n",
       "      <td>4.0</td>\n",
       "      <td>3.0</td>\n",
       "      <td>215000.0</td>\n",
       "    </tr>\n",
       "    <tr>\n",
       "      <th>...</th>\n",
       "      <td>...</td>\n",
       "      <td>...</td>\n",
       "      <td>...</td>\n",
       "      <td>...</td>\n",
       "      <td>...</td>\n",
       "    </tr>\n",
       "    <tr>\n",
       "      <th>1976</th>\n",
       "      <td>Casa en Venta Toluca De Lerdo, México</td>\n",
       "      <td>60.0</td>\n",
       "      <td>1.0</td>\n",
       "      <td>2.0</td>\n",
       "      <td>30000.0</td>\n",
       "    </tr>\n",
       "    <tr>\n",
       "      <th>1977</th>\n",
       "      <td>Casa en Venta Toluca De Lerdo, México</td>\n",
       "      <td>120.0</td>\n",
       "      <td>2.0</td>\n",
       "      <td>2.0</td>\n",
       "      <td>35000.0</td>\n",
       "    </tr>\n",
       "    <tr>\n",
       "      <th>1980</th>\n",
       "      <td>Casa en Venta Toluca De Lerdo, México</td>\n",
       "      <td>294.0</td>\n",
       "      <td>3.0</td>\n",
       "      <td>3.0</td>\n",
       "      <td>100000.0</td>\n",
       "    </tr>\n",
       "    <tr>\n",
       "      <th>1981</th>\n",
       "      <td>Casa en Venta Toluca De Lerdo, México</td>\n",
       "      <td>353.0</td>\n",
       "      <td>5.0</td>\n",
       "      <td>5.0</td>\n",
       "      <td>105000.0</td>\n",
       "    </tr>\n",
       "    <tr>\n",
       "      <th>1982</th>\n",
       "      <td>Casa en Venta Toluca De Lerdo, México</td>\n",
       "      <td>624.0</td>\n",
       "      <td>3.0</td>\n",
       "      <td>4.0</td>\n",
       "      <td>210000.0</td>\n",
       "    </tr>\n",
       "  </tbody>\n",
       "</table>\n",
       "<p>1646 rows × 5 columns</p>\n",
       "</div>"
      ],
      "text/plain": [
       "                                              Ubicación   Area  Baños  \\\n",
       "0     Casa en Venta Los Serrados\\n, Toluca De Lerdo,...  105.0    2.0   \n",
       "1     Casa en Venta Tierra Y Libertad #114\\n, Toluca...  115.0    2.0   \n",
       "2                 Casa en Venta Toluca De Lerdo, México  700.0    3.0   \n",
       "3                Casa en Venta Granjas, Toluca De Lerdo  390.0    3.0   \n",
       "4                 Casa en Venta Toluca De Lerdo, México  300.0    4.0   \n",
       "...                                                 ...    ...    ...   \n",
       "1976              Casa en Venta Toluca De Lerdo, México   60.0    1.0   \n",
       "1977              Casa en Venta Toluca De Lerdo, México  120.0    2.0   \n",
       "1980              Casa en Venta Toluca De Lerdo, México  294.0    3.0   \n",
       "1981              Casa en Venta Toluca De Lerdo, México  353.0    5.0   \n",
       "1982              Casa en Venta Toluca De Lerdo, México  624.0    3.0   \n",
       "\n",
       "      Habitaciones    Precio  \n",
       "0              3.0  130000.0  \n",
       "1              3.0   50800.0  \n",
       "2              3.0  325000.0  \n",
       "3              4.0  275000.0  \n",
       "4              3.0  215000.0  \n",
       "...            ...       ...  \n",
       "1976           2.0   30000.0  \n",
       "1977           2.0   35000.0  \n",
       "1980           3.0  100000.0  \n",
       "1981           5.0  105000.0  \n",
       "1982           4.0  210000.0  \n",
       "\n",
       "[1646 rows x 5 columns]"
      ]
     },
     "execution_count": 40,
     "metadata": {},
     "output_type": "execute_result"
    }
   ],
   "source": [
    "#Now we can calculate the correlation matrix using the new values \n",
    "data_4=data_3.drop(\"Habitaciones\", axis = 1)\n",
    "data_4[\"Habitaciones\"]=values[:, 2]\n",
    "data_4 = data_4.reindex(columns=['Ubicación', 'Area', 'Baños', 'Habitaciones', 'Precio'])\n",
    "data_4"
   ]
  },
  {
   "cell_type": "markdown",
   "id": "a131a743-eb65-423f-922e-e1512e7dd013",
   "metadata": {},
   "source": [
    "We can compare the correlation coeficients after imputting the missing values fro Habitaciones"
   ]
  },
  {
   "cell_type": "code",
   "execution_count": 41,
   "id": "2149607b-e7db-40cd-9003-c1e7059373d2",
   "metadata": {},
   "outputs": [
    {
     "data": {
      "text/html": [
       "<style  type=\"text/css\" >\n",
       "#T_00a2c_row0_col0,#T_00a2c_row0_col1,#T_00a2c_row0_col2,#T_00a2c_row0_col3,#T_00a2c_row1_col1,#T_00a2c_row1_col2,#T_00a2c_row1_col3,#T_00a2c_row2_col2,#T_00a2c_row2_col3,#T_00a2c_row3_col3{\n",
       "            background-color:  #000000;\n",
       "            color:  #f1f1f1;\n",
       "            background-color:  #f1f1f1;\n",
       "        }#T_00a2c_row1_col0{\n",
       "            background-color:  #c5171c;\n",
       "            color:  #f1f1f1;\n",
       "        }#T_00a2c_row2_col0{\n",
       "            background-color:  #c8171c;\n",
       "            color:  #f1f1f1;\n",
       "        }#T_00a2c_row2_col1{\n",
       "            background-color:  #ca181d;\n",
       "            color:  #f1f1f1;\n",
       "        }#T_00a2c_row3_col0{\n",
       "            background-color:  #b81419;\n",
       "            color:  #f1f1f1;\n",
       "        }#T_00a2c_row3_col1{\n",
       "            background-color:  #da2723;\n",
       "            color:  #f1f1f1;\n",
       "        }#T_00a2c_row3_col2{\n",
       "            background-color:  #de2b25;\n",
       "            color:  #f1f1f1;\n",
       "        }</style><table id=\"T_00a2c_\" ><thead>    <tr>        <th class=\"blank level0\" ></th>        <th class=\"col_heading level0 col0\" >Area</th>        <th class=\"col_heading level0 col1\" >Baños</th>        <th class=\"col_heading level0 col2\" >Habitaciones</th>        <th class=\"col_heading level0 col3\" >Precio</th>    </tr></thead><tbody>\n",
       "                <tr>\n",
       "                        <th id=\"T_00a2c_level0_row0\" class=\"row_heading level0 row0\" >Area</th>\n",
       "                        <td id=\"T_00a2c_row0_col0\" class=\"data row0 col0\" >nan</td>\n",
       "                        <td id=\"T_00a2c_row0_col1\" class=\"data row0 col1\" >nan</td>\n",
       "                        <td id=\"T_00a2c_row0_col2\" class=\"data row0 col2\" >nan</td>\n",
       "                        <td id=\"T_00a2c_row0_col3\" class=\"data row0 col3\" >nan</td>\n",
       "            </tr>\n",
       "            <tr>\n",
       "                        <th id=\"T_00a2c_level0_row1\" class=\"row_heading level0 row1\" >Baños</th>\n",
       "                        <td id=\"T_00a2c_row1_col0\" class=\"data row1 col0\" >0.53</td>\n",
       "                        <td id=\"T_00a2c_row1_col1\" class=\"data row1 col1\" >nan</td>\n",
       "                        <td id=\"T_00a2c_row1_col2\" class=\"data row1 col2\" >nan</td>\n",
       "                        <td id=\"T_00a2c_row1_col3\" class=\"data row1 col3\" >nan</td>\n",
       "            </tr>\n",
       "            <tr>\n",
       "                        <th id=\"T_00a2c_level0_row2\" class=\"row_heading level0 row2\" >Habitaciones</th>\n",
       "                        <td id=\"T_00a2c_row2_col0\" class=\"data row2 col0\" >0.52</td>\n",
       "                        <td id=\"T_00a2c_row2_col1\" class=\"data row2 col1\" >0.51</td>\n",
       "                        <td id=\"T_00a2c_row2_col2\" class=\"data row2 col2\" >nan</td>\n",
       "                        <td id=\"T_00a2c_row2_col3\" class=\"data row2 col3\" >nan</td>\n",
       "            </tr>\n",
       "            <tr>\n",
       "                        <th id=\"T_00a2c_level0_row3\" class=\"row_heading level0 row3\" >Precio</th>\n",
       "                        <td id=\"T_00a2c_row3_col0\" class=\"data row3 col0\" >0.62</td>\n",
       "                        <td id=\"T_00a2c_row3_col1\" class=\"data row3 col1\" >0.39</td>\n",
       "                        <td id=\"T_00a2c_row3_col2\" class=\"data row3 col2\" >0.36</td>\n",
       "                        <td id=\"T_00a2c_row3_col3\" class=\"data row3 col3\" >nan</td>\n",
       "            </tr>\n",
       "    </tbody></table>"
      ],
      "text/plain": [
       "<pandas.io.formats.style.Styler at 0x19d09cd4fc8>"
      ]
     },
     "execution_count": 41,
     "metadata": {},
     "output_type": "execute_result"
    }
   ],
   "source": [
    "diagonal_matrix(data_3)                # data_3 set"
   ]
  },
  {
   "cell_type": "code",
   "execution_count": 42,
   "id": "e3ddd63f-2dec-4f49-9536-60c8d12e408c",
   "metadata": {},
   "outputs": [
    {
     "data": {
      "text/html": [
       "<style  type=\"text/css\" >\n",
       "#T_97108_row0_col0,#T_97108_row0_col1,#T_97108_row0_col2,#T_97108_row0_col3,#T_97108_row1_col1,#T_97108_row1_col2,#T_97108_row1_col3,#T_97108_row2_col2,#T_97108_row2_col3,#T_97108_row3_col3{\n",
       "            background-color:  #000000;\n",
       "            color:  #f1f1f1;\n",
       "            background-color:  #f1f1f1;\n",
       "        }#T_97108_row1_col0{\n",
       "            background-color:  #c5171c;\n",
       "            color:  #f1f1f1;\n",
       "        }#T_97108_row2_col0{\n",
       "            background-color:  #c7171c;\n",
       "            color:  #f1f1f1;\n",
       "        }#T_97108_row2_col1{\n",
       "            background-color:  #c9181d;\n",
       "            color:  #f1f1f1;\n",
       "        }#T_97108_row3_col0{\n",
       "            background-color:  #b81419;\n",
       "            color:  #f1f1f1;\n",
       "        }#T_97108_row3_col1{\n",
       "            background-color:  #da2723;\n",
       "            color:  #f1f1f1;\n",
       "        }#T_97108_row3_col2{\n",
       "            background-color:  #dd2a25;\n",
       "            color:  #f1f1f1;\n",
       "        }</style><table id=\"T_97108_\" ><thead>    <tr>        <th class=\"blank level0\" ></th>        <th class=\"col_heading level0 col0\" >Area</th>        <th class=\"col_heading level0 col1\" >Baños</th>        <th class=\"col_heading level0 col2\" >Habitaciones</th>        <th class=\"col_heading level0 col3\" >Precio</th>    </tr></thead><tbody>\n",
       "                <tr>\n",
       "                        <th id=\"T_97108_level0_row0\" class=\"row_heading level0 row0\" >Area</th>\n",
       "                        <td id=\"T_97108_row0_col0\" class=\"data row0 col0\" >nan</td>\n",
       "                        <td id=\"T_97108_row0_col1\" class=\"data row0 col1\" >nan</td>\n",
       "                        <td id=\"T_97108_row0_col2\" class=\"data row0 col2\" >nan</td>\n",
       "                        <td id=\"T_97108_row0_col3\" class=\"data row0 col3\" >nan</td>\n",
       "            </tr>\n",
       "            <tr>\n",
       "                        <th id=\"T_97108_level0_row1\" class=\"row_heading level0 row1\" >Baños</th>\n",
       "                        <td id=\"T_97108_row1_col0\" class=\"data row1 col0\" >0.53</td>\n",
       "                        <td id=\"T_97108_row1_col1\" class=\"data row1 col1\" >nan</td>\n",
       "                        <td id=\"T_97108_row1_col2\" class=\"data row1 col2\" >nan</td>\n",
       "                        <td id=\"T_97108_row1_col3\" class=\"data row1 col3\" >nan</td>\n",
       "            </tr>\n",
       "            <tr>\n",
       "                        <th id=\"T_97108_level0_row2\" class=\"row_heading level0 row2\" >Habitaciones</th>\n",
       "                        <td id=\"T_97108_row2_col0\" class=\"data row2 col0\" >0.52</td>\n",
       "                        <td id=\"T_97108_row2_col1\" class=\"data row2 col1\" >0.51</td>\n",
       "                        <td id=\"T_97108_row2_col2\" class=\"data row2 col2\" >nan</td>\n",
       "                        <td id=\"T_97108_row2_col3\" class=\"data row2 col3\" >nan</td>\n",
       "            </tr>\n",
       "            <tr>\n",
       "                        <th id=\"T_97108_level0_row3\" class=\"row_heading level0 row3\" >Precio</th>\n",
       "                        <td id=\"T_97108_row3_col0\" class=\"data row3 col0\" >0.62</td>\n",
       "                        <td id=\"T_97108_row3_col1\" class=\"data row3 col1\" >0.39</td>\n",
       "                        <td id=\"T_97108_row3_col2\" class=\"data row3 col2\" >0.37</td>\n",
       "                        <td id=\"T_97108_row3_col3\" class=\"data row3 col3\" >nan</td>\n",
       "            </tr>\n",
       "    </tbody></table>"
      ],
      "text/plain": [
       "<pandas.io.formats.style.Styler at 0x19d09ce2bc8>"
      ]
     },
     "execution_count": 42,
     "metadata": {},
     "output_type": "execute_result"
    }
   ],
   "source": [
    "diagonal_matrix(data_4)                 # data_4 set"
   ]
  },
  {
   "cell_type": "markdown",
   "id": "ab0cb499-96e5-4bc2-bb4a-c269be21b123",
   "metadata": {},
   "source": [
    "Filling missing data increase the correlation between Habitaciones-Precio\n",
    "______________________________________"
   ]
  },
  {
   "cell_type": "markdown",
   "id": "85daeac9-bca6-4818-bdf5-c30cf1d22f3c",
   "metadata": {},
   "source": [
    "Now, lets fitting distribution for some data in data_3, notice that there are discrete and continuous variables"
   ]
  },
  {
   "cell_type": "code",
   "execution_count": 43,
   "id": "2c7bfa3e-06a7-4ed9-9feb-0e36108ada54",
   "metadata": {},
   "outputs": [
    {
     "data": {
      "image/png": "[encoded data removed]",
      "text/plain": [
       "<Figure size 432x288 with 1 Axes>"
      ]
     },
     "metadata": {
      "needs_background": "light"
     },
     "output_type": "display_data"
    },
    {
     "name": "stdout",
     "output_type": "stream",
     "text": [
      "#############################\n",
      "p-value:\n",
      " 1.988263204514379e-10\n"
     ]
    }
   ],
   "source": [
    "#fitting a gamma distribution using the d_gamma function \n",
    "X = data_4[\"Area\"]                         #data set to fitting\n",
    "d_gamma(X, \"Area\")                         #calling function  d_gamma function "
   ]
  },
  {
   "cell_type": "code",
   "execution_count": 44,
   "id": "31df5e26-11c8-4736-a032-c90cd304df2b",
   "metadata": {},
   "outputs": [
    {
     "name": "stderr",
     "output_type": "stream",
     "text": [
      "c:\\users\\crgbl\\appdata\\local\\programs\\python\\python37\\lib\\site-packages\\scipy\\optimize\\optimize.py:734: RuntimeWarning: invalid value encountered in subtract\n",
      "  np.max(np.abs(fsim[0] - fsim[1:])) <= fatol):\n"
     ]
    },
    {
     "name": "stdout",
     "output_type": "stream",
     "text": [
      "Warning: Maximum number of function evaluations has been exceeded.\n",
      "The mu parameter is: 3.0\n"
     ]
    },
    {
     "data": {
      "image/png": "[encoded data removed]",
      "text/plain": [
       "<Figure size 432x288 with 1 Axes>"
      ]
     },
     "metadata": {
      "needs_background": "light"
     },
     "output_type": "display_data"
    },
    {
     "name": "stdout",
     "output_type": "stream",
     "text": [
      "#############################\n",
      "p-value:\n",
      " 0.0\n"
     ]
    }
   ],
   "source": [
    "#fitting a poisson distribution\n",
    "X = data_4[\"Habitaciones\"]                      #data set to fitting  \n",
    "X=X.reset_index(drop= True)                     #we need to reset the index, because in the past steps we have been dropping some rows, but the index is not updated\n",
    "                                                #to avoid errors in the for loop of the loss_function\n",
    "#showing the histogram for Habitaciones\n",
    "plt.hist(X, bins=10, density=True, alpha= 0.6, label =\"Data\")\n",
    "#Finding the fitting parameters\n",
    "params0 = np.array([3])                         #value to be the first guess, in the case of a Poisson Distribution this parameter is equal to the median value\n",
    "minimum = scipy.optimize.fmin(loss_function, params0, args=(X,))   # Minimizing the loss function\n",
    "mu_fit= minimum[0]                              #better mu value (median in this case) after minimizing the loss function\n",
    "print(\"The mu parameter is:\", mu_fit)\n",
    "#to visualize this fitting \n",
    "x = list(range(int(np.min(X)), int(np.max(X))+1))  #array of x values, in the same range for area values\n",
    "plt.scatter(x, scipy.stats.poisson.pmf(x, mu_fit), color= \"red\", label =\"Fitting Poisson\")          #density curve for Area\n",
    "plt.title(\"Habitaciones Distribution for the data_4 dataset\")\n",
    "plt.legend()\n",
    "plt.show()\n",
    "print(\"#############################\\np-value:\\n\", scipy.stats.kstest(X, scipy.stats.poisson.pmf(x, mu_fit))[1])"
   ]
  },
  {
   "cell_type": "markdown",
   "id": "ca91dc09-2c5b-47fc-b6e1-8bf20f3c4fe6",
   "metadata": {},
   "source": [
    "_____________________________________"
   ]
  },
  {
   "cell_type": "markdown",
   "id": "636e14e7-09d4-4cbf-86e7-0b3268074dce",
   "metadata": {
    "tags": []
   },
   "source": [
    "### 4. Conclusions"
   ]
  },
  {
   "cell_type": "markdown",
   "id": "64db163a-ec1d-4b28-a48c-513598b244e8",
   "metadata": {},
   "source": [
    "I performed EDA over a dataset of house prices from Toluca.The data was retrieved from Kaggle and provided by Jean Pierre Betancourt.\n",
    "\n",
    "The dataset has some columns to drop and several outliers and missing values. Some techniques were used to handle each situation.\n",
    "\n",
    "Several data tendencies and relationships were found and described.\n",
    "\n",
    "For further analysis it might be consider:\n",
    "* The relationship \"Area-Precio\" as a function of the \"Ubicación\"\n",
    "* A data normalization before performing KNN since it uses euclidian distance metric to find the nearest neighbors"
   ]
  }
 ],
 "metadata": {
  "kernelspec": {
   "display_name": "Python 3",
   "language": "python",
   "name": "python3"
  },
  "language_info": {
   "codemirror_mode": {
    "name": "ipython",
    "version": 3
   },
   "file_extension": ".py",
   "mimetype": "text/x-python",
   "name": "python",
   "nbconvert_exporter": "python",
   "pygments_lexer": "ipython3",
   "version": "3.7.9"
  }
 },
 "nbformat": 4,
 "nbformat_minor": 5
}
