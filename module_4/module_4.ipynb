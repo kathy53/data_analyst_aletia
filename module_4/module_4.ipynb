{
 "cells": [
  {
   "cell_type": "markdown",
   "id": "7cff210d-4f1c-4bf0-aaa2-a90cfd454f5c",
   "metadata": {
    "tags": []
   },
   "source": [
    "# Principal Components Analyisis"
   ]
  },
  {
   "cell_type": "markdown",
   "id": "70faf03a-b6a5-40cd-b00c-63d124c6fdcc",
   "metadata": {},
   "source": [
    "This notebook presents the data preprocessing and the principal components analysis for a dataset.\\\n",
    "The notebook is divided into three sections. In the first section, packages were loaded, and functions were defined. The following two sections present the EDA and PCA for respectively. "
   ]
  },
  {
   "cell_type": "markdown",
   "id": "94fa26b0-5c75-4b12-9cf6-186cf78b6d52",
   "metadata": {},
   "source": [
    "## 0. Loading packages and data. Defining functions"
   ]
  },
  {
   "cell_type": "code",
   "execution_count": 1,
   "id": "8e634187-5478-4ee3-a0fe-036fe6289490",
   "metadata": {},
   "outputs": [],
   "source": [
    "import pandas as pd\n",
    "import numpy as np\n",
    "import matplotlib.pyplot as plt\n",
    "import seaborn as sns\n",
    "from sklearn.preprocessing import MinMaxScaler  \n",
    "from sklearn.preprocessing import StandardScaler\n",
    "from scipy import stats"
   ]
  },
  {
   "cell_type": "code",
   "execution_count": 2,
   "id": "2f201aad-f137-4c3b-9428-f5e89ae0574d",
   "metadata": {},
   "outputs": [],
   "source": [
    "#visualizing outliers for area\n",
    "#due to salary scale is bigger, we use different charts \n",
    "def plot_stats(i, j):\n",
    "    \"\"\"Shows Boxplots \n",
    "       Arg\n",
    "       i, j (int): range of columns of a dataframe to visualize its boxplots\n",
    "    \"\"\"\n",
    "    data_1.iloc[:, i:j].plot(\n",
    "        kind='box',             #plot type\n",
    "        subplots=True,          #create multiple subplots\n",
    "        sharey=False,           # It works along with sbuplots=True to isolate the y-axis for each column. \n",
    "        figsize=(10, 6)         #figure size\n",
    "    )\n",
    "    # increase spacing between subplots\n",
    "    plt.subplots_adjust(wspace=0.5) \n",
    "    plt.show()"
   ]
  },
  {
   "cell_type": "markdown",
   "id": "e7c321b6-bb71-494a-8b17-a69b77a69bf7",
   "metadata": {},
   "source": [
    "__Loading dataset__"
   ]
  },
  {
   "cell_type": "code",
   "execution_count": 3,
   "id": "99ff263f-fbae-4e38-83e1-8185ad830cb7",
   "metadata": {
    "tags": []
   },
   "outputs": [],
   "source": [
    "#loading data \n",
    "data_salary = pd.read_csv(\"Salaries1.csv\")\n",
    "data_seasons = pd.read_csv(\"Seasons_Stats.csv\")"
   ]
  },
  {
   "cell_type": "markdown",
   "id": "6b477b73-b0f7-4fb9-a642-696fd6d1df98",
   "metadata": {},
   "source": [
    "We have two files with data related to NBA. The first one is about salaries  and the second one about statistics of NBA players. "
   ]
  },
  {
   "cell_type": "markdown",
   "id": "81876899-e725-4973-85da-341ef8e6bf12",
   "metadata": {},
   "source": [
    "We are going to join the files. But in Seasons_Stats.csv the information is presented for different years, and also a player could play for different team. While in Salaries1.csv the player plays for a specific team and the salary corresponds to that work, then we need to consider those two variables "
   ]
  },
  {
   "cell_type": "code",
   "execution_count": 4,
   "id": "7966176c-82fc-4ec2-80f8-e71969ca3194",
   "metadata": {},
   "outputs": [],
   "source": [
    "#Merging both files by player and team\n",
    "data=data_salary.merge(data_seasons, left_on= ['NAME', 'TEAM'], right_on= ['Player', 'Tm'], how = 'inner')"
   ]
  },
  {
   "cell_type": "markdown",
   "id": "de869d64-f661-4bf7-9e66-56c237c5fe05",
   "metadata": {},
   "source": [
    "## 1. Cleaning and transformations"
   ]
  },
  {
   "cell_type": "markdown",
   "id": "82fe35d5-beb0-426c-99b0-5121189a29fa",
   "metadata": {},
   "source": [
    "### 1.1. Getting familiar with data (Data information)"
   ]
  },
  {
   "cell_type": "code",
   "execution_count": 5,
   "id": "88b43e2d-f8c5-4bcc-a554-713adc1c426b",
   "metadata": {},
   "outputs": [
    {
     "name": "stdout",
     "output_type": "stream",
     "text": [
      "Data columns\n",
      " Index(['RK', 'NAME', 'TEAM', 'SALARY         ', 'Team Rank', 'Unnamed: 0',\n",
      "       'Year', 'Player', 'Pos', 'Age', 'Tm', 'G', 'GS', 'MP', 'PER', 'TS%',\n",
      "       '3PAr', 'FTr', 'ORB%', 'DRB%', 'TRB%', 'AST%', 'STL%', 'BLK%', 'TOV%',\n",
      "       'USG%', 'blanl', 'OWS', 'DWS', 'WS', 'WS/48', 'blank2', 'OBPM', 'DBPM',\n",
      "       'BPM', 'VORP', 'FG', 'FGA', 'FG%', '3P', '3PA', '3P%', '2P', '2PA',\n",
      "       '2P%', 'eFG%', 'FT', 'FTA', 'FT%', 'ORB', 'DRB', 'TRB', 'AST', 'STL',\n",
      "       'BLK', 'TOV', 'PF', 'PTS'],\n",
      "      dtype='object') \n",
      "\n",
      "The shape of the DataFrame is:\n",
      " (1184, 58)\n"
     ]
    }
   ],
   "source": [
    "print('Data columns\\n', data.columns, '\\n\\nThe shape of the DataFrame is:\\n', data.shape)\n",
    "#It is necessary to drop two of these columns because they have the same information"
   ]
  },
  {
   "cell_type": "markdown",
   "id": "755e643b-811a-4210-90c7-8890fbbddef6",
   "metadata": {},
   "source": [
    "Here we can see that the column's name SALARY has several blank spaces, it would be changed later. Also, just for format, we are going to change the last column\\\n",
    "Also, several column's names have \"%\" symbol I do not know if this could create some kind of conflict when invoque them. For now, we keep them."
   ]
  },
  {
   "cell_type": "code",
   "execution_count": 6,
   "id": "cd91dd67-2f38-48d8-9347-1753fe8720a4",
   "metadata": {
    "tags": []
   },
   "outputs": [
    {
     "name": "stdout",
     "output_type": "stream",
     "text": [
      "\n",
      "#############    DATA HEAD   #############\n",
      "    RK          NAME TEAM  SALARY           Team Rank  Unnamed: 0    Year  \\\n",
      "0   1  LeBron James  CLE       30963450.0          1       16746  2004.0   \n",
      "1   1  LeBron James  CLE       30963450.0          1       17344  2005.0   \n",
      "2   1  LeBron James  CLE       30963450.0          1       17918  2006.0   \n",
      "3   1  LeBron James  CLE       30963450.0          1       18460  2007.0   \n",
      "4   1  LeBron James  CLE       30963450.0          1       19017  2008.0   \n",
      "\n",
      "         Player Pos   Age  ...    FT%    ORB    DRB    TRB    AST    STL  \\\n",
      "0  LeBron James  SG  19.0  ...  0.754   99.0  333.0  432.0  465.0  130.0   \n",
      "1  LeBron James  SF  20.0  ...  0.750  111.0  477.0  588.0  577.0  177.0   \n",
      "2  LeBron James  SF  21.0  ...  0.738   75.0  481.0  556.0  521.0  123.0   \n",
      "3  LeBron James  SF  22.0  ...  0.698   83.0  443.0  526.0  470.0  125.0   \n",
      "4  LeBron James  SF  23.0  ...  0.712  133.0  459.0  592.0  539.0  138.0   \n",
      "\n",
      "    BLK    TOV     PF     PTS  \n",
      "0  58.0  273.0  149.0  1654.0  \n",
      "1  52.0  262.0  146.0  2175.0  \n",
      "2  66.0  260.0  181.0  2478.0  \n",
      "3  55.0  250.0  171.0  2132.0  \n",
      "4  81.0  255.0  165.0  2250.0  \n",
      "\n",
      "[5 rows x 58 columns]\n",
      "\n",
      "#############    DATA SEGMENT    #############\n",
      "      RK            NAME TEAM  SALARY           Team Rank  Unnamed: 0    Year  \\\n",
      "200  44       John Wall  WAS       16957900.0          2       23472  2015.0   \n",
      "201  44       John Wall  WAS       16957900.0          2       24060  2016.0   \n",
      "202  44       John Wall  WAS       16957900.0          2       24646  2017.0   \n",
      "203  45   Klay Thompson  GSW       16663575.0          2       21602  2012.0   \n",
      "204  45   Klay Thompson  GSW       16663575.0          2       22188  2013.0   \n",
      "205  45   Klay Thompson  GSW       16663575.0          2       22797  2014.0   \n",
      "206  45   Klay Thompson  GSW       16663575.0          2       23446  2015.0   \n",
      "207  45   Klay Thompson  GSW       16663575.0          2       24033  2016.0   \n",
      "208  45   Klay Thompson  GSW       16663575.0          2       24617  2017.0   \n",
      "209  46     Evan Turner  POR       16393443.0          3       24629  2017.0   \n",
      "210  47  Gordon Hayward  UTA       16073140.0          1       20776  2011.0   \n",
      "211  47  Gordon Hayward  UTA       16073140.0          1       21349  2012.0   \n",
      "212  47  Gordon Hayward  UTA       16073140.0          1       21900  2013.0   \n",
      "213  47  Gordon Hayward  UTA       16073140.0          1       22520  2014.0   \n",
      "214  47  Gordon Hayward  UTA       16073140.0          1       23123  2015.0   \n",
      "215  47  Gordon Hayward  UTA       16073140.0          1       23736  2016.0   \n",
      "216  47  Gordon Hayward  UTA       16073140.0          1       24321  2017.0   \n",
      "217  48  Timofey Mozgov  LAL       16000000.0          2       24477  2017.0   \n",
      "218  49     Ian Mahinmi  WAS       15944154.0          3       24434  2017.0   \n",
      "219  50    Goran Dragic  MIA       15891725.0          2       23031  2015.0   \n",
      "\n",
      "             Player Pos   Age  ...    FT%    ORB    DRB    TRB    AST    STL  \\\n",
      "200       John Wall  PG  24.0  ...  0.785   36.0  330.0  366.0  792.0  138.0   \n",
      "201       John Wall  PG  25.0  ...  0.791   42.0  337.0  379.0  789.0  145.0   \n",
      "202       John Wall  PG  26.0  ...  0.801   58.0  268.0  326.0  831.0  157.0   \n",
      "203   Klay Thompson  SG  21.0  ...  0.868   24.0  137.0  161.0  133.0   49.0   \n",
      "204   Klay Thompson  SG  22.0  ...  0.841   32.0  274.0  306.0  183.0   86.0   \n",
      "205   Klay Thompson  SG  23.0  ...  0.795   38.0  211.0  249.0  181.0   74.0   \n",
      "206   Klay Thompson  SG  24.0  ...  0.879   27.0  220.0  247.0  222.0   87.0   \n",
      "207   Klay Thompson  SG  25.0  ...  0.873   35.0  271.0  306.0  166.0   60.0   \n",
      "208   Klay Thompson  SG  26.0  ...  0.853   49.0  236.0  285.0  160.0   66.0   \n",
      "209     Evan Turner  SF  28.0  ...  0.825   36.0  211.0  247.0  205.0   53.0   \n",
      "210  Gordon Hayward  SF  20.0  ...  0.711   41.0   98.0  139.0   81.0   30.0   \n",
      "211  Gordon Hayward  SF  21.0  ...  0.832   59.0  171.0  230.0  207.0   53.0   \n",
      "212  Gordon Hayward  SF  22.0  ...  0.827   51.0  174.0  225.0  213.0   58.0   \n",
      "213  Gordon Hayward  SF  23.0  ...  0.816   62.0  329.0  391.0  400.0  110.0   \n",
      "214  Gordon Hayward  SF  24.0  ...  0.812   54.0  319.0  373.0  313.0  108.0   \n",
      "215  Gordon Hayward  SF  25.0  ...  0.824   61.0  336.0  397.0  296.0   95.0   \n",
      "216  Gordon Hayward  SF  26.0  ...  0.844   49.0  344.0  393.0  252.0   73.0   \n",
      "217  Timofey Mozgov   C  30.0  ...  0.808  104.0  160.0  264.0   43.0   16.0   \n",
      "218     Ian Mahinmi   C  30.0  ...  0.573   47.0  103.0  150.0   19.0   33.0   \n",
      "219    Goran Dragic  PG  28.0  ...  0.808   30.0   59.0   89.0  139.0   28.0   \n",
      "\n",
      "      BLK    TOV     PF     PTS  \n",
      "200  45.0  304.0  180.0  1387.0  \n",
      "201  59.0  318.0  159.0  1531.0  \n",
      "202  49.0  323.0  151.0  1805.0  \n",
      "203  20.0  103.0  155.0   826.0  \n",
      "204  45.0  157.0  237.0  1359.0  \n",
      "205  37.0  135.0  234.0  1488.0  \n",
      "206  60.0  149.0  122.0  1668.0  \n",
      "207  49.0  138.0  152.0  1771.0  \n",
      "208  40.0  128.0  139.0  1742.0  \n",
      "209  24.0  100.0  121.0   586.0  \n",
      "210  19.0   70.0  106.0   388.0  \n",
      "211  41.0  109.0  106.0   782.0  \n",
      "212  38.0  120.0  125.0  1017.0  \n",
      "213  40.0  212.0  155.0  1248.0  \n",
      "214  30.0  206.0  131.0  1463.0  \n",
      "215  27.0  202.0  183.0  1578.0  \n",
      "216  20.0  140.0  117.0  1601.0  \n",
      "217  31.0   72.0  133.0   401.0  \n",
      "218  24.0   34.0   90.0   173.0  \n",
      "219   6.0   59.0   75.0   432.0  \n",
      "\n",
      "[20 rows x 58 columns]\n"
     ]
    }
   ],
   "source": [
    "print('\\n#############    DATA HEAD   #############\\n', data.head())\n",
    "print('\\n#############    DATA SEGMENT    #############\\n', data.iloc[200:220, :])"
   ]
  },
  {
   "cell_type": "markdown",
   "id": "b0eede1b-cae5-429a-bb20-638dd4e4846e",
   "metadata": {},
   "source": [
    "* We can see that \"RK\" and \"Unnamed: 0\" correspond to an index, then we are able to delete this column since it does not contribute to any further processing or analysis.\\\n",
    "* \"Player\", \"Pos\", and \"Tm\" are strings. \"Player\" might not contribute to any analysis and we could drop it, but, for now lets continue with this column. \"Pos\" and \"Tm\" could be a categorical varaible then.\n",
    "* Also, there are several features with missing values\n",
    "* Some names have astherics"
   ]
  },
  {
   "cell_type": "code",
   "execution_count": 7,
   "id": "84291ee8-b590-456b-b4fe-dac98ee0b799",
   "metadata": {
    "tags": []
   },
   "outputs": [
    {
     "name": "stdout",
     "output_type": "stream",
     "text": [
      "<class 'pandas.core.frame.DataFrame'>\n",
      "Int64Index: 1184 entries, 0 to 1183\n",
      "Data columns (total 58 columns):\n",
      " #   Column           Non-Null Count  Dtype  \n",
      "---  ------           --------------  -----  \n",
      " 0   RK               1184 non-null   int64  \n",
      " 1   NAME             1184 non-null   object \n",
      " 2   TEAM             1184 non-null   object \n",
      " 3   SALARY           1184 non-null   float64\n",
      " 4   Team Rank        1184 non-null   int64  \n",
      " 5   Unnamed: 0       1184 non-null   int64  \n",
      " 6   Year             1184 non-null   float64\n",
      " 7   Player           1184 non-null   object \n",
      " 8   Pos              1184 non-null   object \n",
      " 9   Age              1184 non-null   float64\n",
      " 10  Tm               1184 non-null   object \n",
      " 11  G                1184 non-null   float64\n",
      " 12  GS               1184 non-null   float64\n",
      " 13  MP               1184 non-null   float64\n",
      " 14  PER              1184 non-null   float64\n",
      " 15  TS%              1182 non-null   float64\n",
      " 16  3PAr             1182 non-null   float64\n",
      " 17  FTr              1182 non-null   float64\n",
      " 18  ORB%             1184 non-null   float64\n",
      " 19  DRB%             1184 non-null   float64\n",
      " 20  TRB%             1184 non-null   float64\n",
      " 21  AST%             1184 non-null   float64\n",
      " 22  STL%             1184 non-null   float64\n",
      " 23  BLK%             1184 non-null   float64\n",
      " 24  TOV%             1182 non-null   float64\n",
      " 25  USG%             1184 non-null   float64\n",
      " 26  blanl            0 non-null      float64\n",
      " 27  OWS              1184 non-null   float64\n",
      " 28  DWS              1184 non-null   float64\n",
      " 29  WS               1184 non-null   float64\n",
      " 30  WS/48            1184 non-null   float64\n",
      " 31  blank2           0 non-null      float64\n",
      " 32  OBPM             1184 non-null   float64\n",
      " 33  DBPM             1184 non-null   float64\n",
      " 34  BPM              1184 non-null   float64\n",
      " 35  VORP             1184 non-null   float64\n",
      " 36  FG               1184 non-null   float64\n",
      " 37  FGA              1184 non-null   float64\n",
      " 38  FG%              1182 non-null   float64\n",
      " 39  3P               1184 non-null   float64\n",
      " 40  3PA              1184 non-null   float64\n",
      " 41  3P%              1090 non-null   float64\n",
      " 42  2P               1184 non-null   float64\n",
      " 43  2PA              1184 non-null   float64\n",
      " 44  2P%              1180 non-null   float64\n",
      " 45  eFG%             1182 non-null   float64\n",
      " 46  FT               1184 non-null   float64\n",
      " 47  FTA              1184 non-null   float64\n",
      " 48  FT%              1161 non-null   float64\n",
      " 49  ORB              1184 non-null   float64\n",
      " 50  DRB              1184 non-null   float64\n",
      " 51  TRB              1184 non-null   float64\n",
      " 52  AST              1184 non-null   float64\n",
      " 53  STL              1184 non-null   float64\n",
      " 54  BLK              1184 non-null   float64\n",
      " 55  TOV              1184 non-null   float64\n",
      " 56  PF               1184 non-null   float64\n",
      " 57  PTS              1184 non-null   float64\n",
      "dtypes: float64(50), int64(3), object(5)\n",
      "memory usage: 545.8+ KB\n"
     ]
    },
    {
     "data": {
      "text/plain": [
       "NoneType"
      ]
     },
     "execution_count": 7,
     "metadata": {},
     "output_type": "execute_result"
    }
   ],
   "source": [
    "type(data.info())"
   ]
  },
  {
   "cell_type": "markdown",
   "id": "7db6ccd2-aee1-46f7-9c27-f5d0d81d7ae9",
   "metadata": {},
   "source": [
    "* Since \"blanl\" and \"blank2\" have no records, we can drop both of them because we neither are able to impute their values or have an algorith to compute them\\\n",
    "* Several columns have missing values, most of thes column lack 2 or 4 values and FT% lacks 23 values\\\n",
    "* \"YEAR\" and \"Age\" are floats but should be integers, if the decimal in all the cases is zero.\\"
   ]
  },
  {
   "cell_type": "code",
   "execution_count": 8,
   "id": "f872934f-7aee-4946-a8b8-37a777d03906",
   "metadata": {
    "tags": []
   },
   "outputs": [
    {
     "data": {
      "text/html": [
       "<div>\n",
       "<style scoped>\n",
       "    .dataframe tbody tr th:only-of-type {\n",
       "        vertical-align: middle;\n",
       "    }\n",
       "\n",
       "    .dataframe tbody tr th {\n",
       "        vertical-align: top;\n",
       "    }\n",
       "\n",
       "    .dataframe thead th {\n",
       "        text-align: right;\n",
       "    }\n",
       "</style>\n",
       "<table border=\"1\" class=\"dataframe\">\n",
       "  <thead>\n",
       "    <tr style=\"text-align: right;\">\n",
       "      <th></th>\n",
       "      <th>RK</th>\n",
       "      <th>SALARY</th>\n",
       "      <th>Team Rank</th>\n",
       "      <th>Unnamed: 0</th>\n",
       "      <th>Year</th>\n",
       "      <th>Age</th>\n",
       "      <th>G</th>\n",
       "      <th>GS</th>\n",
       "      <th>MP</th>\n",
       "      <th>PER</th>\n",
       "      <th>...</th>\n",
       "      <th>FT%</th>\n",
       "      <th>ORB</th>\n",
       "      <th>DRB</th>\n",
       "      <th>TRB</th>\n",
       "      <th>AST</th>\n",
       "      <th>STL</th>\n",
       "      <th>BLK</th>\n",
       "      <th>TOV</th>\n",
       "      <th>PF</th>\n",
       "      <th>PTS</th>\n",
       "    </tr>\n",
       "  </thead>\n",
       "  <tbody>\n",
       "    <tr>\n",
       "      <th>count</th>\n",
       "      <td>1184.000000</td>\n",
       "      <td>1.184000e+03</td>\n",
       "      <td>1184.000000</td>\n",
       "      <td>1184.000000</td>\n",
       "      <td>1184.000000</td>\n",
       "      <td>1184.000000</td>\n",
       "      <td>1184.000000</td>\n",
       "      <td>1184.000000</td>\n",
       "      <td>1184.000000</td>\n",
       "      <td>1184.000000</td>\n",
       "      <td>...</td>\n",
       "      <td>1161.000000</td>\n",
       "      <td>1184.000000</td>\n",
       "      <td>1184.000000</td>\n",
       "      <td>1184.000000</td>\n",
       "      <td>1184.000000</td>\n",
       "      <td>1184.000000</td>\n",
       "      <td>1184.000000</td>\n",
       "      <td>1184.000000</td>\n",
       "      <td>1184.000000</td>\n",
       "      <td>1184.000000</td>\n",
       "    </tr>\n",
       "    <tr>\n",
       "      <th>mean</th>\n",
       "      <td>187.099662</td>\n",
       "      <td>8.474410e+06</td>\n",
       "      <td>6.853885</td>\n",
       "      <td>23248.288851</td>\n",
       "      <td>2015.090372</td>\n",
       "      <td>25.640203</td>\n",
       "      <td>58.342905</td>\n",
       "      <td>33.091216</td>\n",
       "      <td>1481.088682</td>\n",
       "      <td>14.626774</td>\n",
       "      <td>...</td>\n",
       "      <td>0.747232</td>\n",
       "      <td>65.380068</td>\n",
       "      <td>202.603885</td>\n",
       "      <td>267.983953</td>\n",
       "      <td>143.983108</td>\n",
       "      <td>50.179899</td>\n",
       "      <td>29.414696</td>\n",
       "      <td>86.828547</td>\n",
       "      <td>120.780405</td>\n",
       "      <td>670.599662</td>\n",
       "    </tr>\n",
       "    <tr>\n",
       "      <th>std</th>\n",
       "      <td>135.672210</td>\n",
       "      <td>7.735824e+06</td>\n",
       "      <td>4.597375</td>\n",
       "      <td>1743.000475</td>\n",
       "      <td>2.954906</td>\n",
       "      <td>4.227344</td>\n",
       "      <td>22.789098</td>\n",
       "      <td>31.074586</td>\n",
       "      <td>869.333400</td>\n",
       "      <td>5.555472</td>\n",
       "      <td>...</td>\n",
       "      <td>0.127162</td>\n",
       "      <td>66.729599</td>\n",
       "      <td>156.083477</td>\n",
       "      <td>213.500133</td>\n",
       "      <td>151.357246</td>\n",
       "      <td>38.014019</td>\n",
       "      <td>33.551960</td>\n",
       "      <td>68.201768</td>\n",
       "      <td>67.774581</td>\n",
       "      <td>520.141438</td>\n",
       "    </tr>\n",
       "    <tr>\n",
       "      <th>min</th>\n",
       "      <td>1.000000</td>\n",
       "      <td>5.767000e+03</td>\n",
       "      <td>1.000000</td>\n",
       "      <td>8825.000000</td>\n",
       "      <td>1988.000000</td>\n",
       "      <td>19.000000</td>\n",
       "      <td>1.000000</td>\n",
       "      <td>0.000000</td>\n",
       "      <td>1.000000</td>\n",
       "      <td>-17.600000</td>\n",
       "      <td>...</td>\n",
       "      <td>0.000000</td>\n",
       "      <td>0.000000</td>\n",
       "      <td>0.000000</td>\n",
       "      <td>0.000000</td>\n",
       "      <td>0.000000</td>\n",
       "      <td>0.000000</td>\n",
       "      <td>0.000000</td>\n",
       "      <td>0.000000</td>\n",
       "      <td>0.000000</td>\n",
       "      <td>0.000000</td>\n",
       "    </tr>\n",
       "    <tr>\n",
       "      <th>25%</th>\n",
       "      <td>66.000000</td>\n",
       "      <td>2.121288e+06</td>\n",
       "      <td>3.000000</td>\n",
       "      <td>22889.250000</td>\n",
       "      <td>2015.000000</td>\n",
       "      <td>22.000000</td>\n",
       "      <td>43.000000</td>\n",
       "      <td>2.000000</td>\n",
       "      <td>727.250000</td>\n",
       "      <td>11.275000</td>\n",
       "      <td>...</td>\n",
       "      <td>0.692000</td>\n",
       "      <td>19.000000</td>\n",
       "      <td>84.750000</td>\n",
       "      <td>111.750000</td>\n",
       "      <td>39.000000</td>\n",
       "      <td>20.000000</td>\n",
       "      <td>7.000000</td>\n",
       "      <td>35.000000</td>\n",
       "      <td>69.750000</td>\n",
       "      <td>261.750000</td>\n",
       "    </tr>\n",
       "    <tr>\n",
       "      <th>50%</th>\n",
       "      <td>171.000000</td>\n",
       "      <td>5.505618e+06</td>\n",
       "      <td>6.000000</td>\n",
       "      <td>23872.000000</td>\n",
       "      <td>2016.000000</td>\n",
       "      <td>25.000000</td>\n",
       "      <td>66.000000</td>\n",
       "      <td>24.000000</td>\n",
       "      <td>1519.000000</td>\n",
       "      <td>14.350000</td>\n",
       "      <td>...</td>\n",
       "      <td>0.768000</td>\n",
       "      <td>44.000000</td>\n",
       "      <td>175.000000</td>\n",
       "      <td>225.000000</td>\n",
       "      <td>95.500000</td>\n",
       "      <td>43.000000</td>\n",
       "      <td>19.000000</td>\n",
       "      <td>73.000000</td>\n",
       "      <td>125.000000</td>\n",
       "      <td>559.500000</td>\n",
       "    </tr>\n",
       "    <tr>\n",
       "      <th>75%</th>\n",
       "      <td>287.000000</td>\n",
       "      <td>1.355000e+07</td>\n",
       "      <td>10.000000</td>\n",
       "      <td>24326.500000</td>\n",
       "      <td>2017.000000</td>\n",
       "      <td>28.000000</td>\n",
       "      <td>77.000000</td>\n",
       "      <td>66.000000</td>\n",
       "      <td>2198.250000</td>\n",
       "      <td>17.725000</td>\n",
       "      <td>...</td>\n",
       "      <td>0.827000</td>\n",
       "      <td>91.250000</td>\n",
       "      <td>282.000000</td>\n",
       "      <td>366.250000</td>\n",
       "      <td>193.000000</td>\n",
       "      <td>71.250000</td>\n",
       "      <td>38.000000</td>\n",
       "      <td>123.000000</td>\n",
       "      <td>171.000000</td>\n",
       "      <td>981.750000</td>\n",
       "    </tr>\n",
       "    <tr>\n",
       "      <th>max</th>\n",
       "      <td>486.000000</td>\n",
       "      <td>3.096345e+07</td>\n",
       "      <td>21.000000</td>\n",
       "      <td>24690.000000</td>\n",
       "      <td>2017.000000</td>\n",
       "      <td>40.000000</td>\n",
       "      <td>82.000000</td>\n",
       "      <td>82.000000</td>\n",
       "      <td>3388.000000</td>\n",
       "      <td>32.000000</td>\n",
       "      <td>...</td>\n",
       "      <td>1.000000</td>\n",
       "      <td>440.000000</td>\n",
       "      <td>829.000000</td>\n",
       "      <td>1226.000000</td>\n",
       "      <td>906.000000</td>\n",
       "      <td>191.000000</td>\n",
       "      <td>269.000000</td>\n",
       "      <td>464.000000</td>\n",
       "      <td>332.000000</td>\n",
       "      <td>2558.000000</td>\n",
       "    </tr>\n",
       "  </tbody>\n",
       "</table>\n",
       "<p>8 rows × 53 columns</p>\n",
       "</div>"
      ],
      "text/plain": [
       "                RK  SALARY             Team Rank    Unnamed: 0         Year  \\\n",
       "count  1184.000000     1.184000e+03  1184.000000   1184.000000  1184.000000   \n",
       "mean    187.099662     8.474410e+06     6.853885  23248.288851  2015.090372   \n",
       "std     135.672210     7.735824e+06     4.597375   1743.000475     2.954906   \n",
       "min       1.000000     5.767000e+03     1.000000   8825.000000  1988.000000   \n",
       "25%      66.000000     2.121288e+06     3.000000  22889.250000  2015.000000   \n",
       "50%     171.000000     5.505618e+06     6.000000  23872.000000  2016.000000   \n",
       "75%     287.000000     1.355000e+07    10.000000  24326.500000  2017.000000   \n",
       "max     486.000000     3.096345e+07    21.000000  24690.000000  2017.000000   \n",
       "\n",
       "               Age            G           GS           MP          PER  ...  \\\n",
       "count  1184.000000  1184.000000  1184.000000  1184.000000  1184.000000  ...   \n",
       "mean     25.640203    58.342905    33.091216  1481.088682    14.626774  ...   \n",
       "std       4.227344    22.789098    31.074586   869.333400     5.555472  ...   \n",
       "min      19.000000     1.000000     0.000000     1.000000   -17.600000  ...   \n",
       "25%      22.000000    43.000000     2.000000   727.250000    11.275000  ...   \n",
       "50%      25.000000    66.000000    24.000000  1519.000000    14.350000  ...   \n",
       "75%      28.000000    77.000000    66.000000  2198.250000    17.725000  ...   \n",
       "max      40.000000    82.000000    82.000000  3388.000000    32.000000  ...   \n",
       "\n",
       "               FT%          ORB          DRB          TRB          AST  \\\n",
       "count  1161.000000  1184.000000  1184.000000  1184.000000  1184.000000   \n",
       "mean      0.747232    65.380068   202.603885   267.983953   143.983108   \n",
       "std       0.127162    66.729599   156.083477   213.500133   151.357246   \n",
       "min       0.000000     0.000000     0.000000     0.000000     0.000000   \n",
       "25%       0.692000    19.000000    84.750000   111.750000    39.000000   \n",
       "50%       0.768000    44.000000   175.000000   225.000000    95.500000   \n",
       "75%       0.827000    91.250000   282.000000   366.250000   193.000000   \n",
       "max       1.000000   440.000000   829.000000  1226.000000   906.000000   \n",
       "\n",
       "               STL          BLK          TOV           PF          PTS  \n",
       "count  1184.000000  1184.000000  1184.000000  1184.000000  1184.000000  \n",
       "mean     50.179899    29.414696    86.828547   120.780405   670.599662  \n",
       "std      38.014019    33.551960    68.201768    67.774581   520.141438  \n",
       "min       0.000000     0.000000     0.000000     0.000000     0.000000  \n",
       "25%      20.000000     7.000000    35.000000    69.750000   261.750000  \n",
       "50%      43.000000    19.000000    73.000000   125.000000   559.500000  \n",
       "75%      71.250000    38.000000   123.000000   171.000000   981.750000  \n",
       "max     191.000000   269.000000   464.000000   332.000000  2558.000000  \n",
       "\n",
       "[8 rows x 53 columns]"
      ]
     },
     "execution_count": 8,
     "metadata": {},
     "output_type": "execute_result"
    }
   ],
   "source": [
    "#related statistics about the numerical columns\n",
    "data.describe()"
   ]
  },
  {
   "cell_type": "markdown",
   "id": "bd76e858-c5af-4bfc-b189-1d470ab81d7e",
   "metadata": {},
   "source": [
    "Several features are skewed distributed\n",
    "____________________________"
   ]
  },
  {
   "cell_type": "markdown",
   "id": "63975b1a-83d9-4f27-a675-fa9f1280b800",
   "metadata": {},
   "source": [
    "Unique values"
   ]
  },
  {
   "cell_type": "code",
   "execution_count": 9,
   "id": "91bfff64-017a-4290-b9fa-25e2ee6250ed",
   "metadata": {
    "collapsed": true,
    "jupyter": {
     "outputs_hidden": true
    },
    "tags": []
   },
   "outputs": [
    {
     "data": {
      "text/plain": [
       "RK                  486\n",
       "NAME                486\n",
       "TEAM                 30\n",
       "SALARY              332\n",
       "Team Rank            21\n",
       "Unnamed: 0         1184\n",
       "Year                 21\n",
       "Player              486\n",
       "Pos                   5\n",
       "Age                  22\n",
       "Tm                   30\n",
       "G                    82\n",
       "GS                   83\n",
       "MP                  985\n",
       "PER                 247\n",
       "TS%                 269\n",
       "3PAr                508\n",
       "FTr                 467\n",
       "ORB%                163\n",
       "DRB%                255\n",
       "TRB%                203\n",
       "AST%                342\n",
       "STL%                 47\n",
       "BLK%                 80\n",
       "TOV%                195\n",
       "USG%                246\n",
       "blanl                 0\n",
       "OWS                 129\n",
       "DWS                  61\n",
       "WS                  154\n",
       "WS/48               299\n",
       "blank2                0\n",
       "OBPM                173\n",
       "DBPM                111\n",
       "BPM                 193\n",
       "VORP                 90\n",
       "FG                  526\n",
       "FGA                 772\n",
       "FG%                 299\n",
       "3P                  198\n",
       "3PA                 391\n",
       "3P%                 247\n",
       "2P                  468\n",
       "2PA                 677\n",
       "2P%                 282\n",
       "eFG%                275\n",
       "FT                  360\n",
       "FTA                 410\n",
       "FT%                 371\n",
       "ORB                 231\n",
       "DRB                 457\n",
       "TRB                 544\n",
       "AST                 389\n",
       "STL                 161\n",
       "BLK                 137\n",
       "TOV                 250\n",
       "PF                  261\n",
       "PTS                 825\n",
       "dtype: int64"
      ]
     },
     "execution_count": 9,
     "metadata": {},
     "output_type": "execute_result"
    }
   ],
   "source": [
    "#checking for unique values\n",
    "data.nunique()"
   ]
  },
  {
   "cell_type": "markdown",
   "id": "fe792fc3-ae12-44ad-87a6-dc16a4c1a2a0",
   "metadata": {},
   "source": [
    "Here we can see that \"Year\" and \"Player\" have 21 and 82 unique values then we can suppose that maybe some players are repeated under different years and games."
   ]
  },
  {
   "cell_type": "code",
   "execution_count": 10,
   "id": "9d2b1cdf-93e4-4e0b-b328-55f7e214b5e6",
   "metadata": {},
   "outputs": [
    {
     "data": {
      "text/plain": [
       "Dirk Nowitzki       19\n",
       "Tony Parker         16\n",
       "Manu Ginobili       15\n",
       "Udonis Haslem       14\n",
       "LeBron James        10\n",
       "                    ..\n",
       "Alex Poythress       1\n",
       "Ben Bentil           1\n",
       "Anthony Tolliver     1\n",
       "Raymond Felton       1\n",
       "James Johnson        1\n",
       "Name: Player, Length: 486, dtype: int64"
      ]
     },
     "execution_count": 10,
     "metadata": {},
     "output_type": "execute_result"
    }
   ],
   "source": [
    "#repeated players\n",
    "data.Player.value_counts()"
   ]
  },
  {
   "cell_type": "code",
   "execution_count": 11,
   "id": "8e8e8289-287a-492b-8c5e-448e6c47f43a",
   "metadata": {},
   "outputs": [
    {
     "data": {
      "text/html": [
       "<div>\n",
       "<style scoped>\n",
       "    .dataframe tbody tr th:only-of-type {\n",
       "        vertical-align: middle;\n",
       "    }\n",
       "\n",
       "    .dataframe tbody tr th {\n",
       "        vertical-align: top;\n",
       "    }\n",
       "\n",
       "    .dataframe thead th {\n",
       "        text-align: right;\n",
       "    }\n",
       "</style>\n",
       "<table border=\"1\" class=\"dataframe\">\n",
       "  <thead>\n",
       "    <tr style=\"text-align: right;\">\n",
       "      <th></th>\n",
       "      <th>RK</th>\n",
       "      <th>NAME</th>\n",
       "      <th>TEAM</th>\n",
       "      <th>SALARY</th>\n",
       "      <th>Team Rank</th>\n",
       "      <th>Unnamed: 0</th>\n",
       "      <th>Year</th>\n",
       "      <th>Player</th>\n",
       "      <th>Pos</th>\n",
       "      <th>Age</th>\n",
       "      <th>...</th>\n",
       "      <th>FT%</th>\n",
       "      <th>ORB</th>\n",
       "      <th>DRB</th>\n",
       "      <th>TRB</th>\n",
       "      <th>AST</th>\n",
       "      <th>STL</th>\n",
       "      <th>BLK</th>\n",
       "      <th>TOV</th>\n",
       "      <th>PF</th>\n",
       "      <th>PTS</th>\n",
       "    </tr>\n",
       "  </thead>\n",
       "  <tbody>\n",
       "    <tr>\n",
       "      <th>44</th>\n",
       "      <td>8</td>\n",
       "      <td>Dirk Nowitzki</td>\n",
       "      <td>DAL</td>\n",
       "      <td>25000000.0</td>\n",
       "      <td>1</td>\n",
       "      <td>14289</td>\n",
       "      <td>1999.0</td>\n",
       "      <td>Dirk Nowitzki</td>\n",
       "      <td>PF</td>\n",
       "      <td>20.0</td>\n",
       "      <td>...</td>\n",
       "      <td>0.773</td>\n",
       "      <td>41.0</td>\n",
       "      <td>121.0</td>\n",
       "      <td>162.0</td>\n",
       "      <td>47.0</td>\n",
       "      <td>29.0</td>\n",
       "      <td>27.0</td>\n",
       "      <td>73.0</td>\n",
       "      <td>105.0</td>\n",
       "      <td>385.0</td>\n",
       "    </tr>\n",
       "    <tr>\n",
       "      <th>45</th>\n",
       "      <td>8</td>\n",
       "      <td>Dirk Nowitzki</td>\n",
       "      <td>DAL</td>\n",
       "      <td>25000000.0</td>\n",
       "      <td>1</td>\n",
       "      <td>14804</td>\n",
       "      <td>2000.0</td>\n",
       "      <td>Dirk Nowitzki</td>\n",
       "      <td>PF</td>\n",
       "      <td>21.0</td>\n",
       "      <td>...</td>\n",
       "      <td>0.830</td>\n",
       "      <td>102.0</td>\n",
       "      <td>430.0</td>\n",
       "      <td>532.0</td>\n",
       "      <td>203.0</td>\n",
       "      <td>63.0</td>\n",
       "      <td>68.0</td>\n",
       "      <td>141.0</td>\n",
       "      <td>256.0</td>\n",
       "      <td>1435.0</td>\n",
       "    </tr>\n",
       "    <tr>\n",
       "      <th>46</th>\n",
       "      <td>8</td>\n",
       "      <td>Dirk Nowitzki</td>\n",
       "      <td>DAL</td>\n",
       "      <td>25000000.0</td>\n",
       "      <td>1</td>\n",
       "      <td>15328</td>\n",
       "      <td>2001.0</td>\n",
       "      <td>Dirk Nowitzki</td>\n",
       "      <td>PF</td>\n",
       "      <td>22.0</td>\n",
       "      <td>...</td>\n",
       "      <td>0.838</td>\n",
       "      <td>119.0</td>\n",
       "      <td>635.0</td>\n",
       "      <td>754.0</td>\n",
       "      <td>173.0</td>\n",
       "      <td>79.0</td>\n",
       "      <td>101.0</td>\n",
       "      <td>156.0</td>\n",
       "      <td>245.0</td>\n",
       "      <td>1784.0</td>\n",
       "    </tr>\n",
       "  </tbody>\n",
       "</table>\n",
       "<p>3 rows × 58 columns</p>\n",
       "</div>"
      ],
      "text/plain": [
       "    RK           NAME TEAM  SALARY           Team Rank  Unnamed: 0    Year  \\\n",
       "44   8  Dirk Nowitzki  DAL       25000000.0          1       14289  1999.0   \n",
       "45   8  Dirk Nowitzki  DAL       25000000.0          1       14804  2000.0   \n",
       "46   8  Dirk Nowitzki  DAL       25000000.0          1       15328  2001.0   \n",
       "\n",
       "           Player Pos   Age  ...    FT%    ORB    DRB    TRB    AST   STL  \\\n",
       "44  Dirk Nowitzki  PF  20.0  ...  0.773   41.0  121.0  162.0   47.0  29.0   \n",
       "45  Dirk Nowitzki  PF  21.0  ...  0.830  102.0  430.0  532.0  203.0  63.0   \n",
       "46  Dirk Nowitzki  PF  22.0  ...  0.838  119.0  635.0  754.0  173.0  79.0   \n",
       "\n",
       "      BLK    TOV     PF     PTS  \n",
       "44   27.0   73.0  105.0   385.0  \n",
       "45   68.0  141.0  256.0  1435.0  \n",
       "46  101.0  156.0  245.0  1784.0  \n",
       "\n",
       "[3 rows x 58 columns]"
      ]
     },
     "execution_count": 11,
     "metadata": {},
     "output_type": "execute_result"
    }
   ],
   "source": [
    "#To show that we can create groups by Player\n",
    "data.groupby([\"Player\"]).get_group((\"Dirk Nowitzki\")).head(3)"
   ]
  },
  {
   "cell_type": "markdown",
   "id": "a770efd2-f70f-4af2-a723-4607de724dc0",
   "metadata": {},
   "source": [
    "With the above count  and the groups we can verify the previous assumption about players\n",
    "__________"
   ]
  },
  {
   "cell_type": "code",
   "execution_count": 12,
   "id": "0488de40-6aa5-45a2-a06f-fca71411ed15",
   "metadata": {
    "collapsed": true,
    "jupyter": {
     "outputs_hidden": true
    },
    "tags": []
   },
   "outputs": [
    {
     "data": {
      "text/plain": [
       "2017.0    486\n",
       "2016.0    253\n",
       "2015.0    156\n",
       "2014.0     84\n",
       "2013.0     54\n",
       "2012.0     38\n",
       "2011.0     29\n",
       "2010.0     21\n",
       "2009.0     13\n",
       "2008.0      9\n",
       "2007.0      9\n",
       "2006.0      8\n",
       "2005.0      8\n",
       "2004.0      6\n",
       "2003.0      3\n",
       "2002.0      2\n",
       "1989.0      1\n",
       "2001.0      1\n",
       "1999.0      1\n",
       "1988.0      1\n",
       "2000.0      1\n",
       "Name: Year, dtype: int64"
      ]
     },
     "execution_count": 12,
     "metadata": {},
     "output_type": "execute_result"
    }
   ],
   "source": [
    "#repeated years\n",
    "data.Year.value_counts()"
   ]
  },
  {
   "cell_type": "markdown",
   "id": "4d189055-1d8c-4c8b-85c6-54255279b304",
   "metadata": {},
   "source": [
    "From the list showed above we can see:\n",
    "* one player has played from 2000 to 2017.\n",
    "* these players usually play for the same team (remember that our merge considered the team as a matching value)\n",
    "* all of our players on the Salary1 file played on 2017\n",
    "\n",
    "If we wanted to value how much we need to pay to a player, then we will use data for their performance on the year of interest. On another hand, by doing a salary research for some players I found that the salary values correspond to 2017 season. Then we are going to drop the rest of the years to rate these players."
   ]
  },
  {
   "cell_type": "markdown",
   "id": "faaf6284-41f0-4314-83ae-237e90d9a09f",
   "metadata": {
    "tags": []
   },
   "source": [
    "### 1.2. Changing data "
   ]
  },
  {
   "cell_type": "markdown",
   "id": "4268b961-ac61-4d6c-9844-f131a0dc630e",
   "metadata": {},
   "source": [
    "__Changin name column__ \\\n",
    "We saw that the column's name for salary has several blank spaces, it maybe could be repeated in its elements. For now lets take out this spaces to avoid future errors at calling the column. Also, just for format, we are going to change the last column"
   ]
  },
  {
   "cell_type": "code",
   "execution_count": 13,
   "id": "417331ba-feae-45ce-94f6-bc9a58d38766",
   "metadata": {},
   "outputs": [],
   "source": [
    "data.rename(columns = {'SALARY         ':'Salary', 'Team Rank': 'Team_Rank'}, inplace = True)\n",
    "                                 #inplace=True ignores to copy into a new dataframe"
   ]
  },
  {
   "cell_type": "code",
   "execution_count": 56,
   "id": "4c8392e0-181f-444c-8d9d-6751307b8fb0",
   "metadata": {},
   "outputs": [],
   "source": [
    "#Verifying if Year and Age should be an integer\n",
    "#for i in data_1['Age'].loc[data_1['Age'].notna()]:\n",
    " #       if i%1 != 0:\n",
    "  #          print(i)\n",
    "#Because there was no any decimal contribution, now, we can convert this two columns to integers\n",
    "cols = ['Year', 'Age']\n",
    "data[cols] = data[cols].fillna(0).astype({\"Year\":\"int\",\"Age\":\"int\"})   #fillna(0) fill NaN values with zero\n",
    "#Now we restore null values that in the last lines were filled by 0\n",
    "data[cols] = data[cols].replace(0, None)  #Replacing zero by None, in this case it seems that in a integer column is not \n",
    "                                              #possible to replace by NaN"
   ]
  },
  {
   "cell_type": "markdown",
   "id": "ac302d08-04a4-41e7-a7ef-a2b785d6814d",
   "metadata": {},
   "source": [
    "__Drop columns or rows__"
   ]
  },
  {
   "cell_type": "markdown",
   "id": "2937de31-0ff5-4f4b-8601-0a5dfc01fdae",
   "metadata": {},
   "source": [
    "***************************   __data_1__ after dropping columns and rows  ***************************"
   ]
  },
  {
   "cell_type": "code",
   "execution_count": 60,
   "id": "5e443cba-6838-448f-92bc-976e0e5f8b7c",
   "metadata": {},
   "outputs": [
    {
     "name": "stdout",
     "output_type": "stream",
     "text": [
      "The new size of the dataset is (1184, 52)\n"
     ]
    },
    {
     "data": {
      "text/html": [
       "<div>\n",
       "<style scoped>\n",
       "    .dataframe tbody tr th:only-of-type {\n",
       "        vertical-align: middle;\n",
       "    }\n",
       "\n",
       "    .dataframe tbody tr th {\n",
       "        vertical-align: top;\n",
       "    }\n",
       "\n",
       "    .dataframe thead th {\n",
       "        text-align: right;\n",
       "    }\n",
       "</style>\n",
       "<table border=\"1\" class=\"dataframe\">\n",
       "  <thead>\n",
       "    <tr style=\"text-align: right;\">\n",
       "      <th></th>\n",
       "      <th>Salary</th>\n",
       "      <th>Team_Rank</th>\n",
       "      <th>Year</th>\n",
       "      <th>Player</th>\n",
       "      <th>Pos</th>\n",
       "      <th>Age</th>\n",
       "      <th>Tm</th>\n",
       "      <th>G</th>\n",
       "      <th>GS</th>\n",
       "      <th>MP</th>\n",
       "      <th>...</th>\n",
       "      <th>FT%</th>\n",
       "      <th>ORB</th>\n",
       "      <th>DRB</th>\n",
       "      <th>TRB</th>\n",
       "      <th>AST</th>\n",
       "      <th>STL</th>\n",
       "      <th>BLK</th>\n",
       "      <th>TOV</th>\n",
       "      <th>PF</th>\n",
       "      <th>PTS</th>\n",
       "    </tr>\n",
       "  </thead>\n",
       "  <tbody>\n",
       "    <tr>\n",
       "      <th>0</th>\n",
       "      <td>30963450.0</td>\n",
       "      <td>1</td>\n",
       "      <td>2004</td>\n",
       "      <td>LeBron James</td>\n",
       "      <td>SG</td>\n",
       "      <td>19</td>\n",
       "      <td>CLE</td>\n",
       "      <td>79.0</td>\n",
       "      <td>79.0</td>\n",
       "      <td>3122.0</td>\n",
       "      <td>...</td>\n",
       "      <td>0.754</td>\n",
       "      <td>99.0</td>\n",
       "      <td>333.0</td>\n",
       "      <td>432.0</td>\n",
       "      <td>465.0</td>\n",
       "      <td>130.0</td>\n",
       "      <td>58.0</td>\n",
       "      <td>273.0</td>\n",
       "      <td>149.0</td>\n",
       "      <td>1654.0</td>\n",
       "    </tr>\n",
       "    <tr>\n",
       "      <th>1</th>\n",
       "      <td>30963450.0</td>\n",
       "      <td>1</td>\n",
       "      <td>2005</td>\n",
       "      <td>LeBron James</td>\n",
       "      <td>SF</td>\n",
       "      <td>20</td>\n",
       "      <td>CLE</td>\n",
       "      <td>80.0</td>\n",
       "      <td>80.0</td>\n",
       "      <td>3388.0</td>\n",
       "      <td>...</td>\n",
       "      <td>0.750</td>\n",
       "      <td>111.0</td>\n",
       "      <td>477.0</td>\n",
       "      <td>588.0</td>\n",
       "      <td>577.0</td>\n",
       "      <td>177.0</td>\n",
       "      <td>52.0</td>\n",
       "      <td>262.0</td>\n",
       "      <td>146.0</td>\n",
       "      <td>2175.0</td>\n",
       "    </tr>\n",
       "  </tbody>\n",
       "</table>\n",
       "<p>2 rows × 52 columns</p>\n",
       "</div>"
      ],
      "text/plain": [
       "       Salary  Team_Rank  Year        Player Pos  Age   Tm     G    GS  \\\n",
       "0  30963450.0          1  2004  LeBron James  SG   19  CLE  79.0  79.0   \n",
       "1  30963450.0          1  2005  LeBron James  SF   20  CLE  80.0  80.0   \n",
       "\n",
       "       MP  ...    FT%    ORB    DRB    TRB    AST    STL   BLK    TOV     PF  \\\n",
       "0  3122.0  ...  0.754   99.0  333.0  432.0  465.0  130.0  58.0  273.0  149.0   \n",
       "1  3388.0  ...  0.750  111.0  477.0  588.0  577.0  177.0  52.0  262.0  146.0   \n",
       "\n",
       "      PTS  \n",
       "0  1654.0  \n",
       "1  2175.0  \n",
       "\n",
       "[2 rows x 52 columns]"
      ]
     },
     "execution_count": 60,
     "metadata": {},
     "output_type": "execute_result"
    }
   ],
   "source": [
    "#Dropping columns, as we saw before RK and Unnamed are indexes, NAME and TEAM repeat information given by Player and Tm and \n",
    "#blanl and blank2 have no records\n",
    "dtemp = data.drop(['RK', 'NAME', 'TEAM', 'Unnamed: 0', 'blanl', 'blank2'], axis=1)\n",
    "print('The new size of the dataset is {}'.format(dtemp.shape))\n",
    "dtemp.head(2)"
   ]
  },
  {
   "cell_type": "code",
   "execution_count": 16,
   "id": "b1fcbf7d-2932-4e09-8dae-caebd13f58ec",
   "metadata": {},
   "outputs": [
    {
     "data": {
      "text/html": [
       "<div>\n",
       "<style scoped>\n",
       "    .dataframe tbody tr th:only-of-type {\n",
       "        vertical-align: middle;\n",
       "    }\n",
       "\n",
       "    .dataframe tbody tr th {\n",
       "        vertical-align: top;\n",
       "    }\n",
       "\n",
       "    .dataframe thead th {\n",
       "        text-align: right;\n",
       "    }\n",
       "</style>\n",
       "<table border=\"1\" class=\"dataframe\">\n",
       "  <thead>\n",
       "    <tr style=\"text-align: right;\">\n",
       "      <th></th>\n",
       "      <th>Salary</th>\n",
       "      <th>Team_Rank</th>\n",
       "      <th>Player</th>\n",
       "      <th>Pos</th>\n",
       "      <th>Age</th>\n",
       "      <th>Tm</th>\n",
       "      <th>G</th>\n",
       "      <th>GS</th>\n",
       "      <th>MP</th>\n",
       "      <th>PER</th>\n",
       "      <th>...</th>\n",
       "      <th>FT%</th>\n",
       "      <th>ORB</th>\n",
       "      <th>DRB</th>\n",
       "      <th>TRB</th>\n",
       "      <th>AST</th>\n",
       "      <th>STL</th>\n",
       "      <th>BLK</th>\n",
       "      <th>TOV</th>\n",
       "      <th>PF</th>\n",
       "      <th>PTS</th>\n",
       "    </tr>\n",
       "  </thead>\n",
       "  <tbody>\n",
       "    <tr>\n",
       "      <th>0</th>\n",
       "      <td>30963450.0</td>\n",
       "      <td>1</td>\n",
       "      <td>LeBron James</td>\n",
       "      <td>SF</td>\n",
       "      <td>32</td>\n",
       "      <td>CLE</td>\n",
       "      <td>74.0</td>\n",
       "      <td>74.0</td>\n",
       "      <td>2794.0</td>\n",
       "      <td>27.0</td>\n",
       "      <td>...</td>\n",
       "      <td>0.674</td>\n",
       "      <td>97.0</td>\n",
       "      <td>543.0</td>\n",
       "      <td>640.0</td>\n",
       "      <td>646.0</td>\n",
       "      <td>92.0</td>\n",
       "      <td>44.0</td>\n",
       "      <td>303.0</td>\n",
       "      <td>134.0</td>\n",
       "      <td>1954.0</td>\n",
       "    </tr>\n",
       "    <tr>\n",
       "      <th>1</th>\n",
       "      <td>26540100.0</td>\n",
       "      <td>1</td>\n",
       "      <td>Al Horford</td>\n",
       "      <td>C</td>\n",
       "      <td>30</td>\n",
       "      <td>BOS</td>\n",
       "      <td>68.0</td>\n",
       "      <td>68.0</td>\n",
       "      <td>2193.0</td>\n",
       "      <td>17.7</td>\n",
       "      <td>...</td>\n",
       "      <td>0.800</td>\n",
       "      <td>95.0</td>\n",
       "      <td>369.0</td>\n",
       "      <td>464.0</td>\n",
       "      <td>337.0</td>\n",
       "      <td>52.0</td>\n",
       "      <td>87.0</td>\n",
       "      <td>116.0</td>\n",
       "      <td>138.0</td>\n",
       "      <td>952.0</td>\n",
       "    </tr>\n",
       "    <tr>\n",
       "      <th>2</th>\n",
       "      <td>26540100.0</td>\n",
       "      <td>1</td>\n",
       "      <td>Kevin Durant</td>\n",
       "      <td>SF</td>\n",
       "      <td>28</td>\n",
       "      <td>GSW</td>\n",
       "      <td>62.0</td>\n",
       "      <td>62.0</td>\n",
       "      <td>2070.0</td>\n",
       "      <td>27.6</td>\n",
       "      <td>...</td>\n",
       "      <td>0.875</td>\n",
       "      <td>39.0</td>\n",
       "      <td>474.0</td>\n",
       "      <td>513.0</td>\n",
       "      <td>300.0</td>\n",
       "      <td>66.0</td>\n",
       "      <td>99.0</td>\n",
       "      <td>138.0</td>\n",
       "      <td>117.0</td>\n",
       "      <td>1555.0</td>\n",
       "    </tr>\n",
       "  </tbody>\n",
       "</table>\n",
       "<p>3 rows × 51 columns</p>\n",
       "</div>"
      ],
      "text/plain": [
       "       Salary  Team_Rank        Player Pos  Age   Tm     G    GS      MP  \\\n",
       "0  30963450.0          1  LeBron James  SF   32  CLE  74.0  74.0  2794.0   \n",
       "1  26540100.0          1    Al Horford   C   30  BOS  68.0  68.0  2193.0   \n",
       "2  26540100.0          1  Kevin Durant  SF   28  GSW  62.0  62.0  2070.0   \n",
       "\n",
       "    PER  ...    FT%   ORB    DRB    TRB    AST   STL   BLK    TOV     PF  \\\n",
       "0  27.0  ...  0.674  97.0  543.0  640.0  646.0  92.0  44.0  303.0  134.0   \n",
       "1  17.7  ...  0.800  95.0  369.0  464.0  337.0  52.0  87.0  116.0  138.0   \n",
       "2  27.6  ...  0.875  39.0  474.0  513.0  300.0  66.0  99.0  138.0  117.0   \n",
       "\n",
       "      PTS  \n",
       "0  1954.0  \n",
       "1   952.0  \n",
       "2  1555.0  \n",
       "\n",
       "[3 rows x 51 columns]"
      ]
     },
     "execution_count": 16,
     "metadata": {},
     "output_type": "execute_result"
    }
   ],
   "source": [
    "#Droping  rows to only have records from 2017 and droping the column year because it is a constant now\n",
    "data_1 = dtemp[dtemp['Year'] == 2017].drop('Year', axis =1) \n",
    "data_1 = data_1.reset_index(drop =True)  #reindexing\n",
    "data_1.head(3)"
   ]
  },
  {
   "cell_type": "markdown",
   "id": "d3cab01f-f7fe-40da-8d4e-3abfe48e9776",
   "metadata": {},
   "source": [
    "__Missing values__"
   ]
  },
  {
   "cell_type": "code",
   "execution_count": 17,
   "id": "94c575b4-f124-4ecf-9a46-fd4c0cae61e0",
   "metadata": {
    "tags": []
   },
   "outputs": [
    {
     "name": "stdout",
     "output_type": "stream",
     "text": [
      "The data set has 48 rows with at least one missing values\n"
     ]
    }
   ],
   "source": [
    "#Looking for rows with at least one misssing value \n",
    "print(\"The data set has {} rows with at least one missing values\".format(sum(data_1.isnull().values.any(axis=1))))"
   ]
  },
  {
   "cell_type": "code",
   "execution_count": 18,
   "id": "4df71ba7-95ac-48a9-9315-2da0a581889c",
   "metadata": {},
   "outputs": [
    {
     "name": "stdout",
     "output_type": "stream",
     "text": [
      "The missing-values maximum for a row is 9\n"
     ]
    }
   ],
   "source": [
    "#Searching for missing values per row\n",
    "print('The missing-values maximum for a row is {}'.format(max(pd.isnull(data_1).sum(axis=1))))      #Maximum missing values per row\n"
   ]
  },
  {
   "cell_type": "code",
   "execution_count": 19,
   "id": "f87caa5e-4467-4714-85e0-10db48989322",
   "metadata": {},
   "outputs": [
    {
     "data": {
      "text/plain": [
       "(1, 51)"
      ]
     },
     "execution_count": 19,
     "metadata": {},
     "output_type": "execute_result"
    }
   ],
   "source": [
    "#rows with more than x missing values\n",
    "x= 9\n",
    "data_1[pd.isnull(data_1).sum(axis=1) == x].shape"
   ]
  },
  {
   "cell_type": "markdown",
   "id": "8c73a92f-8d55-4b4b-acee-3aef921e8fe9",
   "metadata": {},
   "source": [
    "Rows with 9 missing values: 1  --> 0.20% of all records \\\n",
    "Rows with 2 missing values: 4 --> 0.82% of all records \\\n",
    "Rows with 1 missing values: 43 --> 8.85% of all records \\\n",
    "In total they are 9.27% of the total data, we could drop them because they represent a low percentage but for now we are going to keep them\n",
    "____________"
   ]
  },
  {
   "cell_type": "markdown",
   "id": "4e414c7c-60ef-4e04-8411-32aa1d696f3e",
   "metadata": {},
   "source": [
    "While diving into the stats file I saw some names ending with an astherics, then let's fix that"
   ]
  },
  {
   "cell_type": "code",
   "execution_count": 20,
   "id": "6d8f5d4b-5ec2-4553-b91c-3d66483ad363",
   "metadata": {},
   "outputs": [
    {
     "data": {
      "text/plain": [
       "80     Stephen Curry\n",
       "81    Kenneth Faried\n",
       "82      Amir Johnson\n",
       "83      Kemba Walker\n",
       "84        Kyle Lowry\n",
       "Name: Player, dtype: object"
      ]
     },
     "execution_count": 20,
     "metadata": {},
     "output_type": "execute_result"
    }
   ],
   "source": [
    "data_1[\"Player\"] = data_1[\"Player\"].str.replace(\"*\", \"\", regex=False)  #regex=False allows to identify \"*\" as a regular\n",
    "                                            #expresion\n",
    "data_1[\"Player\"].iloc[80:85 :]    "
   ]
  },
  {
   "cell_type": "markdown",
   "id": "6fbe9116-e0df-4972-bcc4-d3e9f3a93cba",
   "metadata": {},
   "source": [
    "__Outliers__"
   ]
  },
  {
   "cell_type": "code",
   "execution_count": 21,
   "id": "6fcf2929-334e-4cf5-9819-3507866bd74f",
   "metadata": {},
   "outputs": [
    {
     "data": {
      "image/png": "[encoded data removed]",
      "text/plain": [
       "<Figure size 720x432 with 7 Axes>"
      ]
     },
     "metadata": {
      "needs_background": "light"
     },
     "output_type": "display_data"
    },
    {
     "data": {
      "image/png": "[encoded data removed]",
      "text/plain": [
       "<Figure size 720x432 with 6 Axes>"
      ]
     },
     "metadata": {
      "needs_background": "light"
     },
     "output_type": "display_data"
    },
    {
     "data": {
      "image/png": "[encoded data removed]",
      "text/plain": [
       "<Figure size 720x432 with 6 Axes>"
      ]
     },
     "metadata": {
      "needs_background": "light"
     },
     "output_type": "display_data"
    },
    {
     "data": {
      "image/png": "[encoded data removed]",
      "text/plain": [
       "<Figure size 720x432 with 6 Axes>"
      ]
     },
     "metadata": {
      "needs_background": "light"
     },
     "output_type": "display_data"
    },
    {
     "data": {
      "image/png": "[encoded data removed]",
      "text/plain": [
       "<Figure size 720x432 with 6 Axes>"
      ]
     },
     "metadata": {
      "needs_background": "light"
     },
     "output_type": "display_data"
    },
    {
     "data": {
      "image/png": "[encoded data removed]",
      "text/plain": [
       "<Figure size 720x432 with 6 Axes>"
      ]
     },
     "metadata": {
      "needs_background": "light"
     },
     "output_type": "display_data"
    },
    {
     "data": {
      "image/png": "[encoded data removed]",
      "text/plain": [
       "<Figure size 720x432 with 4 Axes>"
      ]
     },
     "metadata": {
      "needs_background": "light"
     },
     "output_type": "display_data"
    }
   ],
   "source": [
    "#Now we visualize the data dispersion by heaps, otherwise it will be overlaping \n",
    "plot_stats(0, 10)\n",
    "plot_stats(11, 17)\n",
    "plot_stats(18, 24)\n",
    "plot_stats(25, 31)\n",
    "plot_stats(32, 38)\n",
    "plot_stats(39, 45)\n",
    "plot_stats(46, 50)"
   ]
  },
  {
   "cell_type": "markdown",
   "id": "0ec96d1d-b82a-4092-8861-08bf423d98d2",
   "metadata": {},
   "source": [
    "* We can see from the above boxplots that many features have outliers, we will handle those later.\n",
    "* The data scales are in four different magnitude orders"
   ]
  },
  {
   "cell_type": "markdown",
   "id": "d8563e15-e5c7-42f1-9618-a9d39b8b591d",
   "metadata": {},
   "source": [
    "### 1.3. Relationship analysis"
   ]
  },
  {
   "cell_type": "markdown",
   "id": "a02ea896-cf81-4cbc-82f9-2a545532824e",
   "metadata": {},
   "source": [
    "Due to the dimensions of the data set I only show a portion of the correlation matrix"
   ]
  },
  {
   "cell_type": "code",
   "execution_count": 22,
   "id": "89afbbb6-5876-42cf-a2e2-ca85ed17f83c",
   "metadata": {},
   "outputs": [
    {
     "data": {
      "text/plain": [
       "<AxesSubplot:>"
      ]
     },
     "execution_count": 22,
     "metadata": {},
     "output_type": "execute_result"
    },
    {
     "data": {
      "image/png": "[encoded data removed]",
      "text/plain": [
       "<Figure size 432x288 with 2 Axes>"
      ]
     },
     "metadata": {
      "needs_background": "light"
     },
     "output_type": "display_data"
    }
   ],
   "source": [
    "correlation_data = data_1.iloc[:,42:50].corr()             #it returns the correlation coefficients between features\n",
    "##Visualizing the correlation coefficient values \n",
    "sns.heatmap(correlation_data, annot =True)"
   ]
  },
  {
   "cell_type": "code",
   "execution_count": 23,
   "id": "ad612146-47c6-4972-8bb0-cd487621cd81",
   "metadata": {},
   "outputs": [
    {
     "data": {
      "text/html": [
       "<div>\n",
       "<style scoped>\n",
       "    .dataframe tbody tr th:only-of-type {\n",
       "        vertical-align: middle;\n",
       "    }\n",
       "\n",
       "    .dataframe tbody tr th {\n",
       "        vertical-align: top;\n",
       "    }\n",
       "\n",
       "    .dataframe thead th {\n",
       "        text-align: right;\n",
       "    }\n",
       "</style>\n",
       "<table border=\"1\" class=\"dataframe\">\n",
       "  <thead>\n",
       "    <tr style=\"text-align: right;\">\n",
       "      <th></th>\n",
       "      <th>ORB</th>\n",
       "      <th>DRB</th>\n",
       "      <th>TRB</th>\n",
       "      <th>AST</th>\n",
       "      <th>STL</th>\n",
       "      <th>BLK</th>\n",
       "      <th>TOV</th>\n",
       "      <th>PF</th>\n",
       "    </tr>\n",
       "  </thead>\n",
       "  <tbody>\n",
       "    <tr>\n",
       "      <th>ORB</th>\n",
       "      <td>NaN</td>\n",
       "      <td>NaN</td>\n",
       "      <td>NaN</td>\n",
       "      <td>NaN</td>\n",
       "      <td>NaN</td>\n",
       "      <td>NaN</td>\n",
       "      <td>NaN</td>\n",
       "      <td>NaN</td>\n",
       "    </tr>\n",
       "    <tr>\n",
       "      <th>DRB</th>\n",
       "      <td>0.833526</td>\n",
       "      <td>NaN</td>\n",
       "      <td>NaN</td>\n",
       "      <td>NaN</td>\n",
       "      <td>NaN</td>\n",
       "      <td>NaN</td>\n",
       "      <td>NaN</td>\n",
       "      <td>NaN</td>\n",
       "    </tr>\n",
       "    <tr>\n",
       "      <th>TRB</th>\n",
       "      <td>0.911153</td>\n",
       "      <td>0.987129</td>\n",
       "      <td>NaN</td>\n",
       "      <td>NaN</td>\n",
       "      <td>NaN</td>\n",
       "      <td>NaN</td>\n",
       "      <td>NaN</td>\n",
       "      <td>NaN</td>\n",
       "    </tr>\n",
       "    <tr>\n",
       "      <th>AST</th>\n",
       "      <td>NaN</td>\n",
       "      <td>NaN</td>\n",
       "      <td>NaN</td>\n",
       "      <td>NaN</td>\n",
       "      <td>NaN</td>\n",
       "      <td>NaN</td>\n",
       "      <td>NaN</td>\n",
       "      <td>NaN</td>\n",
       "    </tr>\n",
       "    <tr>\n",
       "      <th>STL</th>\n",
       "      <td>NaN</td>\n",
       "      <td>NaN</td>\n",
       "      <td>NaN</td>\n",
       "      <td>0.765300</td>\n",
       "      <td>NaN</td>\n",
       "      <td>NaN</td>\n",
       "      <td>NaN</td>\n",
       "      <td>NaN</td>\n",
       "    </tr>\n",
       "    <tr>\n",
       "      <th>BLK</th>\n",
       "      <td>0.761931</td>\n",
       "      <td>0.761782</td>\n",
       "      <td>0.788730</td>\n",
       "      <td>NaN</td>\n",
       "      <td>NaN</td>\n",
       "      <td>NaN</td>\n",
       "      <td>NaN</td>\n",
       "      <td>NaN</td>\n",
       "    </tr>\n",
       "    <tr>\n",
       "      <th>TOV</th>\n",
       "      <td>NaN</td>\n",
       "      <td>NaN</td>\n",
       "      <td>NaN</td>\n",
       "      <td>0.884522</td>\n",
       "      <td>0.796597</td>\n",
       "      <td>NaN</td>\n",
       "      <td>NaN</td>\n",
       "      <td>NaN</td>\n",
       "    </tr>\n",
       "    <tr>\n",
       "      <th>PF</th>\n",
       "      <td>NaN</td>\n",
       "      <td>0.815871</td>\n",
       "      <td>0.810287</td>\n",
       "      <td>NaN</td>\n",
       "      <td>NaN</td>\n",
       "      <td>NaN</td>\n",
       "      <td>NaN</td>\n",
       "      <td>NaN</td>\n",
       "    </tr>\n",
       "  </tbody>\n",
       "</table>\n",
       "</div>"
      ],
      "text/plain": [
       "          ORB       DRB       TRB       AST       STL  BLK  TOV  PF\n",
       "ORB       NaN       NaN       NaN       NaN       NaN  NaN  NaN NaN\n",
       "DRB  0.833526       NaN       NaN       NaN       NaN  NaN  NaN NaN\n",
       "TRB  0.911153  0.987129       NaN       NaN       NaN  NaN  NaN NaN\n",
       "AST       NaN       NaN       NaN       NaN       NaN  NaN  NaN NaN\n",
       "STL       NaN       NaN       NaN  0.765300       NaN  NaN  NaN NaN\n",
       "BLK  0.761931  0.761782  0.788730       NaN       NaN  NaN  NaN NaN\n",
       "TOV       NaN       NaN       NaN  0.884522  0.796597  NaN  NaN NaN\n",
       "PF        NaN  0.815871  0.810287       NaN       NaN  NaN  NaN NaN"
      ]
     },
     "execution_count": 23,
     "metadata": {},
     "output_type": "execute_result"
    }
   ],
   "source": [
    "mask = np.zeros_like(correlation_data, dtype=bool) #array of zeros with the same shape and type as correlation_data\n",
    "mask[np.triu_indices_from(mask)] = True            #overrides the data type\n",
    "correlation_data[mask] = np.nan \n",
    "\n",
    "#Loking for some correlated variables, i.e. correlation values greater than 0.75 \n",
    "abs(correlation_data[(correlation_data > 0.75)])"
   ]
  },
  {
   "cell_type": "markdown",
   "id": "927966f7-cb51-4b83-bba8-a5af036bebec",
   "metadata": {},
   "source": [
    "We can see that TRB has high correlation with DRB, to see that with more detail we can visualize the correlation coefficients of TBR with all other features (including itself). It is showw below"
   ]
  },
  {
   "cell_type": "code",
   "execution_count": 24,
   "id": "b7e51e93-31c4-45fc-b807-5a222fa1f132",
   "metadata": {
    "tags": []
   },
   "outputs": [
    {
     "data": {
      "text/plain": [
       "<AxesSubplot:>"
      ]
     },
     "execution_count": 24,
     "metadata": {},
     "output_type": "execute_result"
    },
    {
     "data": {
      "image/png": "[encoded data removed]",
      "text/plain": [
       "<Figure size 1080x216 with 1 Axes>"
      ]
     },
     "metadata": {
      "needs_background": "light"
     },
     "output_type": "display_data"
    }
   ],
   "source": [
    "#TRB correlation coefficients\n",
    "data_1.corr()[\"TRB\"].plot.bar(width = 0.5, figsize=(15,3))"
   ]
  },
  {
   "cell_type": "markdown",
   "id": "4dae6d2e-3ba6-402d-beec-23f97d1fd68e",
   "metadata": {},
   "source": [
    "Running a search per segments of the correlation matrix we can find some features that are correlated (>0.75), this means that we can reduce the data set dimensions. \\\n",
    "The dependence is supported also by the data dictionary, it shows the mathematical relations between some variables. \\\n",
    "I think that there are two methods two follow:\n",
    "1. Drop columns that are rates of other columns and performs PCA\n",
    "2. Perform PCA with all of the column, but in this case maybe I will require more computation resources from my local PC. I will perform this step, because I am not sure about the first one\n",
    "________________________"
   ]
  },
  {
   "cell_type": "markdown",
   "id": "72ab2a78-062e-43ff-b9a5-7d975c4dae50",
   "metadata": {},
   "source": [
    "__Some distributions__"
   ]
  },
  {
   "cell_type": "markdown",
   "id": "b7fc9667-0e32-4afc-808d-712863151240",
   "metadata": {},
   "source": [
    "But before PCA, looking into some distributions"
   ]
  },
  {
   "cell_type": "code",
   "execution_count": 25,
   "id": "0f474d18-4430-4fb2-b86f-1ac11ed35396",
   "metadata": {
    "tags": []
   },
   "outputs": [
    {
     "data": {
      "image/png": "[encoded data removed]",
      "text/plain": [
       "<Figure size 432x288 with 4 Axes>"
      ]
     },
     "metadata": {
      "needs_background": "light"
     },
     "output_type": "display_data"
    }
   ],
   "source": [
    "fig = plt.figure()\n",
    "fig.suptitle('Some distributions for continuous and discrete variables')\n",
    "plt.subplot(2, 2, 1)\n",
    "data_1['PTS'].plot(kind='kde') \n",
    "plt.subplot(2, 2, 2)\n",
    "data_1['FG%'].plot(kind='kde')\n",
    "plt.subplot(2, 2, 3)\n",
    "data_1['3PAr'].dropna().plot(kind='hist', bins=20)\n",
    "plt.subplot(2, 2, 4)\n",
    "data_1['FGA'].dropna().plot(kind='hist', bins=20)\n",
    "plt.show()"
   ]
  },
  {
   "cell_type": "markdown",
   "id": "507050d5-f301-4e19-a449-6f5c357cd97f",
   "metadata": {},
   "source": [
    "The above distributions show the presence of outliers, skewed distributions, and one of them seems more symmetrical"
   ]
  },
  {
   "cell_type": "markdown",
   "id": "51bc9ad9-e586-4fbb-a42c-3a1fe4589422",
   "metadata": {},
   "source": [
    "__Normalization and Standardization__"
   ]
  },
  {
   "cell_type": "markdown",
   "id": "3eed1e22-96e0-49a7-8b63-3d59cd3adf26",
   "metadata": {},
   "source": [
    "Even when it is not necessary perform both normalization and standardization, I will perform Normalization to practice and standardization to prepare data that will be use by PCA"
   ]
  },
  {
   "cell_type": "markdown",
   "id": "7df82ec1-ae24-4a8f-bef3-2f3aa2ee2010",
   "metadata": {},
   "source": [
    "Normalization"
   ]
  },
  {
   "cell_type": "code",
   "execution_count": 26,
   "id": "0b51c00d-d0f2-4317-820f-b717ee8696e7",
   "metadata": {},
   "outputs": [
    {
     "data": {
      "text/html": [
       "<div>\n",
       "<style scoped>\n",
       "    .dataframe tbody tr th:only-of-type {\n",
       "        vertical-align: middle;\n",
       "    }\n",
       "\n",
       "    .dataframe tbody tr th {\n",
       "        vertical-align: top;\n",
       "    }\n",
       "\n",
       "    .dataframe thead th {\n",
       "        text-align: right;\n",
       "    }\n",
       "</style>\n",
       "<table border=\"1\" class=\"dataframe\">\n",
       "  <thead>\n",
       "    <tr style=\"text-align: right;\">\n",
       "      <th></th>\n",
       "      <th>Team_Rank</th>\n",
       "      <th>Age</th>\n",
       "      <th>G</th>\n",
       "      <th>GS</th>\n",
       "      <th>MP</th>\n",
       "      <th>PER</th>\n",
       "      <th>TS%</th>\n",
       "      <th>3PAr</th>\n",
       "      <th>FTr</th>\n",
       "      <th>ORB%</th>\n",
       "      <th>...</th>\n",
       "      <th>FT%</th>\n",
       "      <th>ORB</th>\n",
       "      <th>DRB</th>\n",
       "      <th>TRB</th>\n",
       "      <th>AST</th>\n",
       "      <th>STL</th>\n",
       "      <th>BLK</th>\n",
       "      <th>TOV</th>\n",
       "      <th>PF</th>\n",
       "      <th>PTS</th>\n",
       "    </tr>\n",
       "  </thead>\n",
       "  <tbody>\n",
       "    <tr>\n",
       "      <th>0</th>\n",
       "      <td>0.0</td>\n",
       "      <td>0.619048</td>\n",
       "      <td>0.901235</td>\n",
       "      <td>0.902439</td>\n",
       "      <td>0.916639</td>\n",
       "      <td>0.908350</td>\n",
       "      <td>0.774718</td>\n",
       "      <td>0.254</td>\n",
       "      <td>0.1975</td>\n",
       "      <td>0.152091</td>\n",
       "      <td>...</td>\n",
       "      <td>0.674</td>\n",
       "      <td>0.281159</td>\n",
       "      <td>0.664627</td>\n",
       "      <td>0.573477</td>\n",
       "      <td>0.713024</td>\n",
       "      <td>0.585987</td>\n",
       "      <td>0.205607</td>\n",
       "      <td>0.653017</td>\n",
       "      <td>0.509506</td>\n",
       "      <td>0.763878</td>\n",
       "    </tr>\n",
       "    <tr>\n",
       "      <th>1</th>\n",
       "      <td>0.0</td>\n",
       "      <td>0.523810</td>\n",
       "      <td>0.827160</td>\n",
       "      <td>0.829268</td>\n",
       "      <td>0.719396</td>\n",
       "      <td>0.718941</td>\n",
       "      <td>0.692115</td>\n",
       "      <td>0.302</td>\n",
       "      <td>0.0845</td>\n",
       "      <td>0.186312</td>\n",
       "      <td>...</td>\n",
       "      <td>0.800</td>\n",
       "      <td>0.275362</td>\n",
       "      <td>0.451652</td>\n",
       "      <td>0.415771</td>\n",
       "      <td>0.371965</td>\n",
       "      <td>0.331210</td>\n",
       "      <td>0.406542</td>\n",
       "      <td>0.250000</td>\n",
       "      <td>0.524715</td>\n",
       "      <td>0.372166</td>\n",
       "    </tr>\n",
       "    <tr>\n",
       "      <th>2</th>\n",
       "      <td>0.0</td>\n",
       "      <td>0.428571</td>\n",
       "      <td>0.753086</td>\n",
       "      <td>0.756098</td>\n",
       "      <td>0.679029</td>\n",
       "      <td>0.920570</td>\n",
       "      <td>0.814768</td>\n",
       "      <td>0.304</td>\n",
       "      <td>0.1870</td>\n",
       "      <td>0.083650</td>\n",
       "      <td>...</td>\n",
       "      <td>0.875</td>\n",
       "      <td>0.113043</td>\n",
       "      <td>0.580171</td>\n",
       "      <td>0.459677</td>\n",
       "      <td>0.331126</td>\n",
       "      <td>0.420382</td>\n",
       "      <td>0.462617</td>\n",
       "      <td>0.297414</td>\n",
       "      <td>0.444867</td>\n",
       "      <td>0.607897</td>\n",
       "    </tr>\n",
       "  </tbody>\n",
       "</table>\n",
       "<p>3 rows × 47 columns</p>\n",
       "</div>"
      ],
      "text/plain": [
       "   Team_Rank       Age         G        GS        MP       PER       TS%  \\\n",
       "0        0.0  0.619048  0.901235  0.902439  0.916639  0.908350  0.774718   \n",
       "1        0.0  0.523810  0.827160  0.829268  0.719396  0.718941  0.692115   \n",
       "2        0.0  0.428571  0.753086  0.756098  0.679029  0.920570  0.814768   \n",
       "\n",
       "    3PAr     FTr      ORB%  ...    FT%       ORB       DRB       TRB  \\\n",
       "0  0.254  0.1975  0.152091  ...  0.674  0.281159  0.664627  0.573477   \n",
       "1  0.302  0.0845  0.186312  ...  0.800  0.275362  0.451652  0.415771   \n",
       "2  0.304  0.1870  0.083650  ...  0.875  0.113043  0.580171  0.459677   \n",
       "\n",
       "        AST       STL       BLK       TOV        PF       PTS  \n",
       "0  0.713024  0.585987  0.205607  0.653017  0.509506  0.763878  \n",
       "1  0.371965  0.331210  0.406542  0.250000  0.524715  0.372166  \n",
       "2  0.331126  0.420382  0.462617  0.297414  0.444867  0.607897  \n",
       "\n",
       "[3 rows x 47 columns]"
      ]
     },
     "execution_count": 26,
     "metadata": {},
     "output_type": "execute_result"
    }
   ],
   "source": [
    "scaler = MinMaxScaler()        #instantiating the scaler\n",
    "cols=[ 'Team_Rank','Age', 'G', 'GS', 'MP', 'PER', 'TS%', '3PAr', 'FTr', 'ORB%', 'DRB%', 'TRB%', 'AST%', 'STL%',\n",
    "       'BLK%', 'TOV%', 'USG%', 'OWS', 'DWS', 'WS', 'WS/48', 'OBPM', 'DBPM', 'BPM', 'VORP', 'FG', \n",
    "       'FGA', 'FG%', '3P', '3PA', '3P%', '2P', '2PA', '2P%', 'eFG%', 'FT', 'FTA', 'FT%', 'ORB', 'DRB',\n",
    "       'TRB', 'AST', 'STL', 'BLK', 'TOV', 'PF', 'PTS']\n",
    "# Fitting data and then transforming them\n",
    "b=pd.DataFrame(scaler.fit_transform(data_1.drop(['Salary',\"Player\", \"Pos\", \"Tm\"], axis=1)), columns =cols)\n",
    "                               #dropping Salary and Year, because I am supposing that Salary will be the variable to analyze\n",
    "                               #I want to be able to see the year\n",
    "b.head(3)"
   ]
  },
  {
   "cell_type": "code",
   "execution_count": 27,
   "id": "2adfaadf-82cd-4863-9653-fb40a42f4b43",
   "metadata": {},
   "outputs": [
    {
     "data": {
      "text/plain": [
       "<matplotlib.legend.Legend at 0x1f2941e0b88>"
      ]
     },
     "execution_count": 27,
     "metadata": {},
     "output_type": "execute_result"
    },
    {
     "data": {
      "image/png": "[encoded data removed]",
      "text/plain": [
       "<Figure size 432x288 with 2 Axes>"
      ]
     },
     "metadata": {
      "needs_background": "light"
     },
     "output_type": "display_data"
    }
   ],
   "source": [
    "#Visualizing the new scale for two features\n",
    "fig, (ax1, ax2) = plt.subplots(2, 1, sharey=True)\n",
    "ax1.plot(b[\"3PAr\"], label ='3PAr') #\n",
    "ax1.legend(loc=\"upper right\")\n",
    "ax2.plot(b[\"TRB\"], label ='TRB')\n",
    "ax2.legend(loc=\"upper right\")"
   ]
  },
  {
   "cell_type": "markdown",
   "id": "88f7be04-8f9c-4baa-b2e7-5566f7fb7ce5",
   "metadata": {},
   "source": [
    "Standardization"
   ]
  },
  {
   "cell_type": "markdown",
   "id": "e1990c98-e738-434e-859e-530d4b2ddce0",
   "metadata": {},
   "source": [
    "***************************   __data_2__ standardized data  ***************************"
   ]
  },
  {
   "cell_type": "code",
   "execution_count": 28,
   "id": "c6411b44-b6d2-4585-8dde-205fa6729ada",
   "metadata": {},
   "outputs": [
    {
     "data": {
      "image/png": "[encoded data removed]",
      "text/plain": [
       "<Figure size 432x288 with 1 Axes>"
      ]
     },
     "metadata": {
      "needs_background": "light"
     },
     "output_type": "display_data"
    }
   ],
   "source": [
    "scaler = StandardScaler()       # Instantiating the scaler\n",
    "data_2 = pd.DataFrame(scaler.fit_transform(data_1.drop(['Salary',\"Player\", \"Pos\", \"Tm\"], axis=1)), columns =cols)\n",
    "#b = pd.DataFrame(scaler.fit_transform(data_3), columns =cols)\n",
    "\n",
    "#visualizing some of the new distribution\n",
    "plt.boxplot(data_2.iloc[:, 1:5]) \n",
    "plt.show()"
   ]
  },
  {
   "cell_type": "markdown",
   "id": "08de3590-772d-4b05-8b51-99fbef1f0679",
   "metadata": {},
   "source": [
    "Now filling some NaN using the median value because most of our features have skewed distributions and removing some outliers"
   ]
  },
  {
   "cell_type": "markdown",
   "id": "e4f999b0-e094-4a96-aa9b-396bb2bc5f29",
   "metadata": {},
   "source": [
    "***************************   **data_3_(1,2)** after handling missing and outliers values ***************************"
   ]
  },
  {
   "cell_type": "code",
   "execution_count": 29,
   "id": "b7769707-4612-4604-b691-29ec003a715a",
   "metadata": {},
   "outputs": [],
   "source": [
    "#filling NaN\n",
    "dtemp= data_2.fillna(data_2.median())          #using the median value of each column to impute missing values\n",
    "data_3_1= dtemp                                #data with outliers\n",
    "#removing outliers \n",
    "dtemp= dtemp[(np.abs(stats.zscore(dtemp)) < 2).all(axis=1)] #using zscore < 2 thus for each column\n",
    "data_3_2= dtemp                   #data without outliers"
   ]
  },
  {
   "cell_type": "code",
   "execution_count": 30,
   "id": "d2977cb1-38e4-4aed-b6bd-9d11a0ecda57",
   "metadata": {},
   "outputs": [
    {
     "name": "stdout",
     "output_type": "stream",
     "text": [
      "Before dropping outliers we have 486 records\n",
      "After dropping outliers we have 264 records\n"
     ]
    }
   ],
   "source": [
    "#Since our data are already standardized I am going to filter them using 2 times sigma and evaluate how many data we will lose\n",
    "print('Before dropping outliers we have {} records'.format(data_3_1.shape[0]))\n",
    "print('After dropping outliers we have {} records'.format(data_3_2.shape[0]))"
   ]
  },
  {
   "cell_type": "code",
   "execution_count": 31,
   "id": "01a29474-81fb-421c-8127-ce9fb2c1c444",
   "metadata": {},
   "outputs": [
    {
     "name": "stdout",
     "output_type": "stream",
     "text": [
      "Relationship of data with outliers\n"
     ]
    },
    {
     "data": {
      "image/png": "[encoded data removed]",
      "text/plain": [
       "<Figure size 360x360 with 5 Axes>"
      ]
     },
     "metadata": {
      "needs_background": "light"
     },
     "output_type": "display_data"
    }
   ],
   "source": [
    "#visualizing the correlation between two columns\n",
    "sns.pairplot(data_3_1.iloc[:, 19:21], corner=True)   #it shows in a grid the correlations between numerical features\n",
    "print(\"Relationship of data with outliers\")"
   ]
  },
  {
   "cell_type": "code",
   "execution_count": 32,
   "id": "5edefd80-ea63-4b7d-891c-a3c3c0cba76a",
   "metadata": {},
   "outputs": [
    {
     "name": "stdout",
     "output_type": "stream",
     "text": [
      "Relationship of data without outliers\n"
     ]
    },
    {
     "data": {
      "image/png": "[encoded data removed]",
      "text/plain": [
       "<Figure size 360x360 with 5 Axes>"
      ]
     },
     "metadata": {
      "needs_background": "light"
     },
     "output_type": "display_data"
    }
   ],
   "source": [
    "sns.pairplot(data_3_2.iloc[:, 19:21], corner=True) \n",
    "print(\"Relationship of data without outliers\")         #it shows in a grid the correlations between numerical features"
   ]
  },
  {
   "cell_type": "markdown",
   "id": "9994f724-f088-48c3-9904-d307557335c8",
   "metadata": {},
   "source": [
    "The last grid shows relationship between some of the numerical atributes. For instance, the relationship between WS/48% and WS  is more evident compared with the one for WS and USG%. Also, still there are outliers\n",
    "____________________________________________"
   ]
  },
  {
   "cell_type": "markdown",
   "id": "b0e49137-e514-407c-8cf2-f57e8406f745",
   "metadata": {},
   "source": [
    "## 2. PCA \n",
    "We are going to suppose that we want to evaluate salary "
   ]
  },
  {
   "cell_type": "markdown",
   "id": "58daf3e7-13ad-40a1-ab58-a88c2cccc254",
   "metadata": {},
   "source": [
    "The variables that we will use are some of the numeric ones, we will not considering \"Salary\" and \"Player\" because:\n",
    "* Salary due to this is the variable that we suppose as the target variable for a further analysis (not presented in this notebook)\n",
    "* Player could be considered as an ID \n",
    "\n",
    "Then PCA will be perform for different datasets:\n",
    "1. Standardize data with outliers and only considering numerical features (taking out \"Pos\" and \"Team\")\n",
    "2. Standardize data without outliers and only considering numerical features (taking out \"Pos\" and \"Team\")\n",
    "3. Standardize data with outliers and dummies for \"Pos\" and \"Team\"\n",
    "***************************   __data_4__ numeric varaibles to perform PCA  ***************************"
   ]
  },
  {
   "cell_type": "code",
   "execution_count": 33,
   "id": "d7d9bd51-5f80-4300-b5e4-dbe01297e9c9",
   "metadata": {},
   "outputs": [],
   "source": [
    "cols_PCA=['Team_Rank','Age', 'G', 'GS', 'MP', 'PER', 'TS%', '3PAr', 'FTr', 'ORB%', 'DRB%', 'TRB%', 'AST%', 'STL%',\n",
    "       'BLK%', 'TOV%', 'USG%', 'OWS', 'DWS', 'WS', 'WS/48', 'OBPM', 'DBPM', 'BPM', 'VORP', 'FG', \n",
    "       'FGA', 'FG%', '3P', '3PA', '3P%', '2P', '2PA', '2P%', 'eFG%', 'FT', 'FTA', 'FT%', 'ORB', 'DRB',\n",
    "       'TRB', 'AST', 'STL', 'BLK', 'TOV', 'PF', 'PTS']\n",
    "data_4_1 =data_3_1[cols_PCA]             #data with outliers \n",
    "data_4_2 =data_3_2[cols_PCA]             #data without outliers "
   ]
  },
  {
   "cell_type": "code",
   "execution_count": 34,
   "id": "6e7a0618-e92d-4818-9eb6-ee631901ff22",
   "metadata": {
    "tags": []
   },
   "outputs": [],
   "source": [
    "#!pip install pca                   #installing pca"
   ]
  },
  {
   "cell_type": "code",
   "execution_count": 35,
   "id": "9708de17-f80b-4ede-a14d-c2232f65e16e",
   "metadata": {
    "tags": []
   },
   "outputs": [],
   "source": [
    "from pca import pca"
   ]
  },
  {
   "cell_type": "markdown",
   "id": "add8bbd4-d1cb-4476-a6d4-5373f4201200",
   "metadata": {},
   "source": [
    "I am going to perform PCA algorithm for datasets after filling missing values with and without outliers to check if there are differences between PCs. In both cases I will consider only the numerical variables. \\\n",
    "After that I am going to perform PCA algorithm for dataset with imputed missing values, without outliers, and adding dummy variables for Team and Pos"
   ]
  },
  {
   "cell_type": "markdown",
   "id": "7eb2d49f-6397-4032-9c50-7f7e1ffec4e3",
   "metadata": {
    "tags": []
   },
   "source": [
    "### 2.1 PCA for data with outliers "
   ]
  },
  {
   "cell_type": "code",
   "execution_count": 36,
   "id": "ffaca0ec-6bbe-4a65-a841-0a021f46d58e",
   "metadata": {
    "collapsed": true,
    "jupyter": {
     "outputs_hidden": true
    },
    "tags": []
   },
   "outputs": [
    {
     "name": "stdout",
     "output_type": "stream",
     "text": [
      "[pca] >n_components is set to 46\n",
      "[pca] >Processing dataframe..\n",
      "[pca] >The PCA reduction is performed on the [47] columns of the input dataframe.\n",
      "[pca] >Fit using PCA.\n",
      "[pca] >Compute loadings and PCs.\n",
      "[pca] >Compute explained variance.\n",
      "[pca] >Outlier detection using Hotelling T2 test with alpha=[0.05] and n_components=[46]\n",
      "[pca] >Outlier detection using SPE/DmodX with n_std=[2]\n"
     ]
    },
    {
     "data": {
      "text/plain": [
       "{'loadings':          Team_Rank           Age             G            GS            MP  \\\n",
       " PC1  -1.385333e-01  1.233487e-02  1.655278e-01  1.781451e-01  2.001811e-01   \n",
       " PC2   3.034933e-02 -3.410021e-02 -3.711769e-02 -4.032456e-02 -7.860238e-02   \n",
       " PC3   5.075866e-02  6.371903e-02 -3.036932e-02 -9.391322e-02 -5.773616e-02   \n",
       " PC4   8.556264e-02 -2.924523e-02 -2.846228e-01 -8.645450e-02 -1.703580e-01   \n",
       " PC5   1.160845e-02  1.047212e-01  1.256916e-01  2.305573e-02  6.319562e-02   \n",
       " PC6   8.281960e-02 -2.243710e-01  1.853118e-01  5.548561e-02  1.110735e-01   \n",
       " PC7  -2.760897e-01  6.572342e-01  1.237812e-02 -1.554438e-02 -4.487364e-03   \n",
       " PC8   1.220081e-01 -3.803174e-01 -1.018175e-02 -2.542515e-02 -4.211103e-03   \n",
       " PC9  -3.839446e-01  2.197992e-01  7.336181e-02 -6.520247e-02  7.046923e-04   \n",
       " PC10  1.310161e-02  1.994759e-01 -1.085805e-01  2.974345e-02 -3.915656e-02   \n",
       " PC11  6.873230e-02 -2.568900e-02  4.922491e-02 -2.448659e-02  1.966252e-02   \n",
       " PC12 -3.176502e-01  8.993104e-02  5.391732e-02  9.847667e-02  8.955176e-02   \n",
       " PC13  9.716816e-03 -2.693970e-02 -1.147933e-02 -6.793275e-03  1.689709e-02   \n",
       " PC14 -2.224685e-02  8.406336e-02  3.444873e-03 -1.627857e-01 -2.391604e-02   \n",
       " PC15 -3.141904e-01 -2.442784e-01  9.598992e-02  1.751931e-02  3.824589e-02   \n",
       " PC16 -4.222692e-02  9.690580e-02 -2.884712e-01  3.004276e-01 -2.357847e-03   \n",
       " PC17 -6.811105e-01 -4.099210e-01 -1.968366e-01  1.468505e-01 -8.705301e-02   \n",
       " PC18  1.524514e-01  5.476408e-02 -3.081711e-01  6.982551e-01  7.032391e-02   \n",
       " PC19 -1.218750e-01 -9.892792e-03  1.383574e-01 -2.106451e-01  7.857558e-03   \n",
       " PC20 -5.256236e-02  9.337404e-03 -1.819301e-01 -5.115315e-02 -4.376739e-02   \n",
       " PC21 -4.242360e-02  7.470972e-02  1.199918e-02  1.673265e-01 -1.430103e-03   \n",
       " PC22 -3.873802e-02 -7.831424e-03  1.118291e-02 -9.948886e-02  1.167838e-02   \n",
       " PC23 -6.339848e-02 -3.890954e-02 -1.559840e-01 -2.758597e-01  3.286477e-02   \n",
       " PC24  3.640574e-02 -3.127948e-02  3.210399e-01  1.754731e-01  1.214693e-01   \n",
       " PC25  2.514600e-02  4.084301e-04 -1.332650e-01 -1.367678e-01  5.395271e-02   \n",
       " PC26 -9.585561e-03  1.102042e-02 -2.278831e-01 -2.136413e-01  3.077348e-02   \n",
       " PC27 -2.279010e-02 -2.633435e-02  2.917093e-01  8.245931e-02  5.560281e-02   \n",
       " PC28  2.829961e-02  2.285977e-02  2.264399e-01  1.496690e-02  1.997739e-01   \n",
       " PC29 -1.101039e-02  1.623346e-02  8.569762e-02  2.092130e-02 -1.252110e-01   \n",
       " PC30 -1.784111e-02 -1.838521e-02 -3.236646e-01 -1.558109e-01  1.695133e-01   \n",
       " PC31 -1.747300e-02 -5.486475e-03  2.829875e-01  9.218939e-02 -2.504700e-01   \n",
       " PC32  1.945025e-02  2.069375e-02  5.957612e-02  4.543586e-02 -1.906297e-01   \n",
       " PC33  2.239760e-02  1.322049e-02 -3.580251e-02 -2.428202e-02  1.505161e-01   \n",
       " PC34 -1.267998e-02 -7.583836e-03 -6.176433e-02 -6.212667e-02  7.411888e-01   \n",
       " PC35 -1.253623e-02  7.557439e-03  1.693987e-02  1.638461e-02 -5.093494e-02   \n",
       " PC36  1.186483e-02  2.676253e-03 -5.181922e-02 -1.868171e-02  2.908363e-01   \n",
       " PC37  4.153286e-03  2.681631e-03  1.129565e-02  1.529463e-02 -2.885222e-02   \n",
       " PC38  4.798516e-03 -1.003367e-02  7.687416e-03 -2.029787e-02  7.772365e-02   \n",
       " PC39 -1.585276e-04  6.092295e-04 -1.053898e-02  1.536157e-03 -3.014962e-02   \n",
       " PC40 -1.590818e-03 -2.539787e-04 -1.891737e-03 -5.703440e-03  2.665828e-03   \n",
       " PC41  3.575411e-04  8.573401e-04  5.316891e-03  2.596237e-03 -7.024073e-02   \n",
       " PC42  6.336137e-04 -1.226770e-04 -6.766670e-04 -8.685714e-04  1.790023e-03   \n",
       " PC43  2.590018e-04 -9.263722e-05  2.177793e-03 -1.591054e-04 -3.986696e-03   \n",
       " PC44  3.069171e-16 -4.513834e-17  6.701915e-17 -3.159487e-16  2.314709e-16   \n",
       " PC45  0.000000e+00  1.270143e-16  3.483458e-16  8.965766e-17 -1.359689e-15   \n",
       " PC46  0.000000e+00  5.046961e-17  3.141396e-16  1.183313e-16 -3.289899e-16   \n",
       " \n",
       "                PER           TS%          3PAr           FTr          ORB%  \\\n",
       " PC1   1.682600e-01  1.153418e-01 -3.238094e-02  4.036950e-02  1.206353e-02   \n",
       " PC2   1.206646e-01  1.416155e-01 -2.557410e-01  1.540245e-01  3.069002e-01   \n",
       " PC3   1.891407e-01  3.459951e-01  1.167956e-01  9.035753e-02 -8.669113e-02   \n",
       " PC4   1.767991e-01 -9.103794e-02 -2.340843e-01  2.642450e-01  9.932866e-02   \n",
       " PC5  -1.096198e-01 -6.409642e-02  6.040341e-02 -9.668568e-02 -9.800188e-02   \n",
       " PC6  -7.751930e-02  1.136959e-01 -3.007989e-01  3.497655e-02 -5.766249e-02   \n",
       " PC7  -5.945957e-02  1.032220e-01  2.164110e-02  1.511917e-02  4.689071e-04   \n",
       " PC8  -1.698756e-02  5.915651e-02  1.568135e-01 -1.320591e-01  2.045685e-02   \n",
       " PC9   1.767777e-01 -8.691113e-03 -1.608211e-01 -3.493085e-01  1.027929e-01   \n",
       " PC10 -4.328153e-02 -7.295016e-02  4.077111e-02 -3.492877e-01 -1.462059e-02   \n",
       " PC11  8.141748e-02 -1.181205e-01  5.972435e-02 -2.749620e-01  7.353124e-03   \n",
       " PC12 -9.621846e-02 -7.458769e-02 -8.610080e-02  5.627454e-01  1.538111e-01   \n",
       " PC13 -5.778497e-02  7.249884e-02 -5.417230e-03 -1.049033e-02  5.730469e-02   \n",
       " PC14  1.475290e-02  2.934854e-02  1.376133e-01  2.604174e-01 -5.778613e-01   \n",
       " PC15 -8.023187e-03 -3.233061e-02 -3.437495e-01 -1.780812e-01 -1.271949e-01   \n",
       " PC16 -1.204616e-01  3.990310e-02 -1.340512e-01 -7.549247e-02 -2.329776e-01   \n",
       " PC17  6.280467e-03  3.310325e-02  2.368994e-01 -8.829605e-03 -9.582393e-02   \n",
       " PC18  5.134691e-02 -6.596754e-03 -9.622700e-02  9.681110e-02  4.416094e-02   \n",
       " PC19 -2.472741e-02  1.008707e-03 -2.172250e-01  8.449166e-02  1.182720e-01   \n",
       " PC20 -8.553526e-02 -1.538523e-01  1.324862e-01  9.761157e-03  2.875370e-01   \n",
       " PC21  6.110341e-02 -4.260523e-02  3.004989e-01 -5.437433e-02  1.093008e-01   \n",
       " PC22 -1.679761e-01 -2.045560e-01 -2.043751e-01  7.718731e-02 -4.201746e-02   \n",
       " PC23  7.530001e-02 -1.936413e-01  1.163227e-01  8.867428e-02  1.305040e-01   \n",
       " PC24  1.140611e-01 -6.380209e-02  2.603804e-01  1.735503e-01 -3.391066e-02   \n",
       " PC25  2.629499e-03  2.071034e-01 -1.521107e-02  2.240126e-02 -4.773411e-02   \n",
       " PC26 -2.627155e-02  1.131198e-01  8.898727e-02  1.680543e-01 -1.757992e-01   \n",
       " PC27 -2.148649e-01  1.291567e-01  2.726439e-01  1.481906e-01  1.904014e-01   \n",
       " PC28  3.815535e-02 -3.726603e-02 -8.832782e-02 -1.814199e-02  5.540726e-02   \n",
       " PC29 -4.604862e-02 -1.857615e-02  2.963700e-02  1.693326e-02 -1.029384e-01   \n",
       " PC30 -1.883614e-01 -5.361205e-02  1.929377e-01 -3.571108e-02  2.569985e-01   \n",
       " PC31 -1.272201e-01 -1.346140e-01  3.217884e-02  2.849793e-02  7.103290e-02   \n",
       " PC32  8.207318e-02 -5.609186e-01  4.594873e-02  6.925749e-02 -7.033867e-02   \n",
       " PC33  5.383813e-02 -4.629541e-01 -1.323003e-02  5.121538e-02 -1.732432e-01   \n",
       " PC34  3.209573e-01 -8.120079e-02  1.741657e-02 -3.613848e-03 -2.488380e-02   \n",
       " PC35  2.349170e-01 -1.066454e-01  1.629316e-01 -5.151807e-03  9.187709e-02   \n",
       " PC36 -6.576123e-01 -6.195339e-02 -2.905130e-02 -3.078667e-02 -4.375301e-02   \n",
       " PC37 -1.366322e-01  2.327529e-02 -5.253672e-02 -2.399942e-02 -1.876937e-02   \n",
       " PC38 -8.356251e-02 -4.399326e-02 -3.284894e-02 -3.203797e-03  1.618939e-02   \n",
       " PC39  6.653598e-02 -1.207085e-01 -2.128529e-01  2.605463e-02 -1.781406e-02   \n",
       " PC40 -3.613477e-02 -2.730567e-02 -9.581286e-03  4.644604e-03 -1.953237e-01   \n",
       " PC41  7.803764e-02  9.201537e-03  1.179279e-02  9.460076e-03 -2.319807e-01   \n",
       " PC42  1.438398e-03 -2.819808e-03 -1.363044e-03  5.323245e-04  5.180433e-03   \n",
       " PC43  1.347724e-03 -9.965908e-04 -3.957585e-03  8.855980e-05 -5.611017e-03   \n",
       " PC44 -1.353785e-16 -9.467442e-17 -1.289689e-16  5.330471e-17 -5.911473e-16   \n",
       " PC45  3.596549e-16  1.664111e-16  1.828586e-16 -3.968764e-18 -2.525733e-16   \n",
       " PC46 -2.743504e-16 -1.330067e-16  2.093058e-16 -5.466537e-18  2.549496e-16   \n",
       " \n",
       "       ...           FT%       ORB       DRB       TRB           AST  \\\n",
       " PC1   ...  3.222905e-02  0.145263  0.190867  0.184407  1.613016e-01   \n",
       " PC2   ... -1.980284e-01  0.188330  0.074021  0.109724 -1.482793e-01   \n",
       " PC3   ...  5.831534e-02 -0.180137 -0.149726 -0.163817  7.388144e-04   \n",
       " PC4   ... -7.870585e-03 -0.125361 -0.119125 -0.125137  2.029918e-01   \n",
       " PC5   ... -1.211015e-01 -0.043644  0.010472 -0.004823  1.577221e-01   \n",
       " PC6   ... -4.857039e-02  0.056808 -0.041233 -0.014310  1.135718e-01   \n",
       " PC7   ...  1.548730e-01  0.017584  0.061769  0.051160  1.123277e-01   \n",
       " PC8   ... -2.154857e-01 -0.164905 -0.021916 -0.064081  9.829837e-02   \n",
       " PC9   ... -1.067103e-02 -0.072328 -0.070257 -0.073338 -9.180335e-02   \n",
       " PC10  ... -3.741111e-01 -0.075229 -0.103374 -0.098878  6.472307e-02   \n",
       " PC11  ... -4.445070e-01  0.073831  0.067388  0.071633  1.534616e-01   \n",
       " PC12  ... -4.731512e-01 -0.091914 -0.093879 -0.096626  2.976710e-03   \n",
       " PC13  ...  2.642328e-01 -0.091569 -0.075963 -0.083163 -9.524647e-02   \n",
       " PC14  ... -5.106925e-02 -0.233716  0.065802 -0.018575  2.457948e-02   \n",
       " PC15  ...  2.779664e-01 -0.209732 -0.161181 -0.180928  2.493493e-01   \n",
       " PC16  ... -2.386777e-01 -0.073150 -0.021852 -0.037473 -1.377663e-01   \n",
       " PC17  ... -1.926860e-02  0.125113  0.095828  0.107689 -9.024177e-02   \n",
       " PC18  ...  1.695204e-01 -0.052884 -0.005038 -0.019066  7.784513e-02   \n",
       " PC19  ... -6.157734e-02 -0.074183 -0.053512 -0.061385  1.599593e-01   \n",
       " PC20  ...  1.734142e-01 -0.001689  0.090956  0.067351  1.129193e-01   \n",
       " PC21  ... -2.199225e-02  0.069556 -0.146847 -0.089392  2.502484e-01   \n",
       " PC22  ...  5.543179e-02  0.110879  0.171836  0.160260  2.537694e-02   \n",
       " PC23  ...  1.155327e-02 -0.004055 -0.072062 -0.054921  2.894149e-03   \n",
       " PC24  ...  2.059138e-02  0.057666  0.024297  0.034814 -4.339957e-02   \n",
       " PC25  ...  3.485604e-02  0.213584  0.314667  0.296520  2.632932e-01   \n",
       " PC26  ...  2.083250e-02  0.143996 -0.051064  0.003596 -7.398644e-02   \n",
       " PC27  ...  5.569603e-02 -0.122720 -0.146786 -0.145004  2.882931e-01   \n",
       " PC28  ...  4.817722e-02  0.038355  0.031203  0.034375 -1.746185e-01   \n",
       " PC29  ...  4.354705e-02  0.652242 -0.499366 -0.183649 -1.879067e-01   \n",
       " PC30  ...  9.681248e-02 -0.092328 -0.047248 -0.061966 -6.589383e-02   \n",
       " PC31  ...  3.801112e-02 -0.205562  0.165977  0.064290 -3.140879e-01   \n",
       " PC32  ...  9.921368e-02 -0.109137  0.048239  0.004388 -1.669459e-01   \n",
       " PC33  ...  5.030184e-02  0.209583 -0.081018  0.000240  3.772681e-01   \n",
       " PC34  ...  1.584690e-03 -0.088138 -0.057802 -0.068625 -2.537088e-01   \n",
       " PC35  ... -1.093423e-02 -0.019870  0.116705  0.081293  6.615147e-02   \n",
       " PC36  ... -9.512686e-03  0.010251  0.022648  0.019859 -9.835133e-02   \n",
       " PC37  ...  3.274016e-02 -0.009243 -0.024355 -0.020841  7.217301e-02   \n",
       " PC38  ...  3.655488e-03 -0.020088  0.045507  0.028127 -1.011997e-02   \n",
       " PC39  ...  9.604142e-03 -0.002441 -0.005832 -0.005056 -1.082271e-02   \n",
       " PC40  ... -3.363482e-03  0.060215  0.012149  0.026492  1.362673e-01   \n",
       " PC41  ... -3.130789e-05 -0.051627  0.030596  0.007875 -8.179745e-02   \n",
       " PC42  ...  7.131678e-04  0.000815 -0.000548 -0.000173  3.536187e-03   \n",
       " PC43  ... -4.288787e-04  0.000337  0.000793  0.000689  1.334976e-03   \n",
       " PC44  ...  0.000000e+00 -0.058276 -0.150155  0.201321  1.387779e-16   \n",
       " PC45  ... -1.942890e-16  0.071662  0.184647 -0.247565  3.330669e-16   \n",
       " PC46  ...  2.775558e-17 -0.198784 -0.512191  0.686721 -3.330669e-16   \n",
       " \n",
       "                STL           BLK           TOV            PF       PTS  \n",
       " PC1   1.805064e-01  1.410095e-01  1.937271e-01  1.803408e-01  0.207586  \n",
       " PC2  -8.631220e-02  1.590812e-01 -9.219525e-02  1.772251e-02 -0.098372  \n",
       " PC3  -3.823109e-02 -1.564621e-01 -6.940556e-02 -9.709603e-02 -0.038844  \n",
       " PC4  -3.651729e-02 -1.378589e-01  1.205532e-01 -2.180311e-01  0.019544  \n",
       " PC5   2.445573e-01  4.953541e-02  5.815737e-02  1.061104e-01 -0.098060  \n",
       " PC6   4.187493e-02 -2.902141e-02  1.457570e-01  1.576932e-01  0.018818  \n",
       " PC7  -3.708708e-02 -9.718178e-02  6.288997e-02  1.769680e-03 -0.041673  \n",
       " PC8  -3.310143e-03 -5.964137e-02  1.264445e-01  2.270335e-02  0.040528  \n",
       " PC9  -5.897354e-02 -4.198328e-02 -1.055304e-02  1.569507e-03  0.048048  \n",
       " PC10 -1.116003e-01  6.690168e-02 -8.541182e-03 -1.306244e-01  0.046333  \n",
       " PC11  1.264976e-01 -2.966923e-01  4.548078e-02 -2.598829e-02 -0.032447  \n",
       " PC12  5.431384e-02 -1.861330e-01  2.653367e-02  5.204384e-02  0.044090  \n",
       " PC13  7.270529e-02 -1.926478e-01 -1.517874e-02 -1.377700e-02  0.079391  \n",
       " PC14 -2.778031e-02  2.442845e-01  7.566873e-02 -1.678853e-02  0.008841  \n",
       " PC15  1.039792e-01 -1.928117e-01 -1.831496e-02 -4.904390e-02 -0.011637  \n",
       " PC16  8.552454e-02 -6.573603e-02 -1.185091e-01 -2.226738e-01  0.066766  \n",
       " PC17 -6.661338e-02  9.493881e-02 -3.938959e-02 -8.316668e-02 -0.077361  \n",
       " PC18  5.521408e-02  1.195578e-01 -1.979993e-02  1.931770e-02 -0.043005  \n",
       " PC19  2.948964e-01  1.880451e-01 -5.583138e-02  6.827799e-02 -0.104286  \n",
       " PC20  1.961631e-01 -1.997088e-01  1.875768e-01 -1.181018e-01 -0.020707  \n",
       " PC21  3.628010e-02  1.516924e-01  1.516248e-01  2.466738e-01 -0.035142  \n",
       " PC22 -5.104687e-01 -6.762974e-03  1.424779e-02  1.259153e-01  0.029592  \n",
       " PC23  3.459793e-02  3.233243e-01 -7.445654e-02 -2.832483e-01  0.119716  \n",
       " PC24 -1.853818e-02 -4.019266e-01 -3.050887e-01 -1.833689e-01 -0.015547  \n",
       " PC25  4.541245e-02 -2.401032e-01  2.045345e-01 -3.922526e-01 -0.015313  \n",
       " PC26  3.820667e-01 -1.779377e-01 -9.200286e-02  3.329449e-01  0.021953  \n",
       " PC27 -2.279063e-01  1.304246e-01  1.109990e-01 -2.311127e-01  0.002722  \n",
       " PC28  3.685160e-01  2.510192e-01 -2.749163e-01 -4.071109e-01 -0.012115  \n",
       " PC29  1.447191e-02 -6.055173e-02  2.041823e-01 -1.022041e-01  0.021498  \n",
       " PC30  3.479766e-02 -8.900909e-02 -1.998523e-01  2.400534e-01  0.032242  \n",
       " PC31 -2.660857e-02 -1.999555e-01 -8.052984e-02  9.159661e-02  0.033229  \n",
       " PC32  1.921398e-01 -5.310895e-03  4.144323e-01 -6.576557e-02  0.025318  \n",
       " PC33 -1.179774e-01 -4.425067e-02 -4.016014e-01  4.995600e-02 -0.082418  \n",
       " PC34 -1.826579e-01 -8.828234e-02  2.434131e-01  2.801756e-04 -0.036052  \n",
       " PC35  1.002790e-01  8.136413e-02 -1.219262e-01  5.217078e-02 -0.007594  \n",
       " PC36  7.596879e-02  3.987769e-02  1.136263e-01 -1.145194e-01 -0.055045  \n",
       " PC37  3.267547e-03 -1.601137e-02 -1.331904e-01 -2.650081e-03  0.006132  \n",
       " PC38  2.598765e-02  2.663382e-02  7.591633e-03 -2.487731e-02 -0.000783  \n",
       " PC39 -8.859709e-03 -1.450317e-02  1.695251e-02  2.060742e-02 -0.021825  \n",
       " PC40  3.372007e-03 -8.022433e-03 -1.710132e-01  4.811776e-03  0.247413  \n",
       " PC41  8.445740e-03  1.377004e-03  1.047504e-01  1.118939e-02 -0.199750  \n",
       " PC42 -2.049385e-03 -8.631011e-04 -3.173117e-03  1.500984e-03  0.004334  \n",
       " PC43 -1.239546e-03  1.144447e-03 -1.260189e-03 -5.478792e-04 -0.004964  \n",
       " PC44 -5.551115e-17  2.775558e-17 -3.330669e-16 -2.775558e-17  0.407712  \n",
       " PC45  2.220446e-16  0.000000e+00 -7.216450e-16  1.665335e-16  0.350312  \n",
       " PC46  2.775558e-17  1.665335e-16  4.440892e-16 -8.326673e-17 -0.177400  \n",
       " \n",
       " [46 rows x 47 columns],\n",
       " 'PC':            PC1       PC2       PC3       PC4       PC5       PC6       PC7  \\\n",
       " 0    13.505497 -1.158903  0.511639  3.921703 -0.110399 -0.864713  1.630812   \n",
       " 1     5.607335  0.321877 -0.589382 -0.418159  0.909233 -0.954657  0.892739   \n",
       " 2    10.319344  0.746111  1.204289  1.546726 -0.633794 -2.724581  0.044491   \n",
       " 3    17.288071 -4.583314  0.309698  5.873561  0.401788 -2.246912  1.437401   \n",
       " 4     8.242545 -3.437680  2.398568  2.353348  0.129764 -1.469775  0.442647   \n",
       " ..         ...       ...       ...       ...       ...       ...       ...   \n",
       " 481  -5.132111  0.300780  1.012713  2.538312 -1.501944 -0.855091  0.060129   \n",
       " 482  -8.309012 -1.484138 -6.294990  1.828186 -1.055132 -0.524804  0.844618   \n",
       " 483  -4.256099 -0.578135  3.962934  0.587724 -1.088645  1.420836 -1.131572   \n",
       " 484  -4.594069  1.138675  4.708219 -1.897673 -0.733968  0.917314 -2.084951   \n",
       " 485  -5.518087 -0.852476 -0.417401  2.895107 -3.958416  0.274973  1.218411   \n",
       " \n",
       "           PC8       PC9      PC10  ...      PC37      PC38      PC39  \\\n",
       " 0    0.435309 -1.175272  2.057157  ...  0.476719 -0.054693  0.004422   \n",
       " 1   -0.016997  0.410254  0.974238  ... -0.032713 -0.034402 -0.009860   \n",
       " 2    0.105223 -0.508977  1.223822  ... -0.003202 -0.153627  0.036300   \n",
       " 3    2.700455 -3.231277  1.329972  ... -0.107178 -0.147169  0.031747   \n",
       " 4   -0.045720 -0.700259  0.870976  ...  0.018201  0.066744 -0.021926   \n",
       " ..        ...       ...       ...  ...       ...       ...       ...   \n",
       " 481 -0.059421 -3.598251 -4.211569  ... -0.004838 -0.091287  0.041912   \n",
       " 482  0.348931 -1.475352  1.568822  ... -0.034433 -0.042953  0.040259   \n",
       " 483  0.049257 -0.518389  0.583607  ... -0.063548 -0.012666 -0.003693   \n",
       " 484 -1.041486 -1.089004  2.002484  ... -0.030011  0.013377 -0.078091   \n",
       " 485 -1.975709  0.445208  1.373533  ... -0.127173  0.050826 -0.094793   \n",
       " \n",
       "          PC40      PC41      PC42      PC43          PC44          PC45  \\\n",
       " 0   -0.069785  0.038475 -0.023255  0.006670 -1.991456e-15 -9.065397e-16   \n",
       " 1    0.006766  0.001570  0.001489  0.004316 -7.985744e-16 -1.681834e-16   \n",
       " 2    0.129978 -0.003470 -0.001882  0.004238  5.612113e-16 -4.731144e-16   \n",
       " 3   -0.079834  0.010605  0.023182 -0.009628 -1.690712e-15 -1.057970e-15   \n",
       " 4   -0.047679 -0.018233 -0.003739 -0.000326 -8.078189e-16 -2.650970e-16   \n",
       " ..        ...       ...       ...       ...           ...           ...   \n",
       " 481 -0.069829 -0.024772  0.000058 -0.001223  5.302576e-16 -1.680066e-15   \n",
       " 482  0.031304  0.077343  0.006084 -0.003040  1.800233e-15 -6.677885e-16   \n",
       " 483 -0.000031  0.008529 -0.005882 -0.000340 -5.693851e-17  3.791380e-16   \n",
       " 484 -0.000691  0.015061 -0.001583 -0.001292 -1.932369e-16  3.471344e-16   \n",
       " 485  0.035571  0.064919 -0.003932 -0.007277  6.381974e-16 -1.447031e-15   \n",
       " \n",
       "              PC46  \n",
       " 0    6.342376e-16  \n",
       " 1    1.259122e-16  \n",
       " 2    2.813240e-16  \n",
       " 3    1.155674e-15  \n",
       " 4    2.617022e-16  \n",
       " ..            ...  \n",
       " 481 -8.054610e-16  \n",
       " 482  7.182478e-17  \n",
       " 483 -5.205548e-16  \n",
       " 484 -2.684596e-16  \n",
       " 485 -2.250219e-16  \n",
       " \n",
       " [486 rows x 46 columns],\n",
       " 'explained_var': array([0.4369068 , 0.58324309, 0.66546234, 0.71453258, 0.75463209,\n",
       "        0.78225127, 0.80899038, 0.83210655, 0.85220176, 0.8697531 ,\n",
       "        0.88578648, 0.90127829, 0.91529362, 0.92610916, 0.93612748,\n",
       "        0.94564914, 0.95371297, 0.96071822, 0.9668123 , 0.9718011 ,\n",
       "        0.97648929, 0.98040747, 0.98392593, 0.9866173 , 0.98919243,\n",
       "        0.99142643, 0.99336559, 0.99483812, 0.9960837 , 0.99726658,\n",
       "        0.99813378, 0.99866708, 0.99903882, 0.99933455, 0.9995789 ,\n",
       "        0.99972166, 0.99983321, 0.9999226 , 0.99995999, 0.99997851,\n",
       "        0.99999544, 0.99999869, 1.        , 1.        , 1.        ,\n",
       "        1.        ]),\n",
       " 'variance_ratio': array([4.36906796e-01, 1.46336291e-01, 8.22192562e-02, 4.90702322e-02,\n",
       "        4.00995141e-02, 2.76191785e-02, 2.67391066e-02, 2.31161783e-02,\n",
       "        2.00952038e-02, 1.75513404e-02, 1.60333844e-02, 1.54918125e-02,\n",
       "        1.40153289e-02, 1.08155325e-02, 1.00183234e-02, 9.52166058e-03,\n",
       "        8.06382907e-03, 7.00524774e-03, 6.09408336e-03, 4.98880253e-03,\n",
       "        4.68818620e-03, 3.91818122e-03, 3.51845925e-03, 2.69137253e-03,\n",
       "        2.57512463e-03, 2.23399869e-03, 1.93916743e-03, 1.47252927e-03,\n",
       "        1.24557680e-03, 1.18287702e-03, 8.67205488e-04, 5.33301251e-04,\n",
       "        3.71739947e-04, 2.95730199e-04, 2.44347851e-04, 1.42755895e-04,\n",
       "        1.11556755e-04, 8.93866984e-05, 3.73920013e-05, 1.85147716e-05,\n",
       "        1.69371026e-05, 3.24173977e-06, 1.31413598e-06, 0.00000000e+00,\n",
       "        0.00000000e+00, 0.00000000e+00]),\n",
       " 'model': PCA(n_components=46),\n",
       " 'scaler': None,\n",
       " 'pcp': 0.9999999999999996,\n",
       " 'topfeat':       PC    feature   loading  type\n",
       " 0    PC1         FG  0.208057  best\n",
       " 1    PC2       ORB%  0.306900  best\n",
       " 2    PC3       eFG%  0.350396  best\n",
       " 3    PC4       AST%  0.403960  best\n",
       " 4    PC5       STL%  0.458719  best\n",
       " 5    PC6       TOV%  0.323434  best\n",
       " 6    PC7        Age  0.657234  best\n",
       " 7    PC8       TOV%  0.386888  best\n",
       " 8    PC9       USG%  0.418310  best\n",
       " 9   PC10        3P% -0.380262  best\n",
       " 10  PC11        FT% -0.444507  best\n",
       " 11  PC12        FTr  0.562745  best\n",
       " 12  PC13        3P% -0.468941  best\n",
       " 13  PC14       ORB% -0.577861  best\n",
       " 14  PC15       USG% -0.371457  best\n",
       " 15  PC16        3P%  0.417457  best\n",
       " 16  PC17  Team_Rank -0.681110  best\n",
       " 17  PC18         GS  0.698255  best\n",
       " 18  PC19        DWS  0.295848  best\n",
       " 19  PC20        2P%  0.503595  best\n",
       " 20  PC21        DWS -0.379776  best\n",
       " 21  PC22        STL -0.510469  best\n",
       " 22  PC23       USG% -0.328858  best\n",
       " 23  PC24        BLK -0.401927  best\n",
       " 24  PC25         PF -0.392253  best\n",
       " 25  PC26        STL  0.382067  best\n",
       " 26  PC27          G  0.291709  best\n",
       " 27  PC28         PF -0.407111  best\n",
       " 28  PC29        ORB  0.652242  best\n",
       " 29  PC30       AST%  0.339285  best\n",
       " 30  PC31       VORP  0.484981  best\n",
       " 31  PC32        TS% -0.560919  best\n",
       " 32  PC33        TS% -0.462954  best\n",
       " 33  PC34         MP  0.741189  best\n",
       " 34  PC35       OBPM -0.489361  best\n",
       " 35  PC36        PER -0.657612  best\n",
       " 36  PC37        FTA  0.662731  best\n",
       " 37  PC38        3PA -0.580708  best\n",
       " 38  PC39        FG% -0.665397  best\n",
       " 39  PC40       TRB%  0.474830  best\n",
       " 40  PC41       TRB%  0.580931  best\n",
       " 41  PC42         WS -0.778171  best\n",
       " 42  PC43        BPM  0.728530  best\n",
       " 43  PC44         2P -0.644785  best\n",
       " 44  PC45        FGA -0.636944  best\n",
       " 45  PC46        TRB  0.686721  best\n",
       " 46  PC15       3PAr -0.343750  weak\n",
       " 47  PC41       DRB% -0.448030  weak\n",
       " 48  PC11       BLK% -0.432424  weak\n",
       " 49  PC42        OWS  0.555387  weak\n",
       " 50  PC36      WS/48  0.477848  weak\n",
       " 51   PC5       DBPM  0.448361  weak\n",
       " 52  PC38         3P  0.555350  weak\n",
       " 53  PC45        2PA  0.473057  weak\n",
       " 54  PC37         FT -0.563927  weak\n",
       " 55  PC46        DRB -0.512191  weak\n",
       " 56  PC33        AST  0.377268  weak\n",
       " 57  PC32        TOV  0.414432  weak\n",
       " 58  PC44        PTS  0.407712  weak,\n",
       " 'outliers':            y_proba      y_score  y_bool  y_bool_spe  y_score_spe\n",
       " 0    1.690054e-241  1442.996955    True        True    13.555129\n",
       " 1     9.834797e-01    65.486510   False       False     5.616566\n",
       " 2    5.687716e-239  1430.583062    True        True    10.346282\n",
       " 3    1.484080e-256  1516.818343    True        True    17.885306\n",
       " 4     2.483647e-02   120.472564    True        True     8.930688\n",
       " ..             ...          ...     ...         ...          ...\n",
       " 481   5.065138e-03   130.604531    True       False     5.140918\n",
       " 482   5.942702e-06   163.906796    True       False     8.440518\n",
       " 483   8.800904e-01    76.364148   False       False     4.295186\n",
       " 484   8.900695e-02   110.755374   False       False     4.733080\n",
       " 485   3.281379e-02   118.508166    True       False     5.583547\n",
       " \n",
       " [486 rows x 5 columns],\n",
       " 'outliers_params': {'paramT2': (5.0852942262308116e-18, 1.0191766493732255),\n",
       "  'paramSPE': (array([-5.73843670e-16,  1.37293012e-16]),\n",
       "   array([[2.05253527e+01, 2.16356600e-13],\n",
       "          [2.16356600e-13, 6.87470191e+00]]))}}"
      ]
     },
     "execution_count": 36,
     "metadata": {},
     "output_type": "execute_result"
    }
   ],
   "source": [
    "pca_1 = pca(n_components = None)    #instantiating the pca / using all variables in the data set will be analize\n",
    "results =pca_1.fit_transform(data_4_1)\n",
    "results"
   ]
  },
  {
   "cell_type": "code",
   "execution_count": 37,
   "id": "fb918f89-cfa4-43e4-8772-e95b064a15e2",
   "metadata": {},
   "outputs": [
    {
     "data": {
      "image/png": "[encoded data removed]",
      "text/plain": [
       "<Figure size 720x360 with 1 Axes>"
      ]
     },
     "metadata": {
      "needs_background": "light"
     },
     "output_type": "display_data"
    },
    {
     "data": {
      "text/plain": [
       "(<Figure size 720x360 with 1 Axes>,\n",
       " <AxesSubplot:title={'center':'Cumulative explained variance\\n 46 Principal Components explain [99.99%] of the variance.'}, xlabel='Principle Component', ylabel='Percentage explained variance'>)"
      ]
     },
     "execution_count": 37,
     "metadata": {},
     "output_type": "execute_result"
    },
    {
     "data": {
      "text/plain": [
       "<Figure size 432x288 with 0 Axes>"
      ]
     },
     "metadata": {},
     "output_type": "display_data"
    }
   ],
   "source": [
    "pca_1.plot(figsize=(10,5))                  #plot the explained variance ratios"
   ]
  },
  {
   "cell_type": "code",
   "execution_count": 51,
   "id": "b4cd4271-96a1-42b8-ac72-a544a87fe234",
   "metadata": {},
   "outputs": [
    {
     "name": "stdout",
     "output_type": "stream",
     "text": [
      "11 PCs are necessary to explain 90.0% of variance\n"
     ]
    }
   ],
   "source": [
    "#acumulated explained variance\n",
    "#pca_1.results['explained_var']\n",
    "#looking for how many PCs are needed to achive to explained v_p % of variance\n",
    "v_percentage=0.9\n",
    "n_pc = len(pca_1.results['explained_var'][pca_1.results['explained_var'] <  v_percentage])\n",
    "print('{} PCs are necessary to explain {}% of variance'. format(n_pc, v_percentage*100))"
   ]
  },
  {
   "cell_type": "code",
   "execution_count": 39,
   "id": "fea1594e-ac0b-4a44-b7c3-707b9990fad4",
   "metadata": {
    "tags": []
   },
   "outputs": [
    {
     "name": "stdout",
     "output_type": "stream",
     "text": [
      "[pca] >Plot PC1 vs PC2 with loadings.\n"
     ]
    },
    {
     "data": {
      "image/png": "[encoded data removed]",
      "text/plain": [
       "<Figure size 1080x720 with 1 Axes>"
      ]
     },
     "metadata": {
      "needs_background": "light"
     },
     "output_type": "display_data"
    },
    {
     "data": {
      "text/plain": [
       "(<Figure size 1080x720 with 1 Axes>,\n",
       " <AxesSubplot:title={'center':'46 Principal Components explain [99.99%] of the variance'}, xlabel='PC1 (43.6% expl.var)', ylabel='PC2 (14.6% expl.var)'>)"
      ]
     },
     "execution_count": 39,
     "metadata": {},
     "output_type": "execute_result"
    }
   ],
   "source": [
    "#Plotting  the first two components\n",
    "ax =pca_1.biplot(n_feat = 11, legend = False, label =False, cmap = None) \n",
    "ax"
   ]
  },
  {
   "cell_type": "markdown",
   "id": "795cfb45-d11d-4a9f-a0de-af3162aa6840",
   "metadata": {},
   "source": [
    "### 2.2 PCA for data without outliers "
   ]
  },
  {
   "cell_type": "code",
   "execution_count": 40,
   "id": "8252038c-dc37-4785-886d-d6e00b08def1",
   "metadata": {
    "collapsed": true,
    "jupyter": {
     "outputs_hidden": true
    },
    "tags": []
   },
   "outputs": [
    {
     "name": "stdout",
     "output_type": "stream",
     "text": [
      "[pca] >n_components is set to 46\n",
      "[pca] >Processing dataframe..\n",
      "[pca] >The PCA reduction is performed on the [47] columns of the input dataframe.\n",
      "[pca] >Fit using PCA.\n",
      "[pca] >Compute loadings and PCs.\n",
      "[pca] >Compute explained variance.\n",
      "[pca] >Outlier detection using Hotelling T2 test with alpha=[0.05] and n_components=[46]\n",
      "[pca] >Outlier detection using SPE/DmodX with n_std=[2]\n"
     ]
    },
    {
     "data": {
      "text/plain": [
       "{'loadings':       Team_Rank           Age             G            GS            MP  \\\n",
       " PC1   -0.160131  4.180986e-02  2.474573e-01  1.967449e-01  2.727623e-01   \n",
       " PC2    0.035588 -1.416899e-02 -3.954991e-02 -3.600768e-02 -7.750896e-02   \n",
       " PC3   -0.056611 -1.414905e-01  5.132587e-02  9.428896e-02  4.457200e-02   \n",
       " PC4   -0.055438  6.122629e-02  2.069153e-01  5.323342e-02  8.510953e-02   \n",
       " PC5   -0.076221  4.632089e-01 -3.451627e-02 -2.364970e-02 -3.413216e-02   \n",
       " PC6   -0.599797  6.212250e-01 -5.889098e-02  6.637184e-03 -2.930014e-02   \n",
       " PC7   -0.106878 -1.377584e-01 -3.035606e-01 -1.295220e-02 -1.202256e-01   \n",
       " PC8   -0.092463  5.554754e-02 -1.314636e-01  3.165390e-01  5.668310e-02   \n",
       " PC9    0.539699  4.012342e-01  2.092335e-01 -4.117930e-01  1.546370e-02   \n",
       " PC10   0.342413  2.817440e-01 -2.119553e-01  2.602871e-01  1.482164e-02   \n",
       " PC11   0.242034  5.261301e-02 -2.705199e-01  5.785440e-01  3.709937e-02   \n",
       " PC12   0.015705  2.107115e-01 -8.295549e-02 -6.354685e-02 -6.249863e-03   \n",
       " PC13  -0.244450 -9.900365e-02  5.759800e-02 -1.865726e-01  4.668330e-02   \n",
       " PC14  -0.176130 -1.716742e-01 -4.435623e-02 -1.339574e-01  6.131793e-03   \n",
       " PC15   0.046146 -6.067641e-03  1.800524e-01 -4.582679e-02  2.993096e-03   \n",
       " PC16   0.085909  1.453867e-01  1.279535e-01  1.742345e-01 -4.874005e-02   \n",
       " PC17   0.052203  1.075165e-02  4.391618e-02 -5.593503e-02  9.816920e-02   \n",
       " PC18  -0.063241 -2.001588e-02  3.262498e-01  3.262882e-01 -1.700610e-02   \n",
       " PC19  -0.043267 -3.952428e-02 -2.281493e-01 -1.695765e-01  6.788507e-02   \n",
       " PC20   0.027231  2.735424e-02 -4.298443e-01 -1.426145e-01 -1.412744e-02   \n",
       " PC21   0.039644  3.880576e-03 -5.432554e-02  2.778509e-02  9.298320e-02   \n",
       " PC22  -0.015583 -1.903162e-02 -9.866037e-02 -7.856816e-02  4.911882e-02   \n",
       " PC23   0.009542 -2.510591e-03  2.127458e-01  1.197397e-01 -9.062297e-02   \n",
       " PC24   0.030631  3.884023e-03  2.671428e-01  1.691138e-02  1.550986e-01   \n",
       " PC25   0.012496 -6.939712e-03  1.145068e-01  4.767869e-03  2.464293e-02   \n",
       " PC26   0.011182  2.571040e-04 -1.268721e-01 -6.636254e-03 -3.965878e-02   \n",
       " PC27  -0.009765 -1.212614e-02  1.253295e-02 -1.506407e-02  5.954291e-02   \n",
       " PC28  -0.009166  2.577831e-03 -1.280769e-01 -2.832288e-02 -2.858583e-02   \n",
       " PC29  -0.010905 -1.033642e-02  1.070725e-01  3.569363e-02 -5.841195e-01   \n",
       " PC30   0.022711  8.088529e-03 -1.190057e-01 -3.385788e-02  2.919429e-01   \n",
       " PC31   0.006200 -5.193551e-03  4.777360e-02 -8.748736e-03  1.397470e-02   \n",
       " PC32  -0.006355 -5.719655e-03  4.326308e-02  1.286830e-02 -8.807087e-02   \n",
       " PC33  -0.012939 -1.976294e-03 -5.933928e-04 -3.257207e-02  4.164748e-01   \n",
       " PC34   0.007188 -3.687686e-03 -5.918770e-02 -2.741136e-02  3.220614e-01   \n",
       " PC35   0.002050  2.095461e-03 -1.406582e-02 -6.672748e-03  3.202397e-01   \n",
       " PC36  -0.005353 -6.345527e-03 -9.605165e-05  5.847923e-03  5.294355e-02   \n",
       " PC37   0.001481  1.822084e-03  2.927705e-02 -7.977029e-03  3.766860e-02   \n",
       " PC38  -0.000830  2.361329e-03  1.207381e-02  3.769271e-03 -2.424635e-02   \n",
       " PC39   0.004219  4.066979e-03  2.991178e-03  4.463349e-03 -2.184007e-02   \n",
       " PC40  -0.001239 -9.362089e-04 -2.520100e-03 -2.498771e-03  1.173488e-02   \n",
       " PC41   0.001319  1.836235e-03  7.017269e-03  2.293586e-03 -3.683266e-03   \n",
       " PC42  -0.002563 -1.392941e-03 -1.260539e-03  5.081292e-04  2.404789e-03   \n",
       " PC43   0.000292  4.977054e-04  1.186953e-03  1.180689e-03 -6.538031e-03   \n",
       " PC44   0.000000 -2.502214e-16  1.799859e-16  4.597523e-16  9.139572e-16   \n",
       " PC45  -0.000000 -1.177444e-16 -2.570071e-16  1.745311e-16  1.596659e-16   \n",
       " PC46  -0.000000  1.073360e-16 -2.674927e-17 -8.159286e-17  3.332635e-16   \n",
       " \n",
       "                PER           TS%          3PAr           FTr          ORB%  \\\n",
       " PC1   1.031453e-01  1.047190e-01  1.180836e-02 -6.040106e-03 -7.673681e-03   \n",
       " PC2   1.293810e-01  1.211699e-01 -2.830948e-01  1.317993e-01  3.346350e-01   \n",
       " PC3  -9.410706e-02 -2.691341e-01 -3.367171e-01  1.170223e-01  4.148240e-02   \n",
       " PC4  -2.992560e-01 -1.315391e-01  3.122857e-01 -1.721852e-01 -4.480040e-02   \n",
       " PC5   5.484295e-02  9.491181e-02 -1.102641e-01  6.810779e-02 -1.297394e-01   \n",
       " PC6  -1.994878e-02 -6.798293e-02 -2.787254e-02 -2.803078e-02  8.414650e-02   \n",
       " PC7   1.907397e-01 -1.585113e-01  1.710464e-01 -1.017891e-01  2.015307e-02   \n",
       " PC8  -7.769572e-02 -1.381208e-01 -2.378942e-01 -1.343447e-01 -5.734226e-02   \n",
       " PC9   1.901472e-02 -1.150365e-01  1.055001e-02  8.556922e-02 -4.071538e-02   \n",
       " PC10 -1.294347e-02 -1.124164e-01  1.248435e-01 -2.973799e-01  5.385479e-02   \n",
       " PC11 -5.923329e-02  5.887278e-02  3.194299e-02  4.405943e-01  5.046530e-02   \n",
       " PC12 -9.828708e-03  8.190336e-02  8.424346e-02  4.846554e-01 -1.774521e-01   \n",
       " PC13 -1.207380e-02 -7.777902e-02  6.366857e-02  2.612582e-01  2.252568e-01   \n",
       " PC14 -4.450052e-02 -8.712388e-02  9.565289e-02  1.764920e-01 -1.010248e-01   \n",
       " PC15  1.510458e-02 -6.988912e-02 -1.617687e-01  7.032010e-02  2.721129e-02   \n",
       " PC16  1.283657e-01 -8.454742e-02  1.564032e-01 -2.333643e-02  4.292517e-01   \n",
       " PC17  8.393775e-03 -1.115691e-01 -3.155946e-01 -7.318876e-02  2.322697e-01   \n",
       " PC18  1.968644e-01  4.396598e-02  1.144149e-01  4.129528e-02 -2.335805e-01   \n",
       " PC19  3.850912e-02 -3.170739e-03  2.335138e-01 -4.331932e-03 -7.953216e-02   \n",
       " PC20 -9.905108e-02 -3.015829e-02 -8.906008e-02 -5.628063e-02 -1.176598e-01   \n",
       " PC21  1.771170e-02 -1.384669e-02 -2.052952e-01 -3.927657e-02 -2.279327e-01   \n",
       " PC22 -7.478504e-03  3.165604e-02  1.940794e-01 -2.145730e-02  2.051289e-01   \n",
       " PC23 -8.965343e-02 -1.218983e-01  2.556551e-01 -1.196968e-01 -4.897381e-02   \n",
       " PC24 -7.314434e-03 -4.234326e-02 -7.311291e-02  1.659617e-01 -2.320735e-02   \n",
       " PC25  1.133588e-01  1.546964e-01  3.375409e-03 -1.487197e-01 -1.673279e-01   \n",
       " PC26  1.311122e-01 -7.555051e-02  1.362172e-01  2.040413e-01 -4.490400e-02   \n",
       " PC27 -9.538059e-02  1.054266e-01  1.200084e-01  3.030546e-01 -1.628432e-01   \n",
       " PC28  1.712449e-02  1.392822e-01  1.869416e-01 -8.811105e-02  5.285923e-02   \n",
       " PC29 -1.535265e-01 -1.269802e-01 -9.214033e-02  6.963460e-03 -1.677498e-01   \n",
       " PC30  1.816926e-01 -1.032265e-01 -3.369799e-02 -8.352248e-02  2.471982e-02   \n",
       " PC31 -1.845582e-01  1.878586e-01  1.536441e-01  1.195989e-01  3.448106e-01   \n",
       " PC32  1.273726e-01  2.443981e-02  1.076976e-01  7.193519e-02  1.551685e-01   \n",
       " PC33  4.178241e-01  7.071990e-02  2.586097e-02 -4.473137e-02 -8.782288e-02   \n",
       " PC34 -2.636472e-01 -4.098546e-02 -3.533040e-02  2.330519e-02 -6.702237e-02   \n",
       " PC35 -5.566943e-01 -4.776258e-02  2.890669e-02 -2.189890e-02  2.397451e-02   \n",
       " PC36  1.934796e-01 -6.745120e-01  1.617526e-01  1.398772e-01 -7.542079e-03   \n",
       " PC37 -2.677370e-02 -2.743199e-01  3.557626e-02  5.358173e-02 -2.829187e-02   \n",
       " PC38 -1.096097e-02  1.561257e-01 -8.640723e-02 -6.025764e-02 -5.111909e-02   \n",
       " PC39  7.074827e-02 -5.430899e-04 -1.057302e-01  4.163788e-03  2.898181e-02   \n",
       " PC40  1.590530e-02 -1.944878e-01 -1.688823e-01  4.853269e-02 -1.244906e-01   \n",
       " PC41 -5.466861e-02 -7.877241e-02 -7.864205e-02  1.571466e-02  2.711550e-01   \n",
       " PC42  3.508433e-03  3.828882e-02  1.915934e-02 -7.356800e-03 -9.620407e-02   \n",
       " PC43  3.841091e-03  6.748299e-03 -8.196373e-03  2.188609e-03  4.783990e-03   \n",
       " PC44  1.216897e-15 -1.339386e-15  1.015765e-15  7.899305e-16 -1.035275e-15   \n",
       " PC45 -3.773202e-16  2.951162e-16 -1.727049e-16  1.326764e-16  1.888133e-16   \n",
       " PC46  2.450169e-17 -1.417606e-16 -1.315431e-17 -1.369320e-16 -5.949606e-16   \n",
       " \n",
       "       ...           FT%       ORB       DRB       TRB           AST  \\\n",
       " PC1   ...  3.683783e-02  0.134403  0.197724  0.186378  1.400001e-01   \n",
       " PC2   ... -1.801111e-01  0.183328  0.072439  0.107096 -1.307743e-01   \n",
       " PC3   ... -1.269324e-01  0.078640  0.056819  0.065142  1.300504e-01   \n",
       " PC4   ... -7.422141e-02  0.039419  0.102439  0.087814 -8.039995e-02   \n",
       " PC5   ...  3.946026e-02 -0.094568 -0.112950 -0.111618  1.678323e-01   \n",
       " PC6   ...  9.999110e-02  0.033789  0.059817  0.054396 -7.018149e-02   \n",
       " PC7   ...  1.161556e-01 -0.033254  0.036801  0.017822 -6.767155e-02   \n",
       " PC8   ... -4.727709e-02  0.048726 -0.081708 -0.046837 -1.037489e-01   \n",
       " PC9   ...  2.005860e-01  0.093564  0.123882  0.119481  9.869498e-03   \n",
       " PC10  ... -5.545380e-01  0.029793  0.053877  0.048809  1.017512e-01   \n",
       " PC11  ...  2.555249e-01  0.033930  0.052699  0.049127  1.636315e-03   \n",
       " PC12  ... -3.531325e-01 -0.230732 -0.067997 -0.117505 -1.264811e-01   \n",
       " PC13  ... -3.499617e-01  0.114909  0.014760  0.044272  1.071281e-01   \n",
       " PC14  ... -8.979756e-02 -0.096704 -0.014071 -0.038488  1.306972e-01   \n",
       " PC15  ... -4.126505e-01 -0.011598 -0.109568 -0.085079 -9.114886e-03   \n",
       " PC16  ...  1.131141e-02  0.158405 -0.207415 -0.108847  1.003500e-01   \n",
       " PC17  ...  1.169215e-01 -0.262544 -0.147380 -0.185921  2.340182e-01   \n",
       " PC18  ... -9.155526e-02 -0.183937  0.064645 -0.005028  1.579530e-01   \n",
       " PC19  ... -8.002008e-02  0.150506  0.116280  0.130294  1.445058e-01   \n",
       " PC20  ... -5.061159e-02 -0.153048 -0.045795 -0.078459  1.095875e-01   \n",
       " PC21  ...  4.415570e-02 -0.200150  0.124871  0.035198  1.195425e-01   \n",
       " PC22  ...  8.774087e-02 -0.187688 -0.165620 -0.177857  3.287730e-01   \n",
       " PC23  ... -2.316797e-02 -0.160822 -0.229216 -0.217514  4.268672e-02   \n",
       " PC24  ...  5.914160e-02  0.042559 -0.141593 -0.093288 -1.974006e-01   \n",
       " PC25  ... -9.168605e-02 -0.161229 -0.018722 -0.060635 -1.308255e-01   \n",
       " PC26  ... -1.106116e-03  0.008757 -0.167471 -0.122373 -2.418346e-01   \n",
       " PC27  ...  1.378427e-02  0.264845  0.009733  0.083923  3.984856e-01   \n",
       " PC28  ...  6.553038e-03  0.332359 -0.139842 -0.008094 -1.220839e-01   \n",
       " PC29  ... -9.579741e-03  0.101797  0.111926  0.112947 -1.075105e-01   \n",
       " PC30  ... -5.751811e-02 -0.166022  0.346383  0.210292 -1.431166e-02   \n",
       " PC31  ...  5.426348e-02 -0.370444  0.195563  0.038629 -6.880321e-02   \n",
       " PC32  ... -4.173919e-02 -0.308672  0.263282  0.107018 -2.844114e-01   \n",
       " PC33  ... -2.741489e-02  0.114308 -0.126702 -0.061412 -1.250525e-01   \n",
       " PC34  ...  2.231586e-02  0.085826 -0.175695 -0.106199 -3.957574e-01   \n",
       " PC35  ... -4.298681e-03 -0.043724  0.057141  0.029962 -2.234873e-02   \n",
       " PC36  ...  1.096925e-01 -0.058109  0.030373  0.005833 -1.524806e-02   \n",
       " PC37  ...  5.209776e-02  0.053536 -0.003647  0.012777  1.444957e-02   \n",
       " PC38  ...  2.162087e-02  0.038081 -0.022633 -0.005858  1.179391e-01   \n",
       " PC39  ...  2.052242e-02 -0.065800  0.006977 -0.013843 -1.192654e-01   \n",
       " PC40  ...  1.488319e-02  0.027967 -0.014713 -0.002878  4.017580e-02   \n",
       " PC41  ...  6.325569e-03  0.006917  0.008547  0.008377  3.001845e-02   \n",
       " PC42  ... -4.402628e-03  0.001378 -0.008292 -0.005786 -2.526253e-03   \n",
       " PC43  ...  2.888039e-05  0.003653 -0.001333  0.000064  2.451736e-03   \n",
       " PC44  ...  6.938894e-16  0.000743  0.001914 -0.002566  2.595146e-15   \n",
       " PC45  ... -4.163336e-17 -0.165400 -0.426174  0.571393  3.287301e-16   \n",
       " PC46  ... -0.000000e+00  0.014891  0.038369 -0.051443 -3.747003e-16   \n",
       " \n",
       "                STL           BLK           TOV            PF       PTS  \n",
       " PC1   2.268989e-01  1.231319e-01  1.726513e-01  2.506868e-01  0.206641  \n",
       " PC2  -5.262509e-02  1.398940e-01 -9.052435e-02  1.329706e-02 -0.068047  \n",
       " PC3   1.061683e-01  7.363369e-02  1.757154e-01  1.170276e-01  0.013331  \n",
       " PC4   1.121952e-01  1.339506e-01 -7.222011e-02  1.484909e-01 -0.099992  \n",
       " PC5   1.676431e-01 -3.715547e-02  1.142871e-02 -5.475560e-02 -0.083737  \n",
       " PC6  -1.433905e-01 -1.134387e-02 -2.954465e-02 -4.052429e-02  0.004929  \n",
       " PC7   1.134201e-01  3.317568e-02 -8.832572e-02 -1.835249e-01  0.003839  \n",
       " PC8   7.594752e-02  4.164482e-02 -1.692326e-01 -1.090584e-01  0.034582  \n",
       " PC9  -5.588498e-03  2.154260e-02 -3.850709e-02  1.058491e-02  0.027468  \n",
       " PC10 -1.591250e-02 -7.263376e-02  7.300465e-02 -1.467507e-01  0.026926  \n",
       " PC11 -2.502899e-02 -7.750083e-02 -3.186186e-02 -2.229586e-02 -0.020971  \n",
       " PC12  4.972105e-02  8.735326e-02  6.354417e-02 -3.520837e-02  0.081889  \n",
       " PC13  1.802021e-01 -3.315556e-01 -3.789181e-02  8.923779e-03 -0.017902  \n",
       " PC14 -2.472962e-01  1.694458e-01 -9.878222e-02 -1.704442e-02 -0.019018  \n",
       " PC15 -5.564409e-02  1.160148e-01 -1.588178e-01 -2.242918e-02 -0.013507  \n",
       " PC16  8.072860e-04  2.031422e-01  4.862756e-02  2.791749e-01 -0.048195  \n",
       " PC17 -2.239047e-02 -2.765141e-01  9.290161e-02 -2.421164e-01  0.077158  \n",
       " PC18 -1.720894e-02 -5.007949e-02 -6.645556e-03 -2.013626e-02 -0.108789  \n",
       " PC19  3.031152e-02  2.377796e-01  1.008351e-01 -2.815598e-01  0.044806  \n",
       " PC20  3.550937e-02 -7.187568e-02  4.698851e-02  7.472938e-01 -0.015206  \n",
       " PC21  1.793872e-01  1.976195e-01 -1.414686e-01 -2.704124e-02  0.008579  \n",
       " PC22  4.976622e-01  9.535356e-02  1.922580e-01 -1.221220e-01 -0.049866  \n",
       " PC23 -2.309336e-01 -2.332955e-01 -3.631558e-02  8.835531e-02  0.101377  \n",
       " PC24  3.725652e-01 -2.168816e-02 -2.334290e-01 -6.293928e-03 -0.038952  \n",
       " PC25  2.168135e-01 -5.562689e-02 -6.326365e-02  1.921518e-02 -0.004324  \n",
       " PC26  1.593537e-01  1.162034e-01 -2.446441e-01  6.176815e-02  0.070566  \n",
       " PC27 -1.027828e-01 -2.674349e-01  9.586121e-02 -2.501020e-02 -0.051706  \n",
       " PC28  2.551311e-01 -3.050230e-01 -1.851939e-01  1.713917e-02  0.039943  \n",
       " PC29  1.955436e-01 -2.950625e-01  1.526313e-01  2.263976e-03  0.018018  \n",
       " PC30  1.110261e-01 -3.807004e-01 -2.475961e-01  4.249723e-02 -0.061876  \n",
       " PC31 -1.438927e-01 -1.292626e-01 -2.502510e-01  4.882820e-02  0.061952  \n",
       " PC32  9.987698e-02  2.496828e-02  4.245701e-01  1.482463e-02  0.049601  \n",
       " PC33 -2.201081e-01 -1.519521e-01  1.120730e-01  6.753186e-02 -0.011056  \n",
       " PC34 -6.991251e-03 -1.411552e-01  4.320062e-01 -8.359464e-02  0.015345  \n",
       " PC35  2.591507e-02  7.382720e-02 -8.884135e-02 -8.163987e-02 -0.062945  \n",
       " PC36 -2.402403e-02 -2.561635e-02  1.919828e-02  2.294587e-02 -0.016248  \n",
       " PC37 -8.979367e-03  1.139156e-02 -1.080868e-01 -7.475155e-03 -0.003942  \n",
       " PC38  2.791611e-03 -2.093253e-02 -1.355233e-01 -2.152027e-03  0.077929  \n",
       " PC39 -1.456161e-02 -2.726968e-02  1.716654e-01  1.033092e-02 -0.279991  \n",
       " PC40  3.408076e-03 -2.223521e-03 -4.230172e-02  4.878119e-03  0.116906  \n",
       " PC41  1.105908e-02  8.171929e-03 -1.974240e-02 -1.121027e-02  0.068547  \n",
       " PC42 -6.128239e-03  1.048756e-02 -2.328533e-03 -1.121194e-03  0.000811  \n",
       " PC43  1.800314e-03  4.719743e-04  1.286078e-04 -2.054057e-03 -0.011219  \n",
       " PC44  0.000000e+00 -1.332268e-15 -1.776357e-15  4.718448e-16 -0.607633  \n",
       " PC45  1.387779e-17 -0.000000e+00 -1.526557e-16 -1.249001e-16  0.412296  \n",
       " PC46 -1.110223e-16  1.387779e-16  2.775558e-16 -0.000000e+00  0.194062  \n",
       " \n",
       " [46 rows x 47 columns],\n",
       " 'PC':           PC1       PC2       PC3       PC4       PC5       PC6       PC7  \\\n",
       " 10   5.008762 -0.374877  2.281052 -2.237232  1.554267  1.818453  1.645135   \n",
       " 15  -2.188226 -1.437300  0.626859  0.848923 -0.029245  1.770439  0.832455   \n",
       " 29   3.312054 -1.290563 -1.935179  0.255330 -0.601021  0.119682 -0.696805   \n",
       " 31   0.521721 -0.021862  0.373647  1.458767 -0.357018  2.165190  0.407186   \n",
       " 35   6.711057  0.146412 -0.347942 -1.169141 -0.994095  0.304073  0.835298   \n",
       " ..        ...       ...       ...       ...       ...       ...       ...   \n",
       " 466 -4.650108 -0.756604 -0.001481 -0.231546 -0.338079 -1.243205 -0.766526   \n",
       " 467 -3.388499  0.284619  1.085600  0.920035  0.489467 -1.927752  0.593708   \n",
       " 469 -2.919175  2.577425 -1.094624 -1.109186  0.595434 -1.603412 -1.220440   \n",
       " 472 -4.710170 -0.402523 -0.340292  1.353861 -0.755029 -0.666606  0.894461   \n",
       " 477 -3.780285  1.204441 -2.132918 -1.126674 -0.840934 -0.899170  0.226118   \n",
       " \n",
       "           PC8       PC9      PC10  ...      PC37      PC38      PC39  \\\n",
       " 10   1.250517  0.614232  0.402808  ...  0.120144 -0.051681  0.016981   \n",
       " 15   1.034331 -0.553685 -0.335439  ... -0.046084  0.016751 -0.011059   \n",
       " 29   0.079604 -0.564665 -1.383177  ...  0.117687 -0.031525 -0.013106   \n",
       " 31   0.988739 -0.376669  0.393014  ... -0.006482 -0.008432  0.009382   \n",
       " 35   1.132002  0.198379 -0.297275  ... -0.084323 -0.065963 -0.002092   \n",
       " ..        ...       ...       ...  ...       ...       ...       ...   \n",
       " 466  1.085915  0.003849  0.603925  ...  0.101655 -0.033406 -0.031911   \n",
       " 467  0.558232 -0.363377  0.734837  ... -0.020487 -0.029594 -0.003268   \n",
       " 469  0.897746 -0.028615  0.099651  ... -0.017189 -0.038647  0.023203   \n",
       " 472  0.553254  0.634761  1.077537  ...  0.064610 -0.003202  0.001435   \n",
       " 477  0.655181  0.289951  0.354783  ... -0.023887  0.013022  0.008383   \n",
       " \n",
       "          PC40      PC41      PC42      PC43          PC44          PC45  \\\n",
       " 10  -0.000589 -0.001707  0.004484 -0.007234 -2.047717e-15 -4.196065e-16   \n",
       " 15  -0.016127  0.017398 -0.005689  0.018855  1.696682e-16  1.684844e-16   \n",
       " 29  -0.018773 -0.003633  0.001664 -0.006495 -1.451528e-15 -4.627940e-16   \n",
       " 31  -0.024791  0.023553 -0.013160  0.007094 -5.198832e-16  1.546783e-16   \n",
       " 35   0.000444  0.028231  0.013237 -0.007994 -2.194006e-15  9.119922e-17   \n",
       " ..        ...       ...       ...       ...           ...           ...   \n",
       " 466 -0.035390  0.011111 -0.004204 -0.016699  1.127262e-15  5.774042e-16   \n",
       " 467 -0.021511  0.001722  0.000799  0.004212  9.036310e-16  5.830539e-16   \n",
       " 469 -0.011087  0.010307 -0.030876  0.001503  6.960198e-16  1.005533e-15   \n",
       " 472  0.001321 -0.015287 -0.001280 -0.003618 -4.512108e-16 -5.227411e-17   \n",
       " 477 -0.000362  0.009306 -0.007101 -0.003113  1.509233e-15  4.246016e-16   \n",
       " \n",
       "              PC46  \n",
       " 10   1.436675e-16  \n",
       " 15   1.245610e-16  \n",
       " 29   8.312686e-16  \n",
       " 31   1.277791e-16  \n",
       " 35   3.716988e-16  \n",
       " ..            ...  \n",
       " 466  5.444555e-17  \n",
       " 467 -5.359378e-17  \n",
       " 469 -5.156291e-16  \n",
       " 472  3.135860e-16  \n",
       " 477 -2.830406e-16  \n",
       " \n",
       " [264 rows x 46 columns],\n",
       " 'explained_var': array([0.36843557, 0.526864  , 0.61073901, 0.67680333, 0.73247159,\n",
       "        0.78279415, 0.81512759, 0.84257339, 0.862698  , 0.88150973,\n",
       "        0.89805123, 0.91280053, 0.92666353, 0.93724347, 0.94668653,\n",
       "        0.95490691, 0.96261129, 0.96874413, 0.97405015, 0.97856714,\n",
       "        0.983015  , 0.98676495, 0.99018933, 0.99212535, 0.99361121,\n",
       "        0.99488222, 0.99596649, 0.99679806, 0.99748139, 0.99814551,\n",
       "        0.99867212, 0.99903482, 0.99932097, 0.99957054, 0.99971512,\n",
       "        0.99983183, 0.99990951, 0.9999505 , 0.99996812, 0.99998123,\n",
       "        0.99998967, 0.99999728, 1.        , 1.        , 1.        ,\n",
       "        1.        ]),\n",
       " 'variance_ratio': array([3.68435566e-01, 1.58428433e-01, 8.38750064e-02, 6.60643205e-02,\n",
       "        5.56682685e-02, 5.03225596e-02, 3.23334359e-02, 2.74457969e-02,\n",
       "        2.01246098e-02, 1.88117336e-02, 1.65415002e-02, 1.47493015e-02,\n",
       "        1.38629966e-02, 1.05799434e-02, 9.44305877e-03, 8.22037861e-03,\n",
       "        7.70438017e-03, 6.13283740e-03, 5.30602618e-03, 4.51698954e-03,\n",
       "        4.44785781e-03, 3.74995123e-03, 3.42437797e-03, 1.93602257e-03,\n",
       "        1.48585309e-03, 1.27101060e-03, 1.08427203e-03, 8.31576416e-04,\n",
       "        6.83330432e-04, 6.64117140e-04, 5.26606886e-04, 3.62703633e-04,\n",
       "        2.86144162e-04, 2.49575891e-04, 1.44573005e-04, 1.16710791e-04,\n",
       "        7.76789390e-05, 4.09986656e-05, 1.76198562e-05, 1.31018345e-05,\n",
       "        8.44947718e-06, 7.60300363e-06, 2.72202557e-06, 0.00000000e+00,\n",
       "        0.00000000e+00, 0.00000000e+00]),\n",
       " 'model': PCA(n_components=46),\n",
       " 'scaler': None,\n",
       " 'pcp': 0.9999999999999999,\n",
       " 'topfeat':       PC    feature   loading  type\n",
       " 0    PC1         MP  0.272762  best\n",
       " 1    PC2       ORB%  0.334635  best\n",
       " 2    PC3       3PAr -0.336717  best\n",
       " 3    PC4       USG% -0.444135  best\n",
       " 4    PC5        Age  0.463209  best\n",
       " 5    PC6        Age  0.621225  best\n",
       " 6    PC7       STL%  0.402598  best\n",
       " 7    PC8       TOV% -0.476554  best\n",
       " 8    PC9  Team_Rank  0.539699  best\n",
       " 9   PC10        FT% -0.554538  best\n",
       " 10  PC11         GS  0.578544  best\n",
       " 11  PC12        FTr  0.484655  best\n",
       " 12  PC13       BLK% -0.399119  best\n",
       " 13  PC14       STL% -0.465283  best\n",
       " 14  PC15        3P%  0.525642  best\n",
       " 15  PC16       ORB%  0.429252  best\n",
       " 16  PC17       3PAr -0.315595  best\n",
       " 17  PC18       TOV% -0.364136  best\n",
       " 18  PC19        DWS -0.370854  best\n",
       " 19  PC20         PF  0.747294  best\n",
       " 20  PC21        OWS  0.327398  best\n",
       " 21  PC22        STL  0.497662  best\n",
       " 22  PC23        OWS  0.344868  best\n",
       " 23  PC24        STL  0.372565  best\n",
       " 24  PC25        2P% -0.532241  best\n",
       " 25  PC26         FT -0.297832  best\n",
       " 26  PC27        AST  0.398486  best\n",
       " 27  PC28       OBPM -0.379523  best\n",
       " 28  PC29         MP -0.584119  best\n",
       " 29  PC30        BLK -0.380700  best\n",
       " 30  PC31        ORB -0.370444  best\n",
       " 31  PC32        TOV  0.424570  best\n",
       " 32  PC33       VORP  0.518473  best\n",
       " 33  PC34        TOV  0.432006  best\n",
       " 34  PC35      WS/48  0.562053  best\n",
       " 35  PC36        TS% -0.674512  best\n",
       " 36  PC37         3P  0.538633  best\n",
       " 37  PC38        FTA  0.578427  best\n",
       " 38  PC39         FT -0.364014  best\n",
       " 39  PC40       eFG%  0.571402  best\n",
       " 40  PC41       TRB% -0.669310  best\n",
       " 41  PC42         WS  0.733769  best\n",
       " 42  PC43        BPM  0.727027  best\n",
       " 43  PC44         FG  0.664206  best\n",
       " 44  PC45        TRB  0.571393  best\n",
       " 45  PC46        FGA -0.537675  best\n",
       " 46  PC20          G -0.429844  weak\n",
       " 47  PC35        PER -0.556694  weak\n",
       " 48  PC41       DRB%  0.470611  weak\n",
       " 49   PC5       AST%  0.342134  weak\n",
       " 50  PC43       DBPM -0.346529  weak\n",
       " 51  PC40        FG% -0.507234  weak\n",
       " 52  PC37        3PA -0.532296  weak\n",
       " 53  PC46         2P -0.474620  weak\n",
       " 54  PC46        2PA  0.399330  weak\n",
       " 55  PC45        DRB -0.426174  weak\n",
       " 56  PC44        PTS -0.607633  weak,\n",
       " 'outliers':            y_proba      y_score  y_bool  y_bool_spe  y_score_spe\n",
       " 10    5.653476e-05   153.851554    True       False     5.022771\n",
       " 15    9.984742e-01    56.939891   False       False     2.618046\n",
       " 29    7.811714e-01    81.247945   False       False     3.554611\n",
       " 31    9.999348e-01    48.915519   False       False     0.522179\n",
       " 35   4.151137e-238  1426.340864    True        True     6.712654\n",
       " ..             ...          ...     ...         ...          ...\n",
       " 466   2.430924e-01   101.066372   False       False     4.711258\n",
       " 467   7.659751e-01    81.880244   False       False     3.400431\n",
       " 469   3.800477e-01    95.521070   False       False     3.894188\n",
       " 472   1.961490e-01   103.381738   False       False     4.727338\n",
       " 477   5.259992e-01    90.456136   False       False     3.967522\n",
       " \n",
       " [264 rows x 5 columns],\n",
       " 'outliers_params': {'paramT2': (7.021173278261859e-18, 0.4214283846306165),\n",
       "  'paramSPE': (array([-4.27267649e-16,  4.20539024e-18]),\n",
       "   array([[7.16954081e+00, 6.51308327e-14],\n",
       "          [6.51308327e-14, 3.08292471e+00]]))}}"
      ]
     },
     "execution_count": 40,
     "metadata": {},
     "output_type": "execute_result"
    }
   ],
   "source": [
    "pca_2 = pca(n_components = None)    #instantiating the pca /all variables in the data set will be analize\n",
    "results =pca_2.fit_transform(data_4_2)\n",
    "results"
   ]
  },
  {
   "cell_type": "code",
   "execution_count": 41,
   "id": "00ea0b65-9395-47c7-9dab-6d11e121693e",
   "metadata": {},
   "outputs": [
    {
     "data": {
      "image/png": "[encoded data removed]",
      "text/plain": [
       "<Figure size 720x360 with 1 Axes>"
      ]
     },
     "metadata": {
      "needs_background": "light"
     },
     "output_type": "display_data"
    },
    {
     "data": {
      "text/plain": [
       "(<Figure size 720x360 with 1 Axes>,\n",
       " <AxesSubplot:title={'center':'Cumulative explained variance\\n 46 Principal Components explain [99.99%] of the variance.'}, xlabel='Principle Component', ylabel='Percentage explained variance'>)"
      ]
     },
     "execution_count": 41,
     "metadata": {},
     "output_type": "execute_result"
    },
    {
     "data": {
      "text/plain": [
       "<Figure size 432x288 with 0 Axes>"
      ]
     },
     "metadata": {},
     "output_type": "display_data"
    }
   ],
   "source": [
    "pca_2.plot(figsize=(10,5))  "
   ]
  },
  {
   "cell_type": "code",
   "execution_count": 50,
   "id": "4aa63610-f393-4441-9858-3d5a4457832d",
   "metadata": {},
   "outputs": [
    {
     "name": "stdout",
     "output_type": "stream",
     "text": [
      "11 PCs are necessary to explain 90.0% of variance\n"
     ]
    }
   ],
   "source": [
    "#looking for how many PCs are needed to achive to explained v_p % of variance\n",
    "v_percentage=0.9\n",
    "n_pc = len(pca_2.results['explained_var'][pca_2.results['explained_var'] <  v_percentage])\n",
    "print('{} PCs are necessary to explain {}% of variance'. format(n_pc, v_percentage*100))"
   ]
  },
  {
   "cell_type": "code",
   "execution_count": 43,
   "id": "b4d9a0c2-ae65-4bb9-a152-45a1e98e4dbb",
   "metadata": {},
   "outputs": [
    {
     "name": "stdout",
     "output_type": "stream",
     "text": [
      "[pca] >Plot PC1 vs PC2 with loadings.\n"
     ]
    },
    {
     "data": {
      "image/png": "[encoded data removed]",
      "text/plain": [
       "<Figure size 1080x720 with 1 Axes>"
      ]
     },
     "metadata": {
      "needs_background": "light"
     },
     "output_type": "display_data"
    },
    {
     "data": {
      "text/plain": [
       "(<Figure size 1080x720 with 1 Axes>,\n",
       " <AxesSubplot:title={'center':'46 Principal Components explain [99.99%] of the variance'}, xlabel='PC1 (36.8% expl.var)', ylabel='PC2 (15.8% expl.var)'>)"
      ]
     },
     "execution_count": 43,
     "metadata": {},
     "output_type": "execute_result"
    }
   ],
   "source": [
    "#Plotting  the first two components\n",
    "ax =pca_2.biplot(n_feat = 11, legend = False, label =False, cmap = None) \n",
    "ax"
   ]
  },
  {
   "cell_type": "markdown",
   "id": "263a2127-4114-4fb7-8222-d65a60b4de40",
   "metadata": {},
   "source": [
    "Conclusion from the PCA for the two datasets \\\n",
    "1 For both data sets, with and without outliers, the number of PCs to explain 90% of variance is the same \\\n",
    "2 Then, I considere as a best analysis the first one (with outliers) due to the second dataset have ~50% of the data for 2017 \n",
    "___________________"
   ]
  },
  {
   "cell_type": "markdown",
   "id": "8e90a5bd-749b-4e75-a54f-e87a4bd68b3b",
   "metadata": {},
   "source": [
    "### 2.3 PCA for data with dummy variables "
   ]
  },
  {
   "cell_type": "code",
   "execution_count": 44,
   "id": "df537c27-4a05-4197-aea3-cc2d92bf1501",
   "metadata": {},
   "outputs": [],
   "source": [
    "#Creating dummies \n",
    "t_1 = pd.get_dummies(data_1[\"Pos\"], prefix = \"Pos\", drop_first=True)#dummies for Pos\n",
    "t_2 = pd.get_dummies(data_1[\"Tm\"], prefix = \"Tm\", drop_first=True)  #dummies for Tm\n",
    "t_3 = t_1.join(t_2)                                                 \n",
    "columns_d = ['Pos_PF', 'Pos_PG', 'Pos_SF', 'Pos_SG', 'Tm_BOS', 'Tm_BRK', 'Tm_CHI', 'Tm_CHO', 'Tm_CLE', 'Tm_DAL', 'Tm_DEN',\n",
    "       'Tm_DET', 'Tm_GSW', 'Tm_HOU', 'Tm_IND', 'Tm_LAC', 'Tm_LAL', 'Tm_MEM',\n",
    "       'Tm_MIA', 'Tm_MIL', 'Tm_MIN', 'Tm_NOP', 'Tm_NYK', 'Tm_OKC', 'Tm_ORL',\n",
    "       'Tm_PHI', 'Tm_PHO', 'Tm_POR', 'Tm_SAC', 'Tm_SAS', 'Tm_TOR', 'Tm_UTA',\n",
    "       'Tm_WAS']\n",
    "#print(len(columns_d))\n",
    "t_3 =pd.DataFrame(scaler.fit_transform(t_3), columns = columns_d) #standardizing dummy variables\n",
    "\n",
    "#joining the dataset with only numerical variables and the one with dummy varaibles\n",
    "data_5 = data_3_1.join(t_3)         "
   ]
  },
  {
   "cell_type": "code",
   "execution_count": 45,
   "id": "42d2ca00-a6a3-415e-a087-757fee43ba76",
   "metadata": {
    "collapsed": true,
    "jupyter": {
     "outputs_hidden": true
    },
    "tags": []
   },
   "outputs": [
    {
     "name": "stdout",
     "output_type": "stream",
     "text": [
      "[pca] >n_components is set to 79\n",
      "[pca] >Processing dataframe..\n",
      "[pca] >The PCA reduction is performed on the [80] columns of the input dataframe.\n",
      "[pca] >Fit using PCA.\n",
      "[pca] >Compute loadings and PCs.\n",
      "[pca] >Compute explained variance.\n",
      "[pca] >Outlier detection using Hotelling T2 test with alpha=[0.05] and n_components=[79]\n",
      "[pca] >Outlier detection using SPE/DmodX with n_std=[2]\n"
     ]
    },
    {
     "data": {
      "text/plain": [
       "{'loadings':          Team_Rank           Age             G            GS            MP  \\\n",
       " PC1  -1.383929e-01  1.246070e-02  1.653534e-01  1.777124e-01  1.997192e-01   \n",
       " PC2   2.580202e-02 -3.249467e-02 -3.505987e-02 -3.821226e-02 -7.572191e-02   \n",
       " PC3   5.739379e-02  6.111750e-02 -3.968640e-02 -9.551187e-02 -6.526610e-02   \n",
       " PC4   7.098123e-02 -9.355998e-03 -1.985210e-01 -6.104987e-02 -1.279753e-01   \n",
       " PC5  -6.789622e-03  1.350543e-01  1.656637e-01  3.414910e-02  8.068596e-02   \n",
       " ...            ...           ...           ...           ...           ...   \n",
       " PC75 -5.592747e-04  5.211356e-06  8.647671e-04  8.653329e-04 -2.025749e-04   \n",
       " PC76 -1.841855e-04  1.873754e-04 -2.768154e-03  1.707668e-04  3.557561e-03   \n",
       " PC77  4.241887e-16 -2.454368e-17 -6.063041e-16 -1.572330e-16  6.066489e-16   \n",
       " PC78 -0.000000e+00  6.516289e-17  1.582248e-16 -4.412233e-16  5.354765e-16   \n",
       " PC79 -0.000000e+00 -7.185613e-17 -1.713608e-16 -3.601819e-16  4.917599e-16   \n",
       " \n",
       "                PER           TS%          3PAr           FTr          ORB%  \\\n",
       " PC1   1.681983e-01  1.154258e-01 -3.262926e-02  4.053257e-02  1.232504e-02   \n",
       " PC2   1.126486e-01  1.325761e-01 -2.453314e-01  1.428170e-01  3.024847e-01   \n",
       " PC3   1.903392e-01  3.377507e-01  9.722616e-02  1.031352e-01 -7.527904e-02   \n",
       " PC4   1.256608e-01 -9.579261e-02 -2.440459e-01  2.012562e-01  8.230813e-02   \n",
       " PC5  -1.480154e-01 -5.595025e-02  9.068293e-02 -1.420927e-01 -1.152449e-01   \n",
       " ...            ...           ...           ...           ...           ...   \n",
       " PC75 -7.871711e-04  2.764238e-03  1.932162e-03 -7.076470e-04  4.080615e-03   \n",
       " PC76  2.910145e-03  2.607026e-03  4.563120e-03  3.509172e-05  6.262022e-03   \n",
       " PC77  8.452080e-16  6.683104e-17 -5.579304e-17 -6.886630e-17  5.273644e-16   \n",
       " PC78 -4.180562e-16 -3.907215e-16  1.596087e-16 -8.989288e-17 -4.434143e-16   \n",
       " PC79 -3.803852e-16  2.958279e-17 -1.212463e-15 -1.175377e-16 -1.282884e-15   \n",
       " \n",
       "       ...        Tm_OKC        Tm_ORL        Tm_PHI        Tm_PHO  \\\n",
       " PC1   ...  1.300630e-03 -1.251410e-02 -5.552008e-03 -6.886238e-03   \n",
       " PC2   ...  4.504014e-03 -2.351532e-02  7.270256e-03 -5.353134e-03   \n",
       " PC3   ... -8.376398e-03 -7.561243e-02  1.102139e-02 -2.753520e-02   \n",
       " PC4   ... -1.349733e-02 -6.430708e-03  2.612816e-02 -1.294530e-02   \n",
       " PC5   ...  1.295674e-02 -8.428068e-03 -5.189371e-02 -7.473883e-02   \n",
       " ...   ...           ...           ...           ...           ...   \n",
       " PC75  ... -3.278189e-04 -5.161952e-04  8.789319e-04 -8.918932e-04   \n",
       " PC76  ... -8.935915e-05 -4.576602e-04 -5.745146e-04 -1.679233e-03   \n",
       " PC77  ... -5.204170e-18 -8.326673e-17 -2.636780e-16 -1.179612e-16   \n",
       " PC78  ... -7.199102e-17 -1.275022e-16  1.153591e-16 -2.346214e-16   \n",
       " PC79  ...  5.551115e-17  2.775558e-17  5.551115e-17  1.162265e-16   \n",
       " \n",
       "             Tm_POR        Tm_SAC        Tm_SAS        Tm_TOR        Tm_UTA  \\\n",
       " PC1   5.699246e-03 -2.590101e-03  8.843803e-03  6.194142e-03  8.352234e-03   \n",
       " PC2  -4.680177e-03 -2.196906e-03  7.563770e-03  1.241920e-02  1.336762e-02   \n",
       " PC3  -6.382808e-04  2.135244e-02  4.177830e-02  2.092355e-02  2.335346e-02   \n",
       " PC4  -4.056995e-02  1.656878e-02  3.931753e-03  2.538884e-03 -2.624208e-03   \n",
       " PC5  -1.606123e-02 -2.468825e-02  1.086341e-01  2.103153e-02  5.348832e-02   \n",
       " ...            ...           ...           ...           ...           ...   \n",
       " PC75  2.341528e-04 -9.129814e-04 -1.580705e-03  4.020302e-04 -2.812814e-04   \n",
       " PC76 -1.011613e-03 -1.229404e-03  3.464498e-04  8.079791e-05  4.269258e-04   \n",
       " PC77 -7.632783e-17 -1.110223e-16  2.775558e-17 -2.081668e-16  0.000000e+00   \n",
       " PC78 -3.122502e-17 -3.252607e-18 -5.204170e-17  7.199102e-17 -5.681219e-17   \n",
       " PC79 -9.714451e-17 -1.942890e-16  5.637851e-17 -2.732189e-17  3.191891e-16   \n",
       " \n",
       "             Tm_WAS  \n",
       " PC1   3.223998e-03  \n",
       " PC2   1.294471e-02  \n",
       " PC3  -1.861028e-02  \n",
       " PC4  -3.185404e-02  \n",
       " PC5  -4.728138e-02  \n",
       " ...            ...  \n",
       " PC75 -4.897909e-04  \n",
       " PC76  2.479417e-04  \n",
       " PC77  8.326673e-17  \n",
       " PC78  3.469447e-18  \n",
       " PC79 -1.249001e-16  \n",
       " \n",
       " [79 rows x 80 columns],\n",
       " 'PC':            PC1       PC2       PC3       PC4       PC5       PC6       PC7  \\\n",
       " 0    13.508081 -1.117062  0.753745  2.712739 -0.680281  3.148894  0.715438   \n",
       " 1     5.665629  0.450829 -0.327943 -0.302819  0.791044  0.489978  0.882137   \n",
       " 2    10.435827  0.902296  1.461783  0.588640  0.251422  3.487029 -0.092625   \n",
       " 3    17.352758 -4.877005  0.708512  5.358335 -0.570824  3.345085  1.157496   \n",
       " 4     8.247316 -3.687920  2.411423  2.586580  0.214395  1.785105  0.081753   \n",
       " ..         ...       ...       ...       ...       ...       ...       ...   \n",
       " 481  -5.236446 -0.094320  0.667041  1.361646 -2.081980  0.601306 -0.463390   \n",
       " 482  -8.383641 -1.574615 -6.246265  1.326965 -1.578837  0.467760 -0.559990   \n",
       " 483  -4.294014 -0.891096  4.346156  1.193588 -0.877706 -1.585937 -1.544382   \n",
       " 484  -4.625127  1.091628  4.845013 -2.500999  0.102499 -0.477494 -3.187395   \n",
       " 485  -5.494804 -0.712897 -0.174939  1.580634 -3.717881  2.445651  0.023917   \n",
       " \n",
       "           PC8       PC9      PC10  ...      PC70      PC71      PC72  \\\n",
       " 0    0.032601 -2.784047 -1.801835  ... -0.164586  0.119770 -0.017888   \n",
       " 1    0.199847  0.390416  0.039213  ... -0.045356  0.015722 -0.042451   \n",
       " 2    0.835859 -1.337827 -0.106677  ... -0.117645 -0.022581  0.029296   \n",
       " 3    1.712315 -0.530001 -2.536672  ... -0.181542  0.139760  0.030759   \n",
       " 4   -0.407071 -0.072705  0.430081  ...  0.114672 -0.023384  0.000620   \n",
       " ..        ...       ...       ...  ...       ...       ...       ...   \n",
       " 481  2.976064 -2.930013 -0.113223  ... -0.067329 -0.036227  0.038666   \n",
       " 482  1.828404 -2.333555 -0.370638  ...  0.030132 -0.097799  0.055321   \n",
       " 483 -1.296262  0.218433  0.338658  ...  0.005252 -0.055141  0.008105   \n",
       " 484 -1.882981 -0.702694 -0.166256  ... -0.056126  0.064410 -0.095455   \n",
       " 485 -1.699627 -3.498712 -0.876390  ... -0.020853  0.096900 -0.126652   \n",
       " \n",
       "          PC73      PC74      PC75      PC76          PC77          PC78  \\\n",
       " 0   -0.053575  0.008968  0.025857 -0.009678 -2.933100e-15 -8.763790e-16   \n",
       " 1   -0.006186  0.014507 -0.003078 -0.004890 -1.115185e-15  1.822292e-16   \n",
       " 2    0.101464  0.026251  0.004523 -0.004294 -2.945801e-15  1.905150e-15   \n",
       " 3   -0.045374 -0.002158 -0.025437  0.005055 -3.186607e-15 -2.378329e-15   \n",
       " 4   -0.038305  0.003387 -0.002100 -0.002366 -1.231683e-15 -3.164926e-17   \n",
       " ..        ...       ...       ...       ...           ...           ...   \n",
       " 481 -0.040423 -0.039083  0.001739  0.003172  6.746508e-16 -1.536752e-15   \n",
       " 482  0.018518  0.061537 -0.012756 -0.001635  1.725198e-15 -1.832401e-15   \n",
       " 483 -0.028388  0.014588  0.004349  0.001982  1.748456e-15  1.662343e-16   \n",
       " 484  0.002260  0.013564  0.000762  0.002123  1.247951e-15 -6.600578e-16   \n",
       " 485  0.039023  0.032481  0.007864  0.005298 -1.059703e-16 -3.743658e-16   \n",
       " \n",
       "              PC79  \n",
       " 0   -7.179846e-16  \n",
       " 1   -1.193323e-15  \n",
       " 2    6.343822e-16  \n",
       " 3    5.165266e-16  \n",
       " 4    3.373604e-16  \n",
       " ..            ...  \n",
       " 481 -7.269818e-16  \n",
       " 482  6.598374e-17  \n",
       " 483 -9.137737e-16  \n",
       " 484 -8.388810e-16  \n",
       " 485 -4.938185e-16  \n",
       " \n",
       " [486 rows x 79 columns],\n",
       " 'explained_var': array([0.25704895, 0.34742383, 0.39747421, 0.43173386, 0.4572255 ,\n",
       "        0.47702916, 0.49518233, 0.51227123, 0.52892565, 0.5449507 ,\n",
       "        0.56033296, 0.57525873, 0.58975634, 0.60417363, 0.61786827,\n",
       "        0.6313716 , 0.6448191 , 0.65811501, 0.67127833, 0.68442716,\n",
       "        0.697535  , 0.71060094, 0.72364312, 0.73667656, 0.74967839,\n",
       "        0.76265788, 0.77560824, 0.78854945, 0.80148779, 0.81441814,\n",
       "        0.82716317, 0.83979342, 0.8521779 , 0.86425843, 0.87618714,\n",
       "        0.88789102, 0.8985695 , 0.90848881, 0.91803969, 0.92677016,\n",
       "        0.93514048, 0.94309526, 0.95061798, 0.95691702, 0.96241192,\n",
       "        0.96746956, 0.9722559 , 0.97641085, 0.97997934, 0.98306111,\n",
       "        0.98544507, 0.98763045, 0.98949732, 0.99113567, 0.99251687,\n",
       "        0.99381401, 0.99488675, 0.99576715, 0.99663829, 0.99731767,\n",
       "        0.99793538, 0.9984437 , 0.99889615, 0.99918358, 0.99941743,\n",
       "        0.9995974 , 0.99974707, 0.99981606, 0.99987761, 0.99992486,\n",
       "        0.9999655 , 0.99998561, 0.99999211, 0.99999751, 0.99999929,\n",
       "        1.        , 1.        , 1.        , 1.        ]),\n",
       " 'variance_ratio': array([2.57048947e-01, 9.03748849e-02, 5.00503735e-02, 3.42596509e-02,\n",
       "        2.54916457e-02, 1.98036602e-02, 1.81531653e-02, 1.70889070e-02,\n",
       "        1.66544192e-02, 1.60250473e-02, 1.53822585e-02, 1.49257730e-02,\n",
       "        1.44976063e-02, 1.44172901e-02, 1.36946375e-02, 1.35033386e-02,\n",
       "        1.34474918e-02, 1.32959096e-02, 1.31633220e-02, 1.31488347e-02,\n",
       "        1.31078386e-02, 1.30659364e-02, 1.30421782e-02, 1.30334448e-02,\n",
       "        1.30018323e-02, 1.29794863e-02, 1.29503590e-02, 1.29412113e-02,\n",
       "        1.29383365e-02, 1.29303512e-02, 1.27450348e-02, 1.26302470e-02,\n",
       "        1.23844792e-02, 1.20805263e-02, 1.19287119e-02, 1.17038793e-02,\n",
       "        1.06784819e-02, 9.91931244e-03, 9.55087651e-03, 8.73046795e-03,\n",
       "        8.37032659e-03, 7.95478107e-03, 7.52271716e-03, 6.29903912e-03,\n",
       "        5.49489859e-03, 5.05764071e-03, 4.78633883e-03, 4.15495493e-03,\n",
       "        3.56848871e-03, 3.08176760e-03, 2.38396269e-03, 2.18537649e-03,\n",
       "        1.86686916e-03, 1.63835390e-03, 1.38119590e-03, 1.29714158e-03,\n",
       "        1.07274240e-03, 8.80402846e-04, 8.71134021e-04, 6.79387658e-04,\n",
       "        6.17703657e-04, 5.08319783e-04, 4.52447379e-04, 2.87431839e-04,\n",
       "        2.33851115e-04, 1.79971762e-04, 1.49667678e-04, 6.89943857e-05,\n",
       "        6.15453895e-05, 4.72482679e-05, 4.06410188e-05, 2.01139115e-05,\n",
       "        6.49821837e-06, 5.40004207e-06, 1.77874299e-06, 7.11836701e-07,\n",
       "        0.00000000e+00, 0.00000000e+00, 0.00000000e+00]),\n",
       " 'model': PCA(n_components=79),\n",
       " 'scaler': None,\n",
       " 'pcp': 1.0000000000000004,\n",
       " 'topfeat':       PC feature   loading  type\n",
       " 0    PC1      FG  0.207566  best\n",
       " 1    PC2    ORB%  0.302485  best\n",
       " 2    PC3    eFG%  0.342133  best\n",
       " 3    PC4    AST%  0.407281  best\n",
       " 4    PC5    DBPM  0.409081  best\n",
       " ..   ...     ...       ...   ...\n",
       " 93  PC25  Tm_LAL -0.366310  weak\n",
       " 94  PC30  Tm_MIN -0.367642  weak\n",
       " 95  PC28  Tm_NYK  0.453822  weak\n",
       " 96  PC19  Tm_PHI  0.424315  weak\n",
       " 97  PC19  Tm_POR -0.398738  weak\n",
       " \n",
       " [98 rows x 4 columns],\n",
       " 'outliers':            y_proba      y_score  y_bool  y_bool_spe  y_score_spe\n",
       " 0    2.378593e-219  1511.049950    True        True    13.554191\n",
       " 1     9.320988e-01   132.345265   False       False     5.683537\n",
       " 2    2.436311e-216  1495.583931    True        True    10.474761\n",
       " 3    1.165892e-234  1589.431434    True        True    18.025077\n",
       " 4     8.693767e-02   182.695478   False        True     9.034322\n",
       " ..             ...          ...     ...         ...          ...\n",
       " 481   2.395494e-02   195.066895    True       False     5.237296\n",
       " 482   3.522411e-04   225.289612    True       False     8.530231\n",
       " 483   9.521471e-01   129.610758   False       False     4.385499\n",
       " 484   4.193904e-01   160.969229   False       False     4.752205\n",
       " 485   9.583295e-02   181.636526   False       False     5.540856\n",
       " \n",
       " [486 rows x 5 columns],\n",
       " 'outliers_params': {'paramT2': (7.402643493880296e-18, 1.0111661502679545),\n",
       "  'paramSPE': (array([2.23506627e-15, 2.33466653e-16]),\n",
       "   array([[2.05759537e+01, 1.23063072e-13],\n",
       "          [1.23063072e-13, 7.23422317e+00]]))}}"
      ]
     },
     "execution_count": 45,
     "metadata": {},
     "output_type": "execute_result"
    }
   ],
   "source": [
    "pca_3 = pca(n_components = None)    #instantiating the pca /all variables in the data set will be analize\n",
    "results =pca_3.fit_transform(data_5)\n",
    "results"
   ]
  },
  {
   "cell_type": "code",
   "execution_count": 46,
   "id": "e7cf37ee-5d30-4d1e-bb20-b3aef2d92a58",
   "metadata": {},
   "outputs": [
    {
     "data": {
      "image/png": "[encoded data removed]",
      "text/plain": [
       "<Figure size 720x360 with 1 Axes>"
      ]
     },
     "metadata": {
      "needs_background": "light"
     },
     "output_type": "display_data"
    },
    {
     "data": {
      "text/plain": [
       "(<Figure size 720x360 with 1 Axes>,\n",
       " <AxesSubplot:title={'center':'Cumulative explained variance\\n 79 Principal Components explain [100.0%] of the variance.'}, xlabel='Principle Component', ylabel='Percentage explained variance'>)"
      ]
     },
     "execution_count": 46,
     "metadata": {},
     "output_type": "execute_result"
    },
    {
     "data": {
      "text/plain": [
       "<Figure size 432x288 with 0 Axes>"
      ]
     },
     "metadata": {},
     "output_type": "display_data"
    }
   ],
   "source": [
    "pca_3.plot(figsize=(10,5))  "
   ]
  },
  {
   "cell_type": "code",
   "execution_count": 53,
   "id": "9a451f14-6132-4d09-9a57-b18fc24a0b57",
   "metadata": {},
   "outputs": [
    {
     "name": "stdout",
     "output_type": "stream",
     "text": [
      "37 PCs are necessary to explain 90.0% of variance\n"
     ]
    }
   ],
   "source": [
    "#looking for how many PCs are needed to achive to explained v_p % of variance\n",
    "v_percentage=0.9\n",
    "n_pc = len(pca_3.results['explained_var'][pca_3.results['explained_var'] <  v_percentage])\n",
    "print('{} PCs are necessary to explain {}% of variance'. format(n_pc, v_percentage*100))"
   ]
  },
  {
   "cell_type": "code",
   "execution_count": 48,
   "id": "8576a38d-a8be-4432-9856-c5f25bf89420",
   "metadata": {},
   "outputs": [
    {
     "name": "stdout",
     "output_type": "stream",
     "text": [
      "[pca] >Plot PC1 vs PC2 with loadings.\n"
     ]
    },
    {
     "data": {
      "image/png": "[encoded data removed]",
      "text/plain": [
       "<Figure size 1080x720 with 1 Axes>"
      ]
     },
     "metadata": {
      "needs_background": "light"
     },
     "output_type": "display_data"
    },
    {
     "data": {
      "text/plain": [
       "(<Figure size 1080x720 with 1 Axes>,\n",
       " <AxesSubplot:title={'center':'79 Principal Components explain [100.0%] of the variance'}, xlabel='PC1 (25.7% expl.var)', ylabel='PC2 (9.03% expl.var)'>)"
      ]
     },
     "execution_count": 48,
     "metadata": {},
     "output_type": "execute_result"
    }
   ],
   "source": [
    "#Plotting  the first two components\n",
    "ax =pca_3.biplot(n_feat = 37, legend = False, label =False, cmap = None) \n",
    "ax"
   ]
  },
  {
   "cell_type": "markdown",
   "id": "d6eecbdc-a2e9-4fe0-9bf9-15cdb039a492",
   "metadata": {},
   "source": [
    "Conclusions about performing PCA using dummy variables. \\\n",
    "Using dummy variables increase the dataset dimensions, the more dimensions, the more dispersion. Then it could explain a greater number of PCs to describe the 90% of variance."
   ]
  },
  {
   "cell_type": "markdown",
   "id": "636e14e7-09d4-4cbf-86e7-0b3268074dce",
   "metadata": {
    "tags": []
   },
   "source": [
    "### Conclusions"
   ]
  },
  {
   "cell_type": "markdown",
   "id": "5120a38c-6672-405a-b5df-783686a3270b",
   "metadata": {},
   "source": [
    "EDA was presented, over a data set that combines two files related to NBA players. Some columns and rows were droped because they do not contribute to the proposed analysis\\\n",
    "First EDA was perform. Finding from the relationship analysis, that some variables were highly correlated each other, also it was supported by the dictionary appended to this work.\\\n",
    "Because the number of features and the existance of relationship I considered that PCA would redude the number of dimensions for further analysis.\\\n",
    "PCA was performed for three data sets with imputed missing values:\n",
    "1. with outliers and only numerical features\n",
    "2. without outliers and only numerical features\n",
    "3. with outliers and only numerical features and adding dummy variables for two categorical features\n",
    "\n",
    "Future work proposals:\n",
    "* Perform an analysis by player over time.\n",
    "* Consider to eliminate some columns that are rates of other column.\n",
    "* Perform PCA without creating dummy variables for \"Tm\" because it introduce many more dimensions."
   ]
  }
 ],
 "metadata": {
  "kernelspec": {
   "display_name": "Python 3",
   "language": "python",
   "name": "python3"
  },
  "language_info": {
   "codemirror_mode": {
    "name": "ipython",
    "version": 3
   },
   "file_extension": ".py",
   "mimetype": "text/x-python",
   "name": "python",
   "nbconvert_exporter": "python",
   "pygments_lexer": "ipython3",
   "version": "3.7.9"
  }
 },
 "nbformat": 4,
 "nbformat_minor": 5
}
